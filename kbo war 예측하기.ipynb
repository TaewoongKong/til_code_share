{
 "cells": [
  {
   "cell_type": "code",
   "execution_count": 1,
   "metadata": {},
   "outputs": [],
   "source": [
    "\n",
    "from selenium import webdriver\n",
    "from selenium.webdriver.common.keys import Keys\n",
    "from selenium.webdriver.support.ui import WebDriverWait\n",
    "from selenium.webdriver.support import expected_conditions as EC\n",
    "from selenium.common.exceptions import TimeoutException\n",
    "from selenium.common.exceptions import NoSuchElementException\n",
    "from selenium.webdriver.common.by import By\n",
    "from selenium.webdriver.support.ui import Select\n",
    "import pandas as pd\n",
    "import numpy as np\n",
    "import time\n",
    "\n",
    "\n",
    "\n",
    "from tqdm import tqdm_notebook\n",
    "\n"
   ]
  },
  {
   "cell_type": "code",
   "execution_count": 2,
   "metadata": {},
   "outputs": [],
   "source": [
    "import pandas as pd\n",
    "import numpy as np\n",
    "\n",
    "pd.set_option('display.max_rows', 100)\n",
    "pd.set_option('display.max_columns', 100)\n",
    "\n",
    "import matplotlib\n",
    "import matplotlib.pyplot as plt  # 파이플롯 사용\n",
    "from IPython.display import set_matplotlib_formats\n",
    "\n",
    "set_matplotlib_formats('retina')  # 한글코드를 더 선명하게 해주는 조치, 레티나 설정\n",
    "matplotlib.rc('font', family='AppleGothic') # 폰트 설정\n",
    "matplotlib.rc('axes', unicode_minus=False) # 마이너스 폰트가 깨지는 경우가 있으므로 조치\n",
    "\n",
    "import seaborn as sns\n",
    "sns.set_style('whitegrid')"
   ]
  },
  {
   "cell_type": "code",
   "execution_count": 3,
   "metadata": {},
   "outputs": [],
   "source": [
    "df = pd.read_csv(\"kbo_stat.csv\", engine='python')\n"
   ]
  },
  {
   "cell_type": "code",
   "execution_count": 4,
   "metadata": {},
   "outputs": [],
   "source": [
    "df.insert(3, 'war', -99)\n",
    "#df.insert(4, 'position', np.nan)\n"
   ]
  },
  {
   "cell_type": "code",
   "execution_count": null,
   "metadata": {},
   "outputs": [],
   "source": [
    "from tqdm import tqdm_notebook\n",
    "\n",
    "chromedriver = '/Users/taewoongkong/workspace/selenium_learning/chromedriver'\n",
    "main_driver = webdriver.Chrome(chromedriver)\n",
    "\n",
    "time.sleep(0.3)\n",
    "\n",
    "for year in tqdm_notebook(range(2002, 2020)):\n",
    "    print(f\"http://www.statiz.co.kr/stat_at.php?opt=0&sopt=0&re=0&ys={year}&ye={year}&se=0&te=&tm=&ty=2013&qu=auto&po=0&as=&ae=&hi=&un=&pl=&da=1&o1=WAR_ALL_ADJ&o2=TPA&de=1&lr=0&tr=&cv=&ml=2&sn=50&si=&cn=\")\n",
    "    main_driver.get(f\"http://www.statiz.co.kr/stat_at.php?opt=0&sopt=0&re=0&ys={year}&ye={year}&se=0&te=&tm=&ty=2013&qu=auto&po=0&as=&ae=&hi=&un=&pl=&da=1&o1=WAR_ALL_ADJ&o2=TPA&de=1&lr=0&tr=&cv=&ml=2&sn=50&si=&cn=\")\n",
    "    time.sleep(3)\n",
    "    \n",
    "    for num in range(3, 53):\n",
    "        temp_name = main_driver.find_element_by_css_selector(f\"#fixcol > table > tbody > tr:nth-child({num}) > td:nth-child(2) > a\").text\n",
    "        temp_war = main_driver.find_element_by_css_selector(f\"#fixcol > table > tbody > tr:nth-child({num}) > td:nth-child(4) > font > span\").text\n",
    "        #temp_position = main_driver.find_element_by_css_selector(f\"#fixcol > table > tbody > tr:nth-child({num}) > td:nth-child(3) > span > span:nth-child(3)\").text\n",
    "        print(temp_name)\n",
    "        print(temp_war)\n",
    "        #print(temp_position)\n",
    "\n",
    "\n",
    "        df.loc[(df['year'] == year) & (df['player_name'] == temp_name), 'war'] = temp_war\n",
    "        #df.loc[(df['year'] == year) & (df['player_name'] == temp_name), 'position'] = temp_position\n",
    "\n",
    "    time.sleep(3)\n",
    "\n",
    "main_driver.quit()\n"
   ]
  },
  {
   "cell_type": "code",
   "execution_count": 10,
   "metadata": {},
   "outputs": [],
   "source": [
    "df['war'] = df['war'].astype(float)"
   ]
  },
  {
   "cell_type": "code",
   "execution_count": 19,
   "metadata": {},
   "outputs": [],
   "source": [
    "df_war = df.loc[~(df['war'] == -99)]"
   ]
  },
  {
   "cell_type": "code",
   "execution_count": 15,
   "metadata": {},
   "outputs": [],
   "source": [
    "df_war.to_csv(\"df_war.csv\", mode='a', header=True)"
   ]
  },
  {
   "cell_type": "code",
   "execution_count": 20,
   "metadata": {},
   "outputs": [],
   "source": [
    "cols = df_war.columns.tolist()\n",
    "cols = cols[:3] + cols[4:] + [cols[3]]\n",
    "df_war = df_war[cols]"
   ]
  },
  {
   "cell_type": "code",
   "execution_count": 22,
   "metadata": {},
   "outputs": [],
   "source": [
    "X_df = df_war.drop(['player_name', 'team'], axis=1).iloc[:, :-1]\n",
    "y_df = pd.merge(df_war.iloc[:, 0], df_war.iloc[:, -1], left_on=None, right_on=None, left_index=True, right_index=True)\n",
    "\n"
   ]
  },
  {
   "cell_type": "code",
   "execution_count": 61,
   "metadata": {},
   "outputs": [],
   "source": [
    "X_train = X_df.loc[X_df['year'] < 2019].iloc[:, 1:]\n",
    "X_test = X_df.loc[X_df['year'] == 2019].iloc[:, 1:]\n",
    "\n",
    "y_train = y_df.loc[X_df['year'] < 2019].iloc[:, -1]\n",
    "y_test = y_df.loc[X_df['year'] == 2019].iloc[:, -1]\n",
    "\n"
   ]
  },
  {
   "cell_type": "code",
   "execution_count": 46,
   "metadata": {},
   "outputs": [],
   "source": [
    "from sklearn.metrics import mean_squared_error, r2_score, mean_absolute_error\n",
    "\n",
    "def get_rmse(model):\n",
    "    pred = model.predict(X_test)\n",
    "    mse = mean_squared_error(y_test , pred)\n",
    "    rmse = np.sqrt(mse)\n",
    "    print('{0} RMSE: {1}'.format(model.__class__.__name__,np.round(rmse, 3)))\n",
    "    return rmse\n",
    "\n",
    "# 적용 모델이 여럿일 때 한번에 굴리기\n",
    "def get_rmses(models):\n",
    "    rmses = [ ]\n",
    "    for model in models:\n",
    "        rmse = get_rmse(model)\n",
    "        rmses.append(rmse)\n",
    "    return rmses"
   ]
  },
  {
   "cell_type": "code",
   "execution_count": 62,
   "metadata": {},
   "outputs": [
    {
     "name": "stdout",
     "output_type": "stream",
     "text": [
      "LinearRegression RMSE: 0.67\n",
      "Ridge RMSE: 0.67\n",
      "Lasso RMSE: 0.724\n"
     ]
    },
    {
     "data": {
      "text/plain": [
       "[0.6704361995684213, 0.6704312047385093, 0.7243885325818251]"
      ]
     },
     "execution_count": 62,
     "metadata": {},
     "output_type": "execute_result"
    }
   ],
   "source": [
    "from sklearn.linear_model import LinearRegression, Ridge, Lasso\n",
    "\n",
    "\n",
    "lr_reg = LinearRegression()\n",
    "lr_reg.fit(X_train, y_train)\n",
    "\n",
    "ridge_reg = Ridge(alpha = 1.0)  # 1.0 alpha가 디폴트임\n",
    "ridge_reg.fit(X_train, y_train)\n",
    "\n",
    "lasso_reg = Lasso()\n",
    "lasso_reg.fit(X_train, y_train)\n",
    "\n",
    "models = [lr_reg, ridge_reg, lasso_reg]\n",
    "get_rmses(models)"
   ]
  },
  {
   "cell_type": "code",
   "execution_count": 63,
   "metadata": {},
   "outputs": [
    {
     "name": "stdout",
     "output_type": "stream",
     "text": [
      "알스퀘어드(Variance score) : 0.742\n"
     ]
    }
   ],
   "source": [
    "# 예시 모델 릿지\n",
    "ridge_reg = Ridge()\n",
    "ridge_reg.fit(X_train, y_train)\n",
    "\n",
    "pred = ridge_reg.predict(X_test)\n",
    "\n",
    "print('알스퀘어드(Variance score) : {0:.3f}'.format(r2_score(y_test, pred)))"
   ]
  },
  {
   "cell_type": "code",
   "execution_count": 64,
   "metadata": {},
   "outputs": [
    {
     "name": "stdout",
     "output_type": "stream",
     "text": [
      "MAE : 0.490\n"
     ]
    }
   ],
   "source": [
    "print('MAE : {0:.3f}'.format(mean_absolute_error(y_test, pred)))"
   ]
  },
  {
   "cell_type": "code",
   "execution_count": null,
   "metadata": {},
   "outputs": [],
   "source": [
    "kb"
   ]
  }
 ],
 "metadata": {
  "kernelspec": {
   "display_name": "Python 3",
   "language": "python",
   "name": "python3"
  },
  "language_info": {
   "codemirror_mode": {
    "name": "ipython",
    "version": 3
   },
   "file_extension": ".py",
   "mimetype": "text/x-python",
   "name": "python",
   "nbconvert_exporter": "python",
   "pygments_lexer": "ipython3",
   "version": "3.7.4"
  }
 },
 "nbformat": 4,
 "nbformat_minor": 2
}
