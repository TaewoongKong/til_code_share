{
 "cells": [
  {
   "cell_type": "markdown",
   "metadata": {},
   "source": [
    "### 모듈, 패키지 로딩"
   ]
  },
  {
   "cell_type": "code",
   "execution_count": 1,
   "metadata": {},
   "outputs": [],
   "source": [
    "import pandas as pd\n",
    "import numpy as np\n",
    "from sklearn.preprocessing import OneHotEncoder\n",
    "\n",
    "\n",
    "from sklearn.ensemble import VotingClassifier\n",
    "from sklearn.neighbors import KNeighborsClassifier\n",
    "from sklearn.linear_model import LogisticRegression\n",
    "from sklearn.ensemble import RandomForestClassifier\n",
    "\n",
    "from sklearn.metrics import accuracy_score, roc_auc_score\n",
    "from sklearn.metrics import f1_score, confusion_matrix, precision_recall_curve, roc_curve\n",
    "from sklearn.model_selection import GridSearchCV\n",
    "from sklearn.model_selection import train_test_split\n"
   ]
  },
  {
   "cell_type": "code",
   "execution_count": 2,
   "metadata": {},
   "outputs": [],
   "source": [
    "import matplotlib\n",
    "import matplotlib.pyplot as plt  # 파이플롯 사용\n",
    "import seaborn as sns\n",
    "from IPython.display import set_matplotlib_formats\n",
    "set_matplotlib_formats('retina')  # 한글코드를 더 선명하게 해주는 조치, 레티나 설정\n",
    "matplotlib.rc('font', family='AppleGothic') # 폰트 설정\n",
    "matplotlib.rc('axes', unicode_minus=False) # 마이너스 폰트가 깨지는 경우가 있으므로 조치\n"
   ]
  },
  {
   "cell_type": "markdown",
   "metadata": {},
   "source": [
    "### 학습 테스트 데이터 로딩\n",
    "\n",
    "- 당사자종별을 1당/2당으로 표기한 데이터가 있고 (2012_2014, 2016,2017) 가해자/피해자로 표기한 데이터가 있다 (2015, 2018)\n",
    "- 피쳐 데이터 : 발생시(hour), 도로형태, 발생지시군구, 사고유형_중분류, 가해자_당사자종별(1당), 피해자_당사자종별(2당)"
   ]
  },
  {
   "cell_type": "code",
   "execution_count": 3,
   "metadata": {},
   "outputs": [
    {
     "data": {
      "text/plain": [
       "(14624, 27)"
      ]
     },
     "execution_count": 3,
     "metadata": {},
     "output_type": "execute_result"
    }
   ],
   "source": [
    "car_acc_2012_2014 = pd.read_csv('/Users/taewoongkong/workspace/pandas_public_data/car_acc_2012_2014.csv', encoding='euc-kr', engine='python')\n",
    "car_acc_2012_2014.shape\n"
   ]
  },
  {
   "cell_type": "code",
   "execution_count": 4,
   "metadata": {},
   "outputs": [
    {
     "data": {
      "text/plain": [
       "(4447, 26)"
      ]
     },
     "execution_count": 4,
     "metadata": {},
     "output_type": "execute_result"
    }
   ],
   "source": [
    "car_acc_2015 = pd.read_csv('/Users/taewoongkong/workspace/pandas_public_data/car_acc_2015.csv', encoding='euc-kr', engine='python')\n",
    "car_acc_2015.shape"
   ]
  },
  {
   "cell_type": "code",
   "execution_count": 5,
   "metadata": {},
   "outputs": [
    {
     "data": {
      "text/plain": [
       "(4119, 27)"
      ]
     },
     "execution_count": 5,
     "metadata": {},
     "output_type": "execute_result"
    }
   ],
   "source": [
    "car_acc_2016 = pd.read_csv('/Users/taewoongkong/workspace/pandas_public_data/car_acc_2016.csv', encoding='euc-kr', engine='python')\n",
    "car_acc_2016.shape"
   ]
  },
  {
   "cell_type": "code",
   "execution_count": 6,
   "metadata": {},
   "outputs": [
    {
     "data": {
      "text/plain": [
       "(4065, 27)"
      ]
     },
     "execution_count": 6,
     "metadata": {},
     "output_type": "execute_result"
    }
   ],
   "source": [
    "car_acc_2017 = pd.read_csv('/Users/taewoongkong/workspace/pandas_public_data/car_acc_2017.csv', encoding='euc-kr', engine='python')\n",
    "car_acc_2017.shape"
   ]
  },
  {
   "cell_type": "code",
   "execution_count": 7,
   "metadata": {},
   "outputs": [
    {
     "data": {
      "text/plain": [
       "(3657, 26)"
      ]
     },
     "execution_count": 7,
     "metadata": {},
     "output_type": "execute_result"
    }
   ],
   "source": [
    "car_acc_2018 = pd.read_csv('/Users/taewoongkong/workspace/pandas_public_data/car_acc_2018.csv', encoding='euc-kr', engine='python')\n",
    "car_acc_2018.shape"
   ]
  },
  {
   "cell_type": "code",
   "execution_count": 8,
   "metadata": {},
   "outputs": [],
   "source": [
    "#당사자종별을 1당/2당으로 표기한 데이터가 있고 (2012_2014, 2016,2017) 가해자/피해자로 표기한 데이터가 있다 (2015, 2018)\n",
    "\n",
    "car_acc_2012_2014['가해자_당사자종별'] = car_acc_2012_2014['당사자종별_1당']\n",
    "car_acc_2012_2014['피해자_당사자종별'] = car_acc_2012_2014['당사자종별_2당']\n",
    "\n",
    "car_acc_2016['가해자_당사자종별'] = car_acc_2016['당사자종별_1당']\n",
    "car_acc_2016['피해자_당사자종별'] = car_acc_2016['당사자종별_2당']\n",
    "\n",
    "car_acc_2017['가해자_당사자종별'] = car_acc_2017['당사자종별_1당']\n",
    "car_acc_2017['피해자_당사자종별'] = car_acc_2017['당사자종별_2당']\n"
   ]
  },
  {
   "cell_type": "markdown",
   "metadata": {},
   "source": [
    "### 전처리\n",
    "\n",
    "- 피쳐데이터로 쓸 것만 남기기 (레이블 데이터인 사망자수도 일단 포함)\n",
    "- concat\n",
    "- 발생시hour 변환 작업\n",
    "- 발생시도 + 발생시군구를 합치기\n",
    "- 사망자수 1 or 다수로 2분할 (0 - 1명 사망 , 1 - 다수 사망)\n",
    "- 각 피쳐 null 처리 및 피쳐 엔지니어링\n"
   ]
  },
  {
   "cell_type": "code",
   "execution_count": 9,
   "metadata": {},
   "outputs": [],
   "source": [
    "ftr_columns = ['발생년월일시', '발생지시도', '발생지시군구', '사고유형_중분류', '가해자_당사자종별', '피해자_당사자종별', '사망자수']"
   ]
  },
  {
   "cell_type": "code",
   "execution_count": 10,
   "metadata": {},
   "outputs": [],
   "source": [
    "# 발생년월일시분이라고 저장된 데이터셋은 따로 처리\n",
    "car_acc_2015['발생년월일시'] = car_acc_2015['발생년월일시분']\n",
    "car_acc_2018['발생년월일시'] = car_acc_2018['발생년월일시분']"
   ]
  },
  {
   "cell_type": "code",
   "execution_count": 11,
   "metadata": {},
   "outputs": [],
   "source": [
    "# 필요한 피쳐만 남겨서 새로운 데이터프레임에 저장\n",
    "\n",
    "car_acc_2012_2014_ftr = car_acc_2012_2014[ftr_columns]\n",
    "car_acc_2015_ftr = car_acc_2015[ftr_columns]\n",
    "car_acc_2016_ftr = car_acc_2016[ftr_columns]\n",
    "car_acc_2017_ftr = car_acc_2017[ftr_columns]\n",
    "car_acc_2018_ftr = car_acc_2018[ftr_columns]"
   ]
  },
  {
   "cell_type": "code",
   "execution_count": 12,
   "metadata": {},
   "outputs": [
    {
     "data": {
      "text/html": [
       "<div>\n",
       "<style scoped>\n",
       "    .dataframe tbody tr th:only-of-type {\n",
       "        vertical-align: middle;\n",
       "    }\n",
       "\n",
       "    .dataframe tbody tr th {\n",
       "        vertical-align: top;\n",
       "    }\n",
       "\n",
       "    .dataframe thead th {\n",
       "        text-align: right;\n",
       "    }\n",
       "</style>\n",
       "<table border=\"1\" class=\"dataframe\">\n",
       "  <thead>\n",
       "    <tr style=\"text-align: right;\">\n",
       "      <th></th>\n",
       "      <th>발생년월일시</th>\n",
       "      <th>발생지시도</th>\n",
       "      <th>발생지시군구</th>\n",
       "      <th>사고유형_중분류</th>\n",
       "      <th>가해자_당사자종별</th>\n",
       "      <th>피해자_당사자종별</th>\n",
       "      <th>사망자수</th>\n",
       "    </tr>\n",
       "  </thead>\n",
       "  <tbody>\n",
       "    <tr>\n",
       "      <th>3652</th>\n",
       "      <td>2018-05-21 03:55</td>\n",
       "      <td>경기</td>\n",
       "      <td>포천시</td>\n",
       "      <td>공작물충돌</td>\n",
       "      <td>승용차</td>\n",
       "      <td>없음</td>\n",
       "      <td>1</td>\n",
       "    </tr>\n",
       "    <tr>\n",
       "      <th>3653</th>\n",
       "      <td>2018-06-08 08:43</td>\n",
       "      <td>경기</td>\n",
       "      <td>포천시</td>\n",
       "      <td>추돌</td>\n",
       "      <td>화물차</td>\n",
       "      <td>농기계</td>\n",
       "      <td>1</td>\n",
       "    </tr>\n",
       "    <tr>\n",
       "      <th>3654</th>\n",
       "      <td>2018-01-20 10:15</td>\n",
       "      <td>경기</td>\n",
       "      <td>가평군</td>\n",
       "      <td>공작물충돌</td>\n",
       "      <td>승용차</td>\n",
       "      <td>없음</td>\n",
       "      <td>1</td>\n",
       "    </tr>\n",
       "    <tr>\n",
       "      <th>3655</th>\n",
       "      <td>2018-02-03 21:05</td>\n",
       "      <td>경기</td>\n",
       "      <td>가평군</td>\n",
       "      <td>정면충돌</td>\n",
       "      <td>승용차</td>\n",
       "      <td>승용차</td>\n",
       "      <td>1</td>\n",
       "    </tr>\n",
       "    <tr>\n",
       "      <th>3656</th>\n",
       "      <td>2018-12-03 10:05</td>\n",
       "      <td>경기</td>\n",
       "      <td>연천군</td>\n",
       "      <td>측면충돌</td>\n",
       "      <td>승용차</td>\n",
       "      <td>승용차</td>\n",
       "      <td>1</td>\n",
       "    </tr>\n",
       "  </tbody>\n",
       "</table>\n",
       "</div>"
      ],
      "text/plain": [
       "                발생년월일시 발생지시도 발생지시군구 사고유형_중분류 가해자_당사자종별 피해자_당사자종별  사망자수\n",
       "3652  2018-05-21 03:55    경기    포천시    공작물충돌       승용차        없음     1\n",
       "3653  2018-06-08 08:43    경기    포천시       추돌       화물차       농기계     1\n",
       "3654  2018-01-20 10:15    경기    가평군    공작물충돌       승용차        없음     1\n",
       "3655  2018-02-03 21:05    경기    가평군     정면충돌       승용차       승용차     1\n",
       "3656  2018-12-03 10:05    경기    연천군     측면충돌       승용차       승용차     1"
      ]
     },
     "execution_count": 12,
     "metadata": {},
     "output_type": "execute_result"
    }
   ],
   "source": [
    "# concat\n",
    "\n",
    "car_acc_ftr = pd.concat([car_acc_2012_2014_ftr, \n",
    "                         car_acc_2015_ftr, \n",
    "                         car_acc_2016_ftr, \n",
    "                         car_acc_2017_ftr, \n",
    "                         car_acc_2018_ftr], sort = False)\n",
    "car_acc_ftr.tail()"
   ]
  },
  {
   "cell_type": "code",
   "execution_count": 13,
   "metadata": {},
   "outputs": [],
   "source": [
    "# hour 변환 - null값 없음 확인\n",
    "\n",
    "car_acc_ftr['발생시'] = pd.to_datetime(car_acc_ftr['발생년월일시'])\n",
    "car_acc_ftr['발생시'] = car_acc_ftr['발생시'].dt.hour"
   ]
  },
  {
   "cell_type": "code",
   "execution_count": 14,
   "metadata": {},
   "outputs": [],
   "source": [
    "car_acc_ftr['발생지'] = car_acc_ftr['발생지시도'] + '-' + car_acc_ftr['발생지시군구']"
   ]
  },
  {
   "cell_type": "code",
   "execution_count": 15,
   "metadata": {},
   "outputs": [],
   "source": [
    "car_acc_ftr = car_acc_ftr.drop(['발생지시도', '발생지시군구'], axis = 1)"
   ]
  },
  {
   "cell_type": "code",
   "execution_count": 16,
   "metadata": {},
   "outputs": [],
   "source": [
    "def 사망자수_이진분류(count):\n",
    "    if count == 1:\n",
    "        return 0\n",
    "    else:\n",
    "        return 1"
   ]
  },
  {
   "cell_type": "markdown",
   "metadata": {},
   "source": [
    "#### 가해자 데이터 전처리\n",
    "\n",
    "- 경형 -> 소형 으로 편입\n",
    "- 원동기장치자전거 -> 이륜차로 편입\n",
    "- 사발이, 사륜오토바이 -> 이륜차로 편입\n",
    "- 승합차 -> 대형으로 편입\n",
    "- 특수차, 불명, 개인형이동수단, 기타 -> 기타로 편입"
   ]
  },
  {
   "cell_type": "code",
   "execution_count": 17,
   "metadata": {},
   "outputs": [],
   "source": [
    "# 가해자_당사자종별 데이터 전처리\n",
    "\n",
    "car_acc_ftr.loc[car_acc_ftr['가해자_당사자종별'] == '경형', '가해자_당사자종별'] = '소형'\n",
    "car_acc_ftr.loc[car_acc_ftr['가해자_당사자종별'] == '원동기장치자전거', '가해자_당사자종별'] = '이륜차'\n",
    "car_acc_ftr.loc[car_acc_ftr['가해자_당사자종별'] == '사발이', '가해자_당사자종별'] = '이륜차'\n",
    "car_acc_ftr.loc[car_acc_ftr['가해자_당사자종별'] == '사륜오토바이(ATV)', '가해자_당사자종별'] = '이륜차'\n",
    "car_acc_ftr.loc[car_acc_ftr['가해자_당사자종별'] == '승합차', '가해자_당사자종별'] = '대형'\n",
    "car_acc_ftr.loc[car_acc_ftr['가해자_당사자종별'] == '특수차', '가해자_당사자종별'] = '기타'\n",
    "car_acc_ftr.loc[car_acc_ftr['가해자_당사자종별'] == '불명', '가해자_당사자종별'] = '기타'\n",
    "car_acc_ftr.loc[car_acc_ftr['가해자_당사자종별'] == '개인형이동수단(PM)', '가해자_당사자종별'] = '기타'\n",
    "\n"
   ]
  },
  {
   "cell_type": "markdown",
   "metadata": {},
   "source": [
    "#### 피해자 데이터 전처리\n",
    "\n",
    "- 00 -> 대물사고 로 구체화\n",
    "- 없음 -> 대물사고로 구체화\n",
    "- 경형 -> 소형 으로 편입\n",
    "- 원동기장치자전거 -> 이륜차로 편입\n",
    "- 사발이, 사륜오토바이 -> 이륜차로 편입\n",
    "- 승합차 -> 대형으로 편입\n",
    "- 불명 -> 보행자로 편입\n",
    "- 특수차, 개인형이동수단, 기타 -> 기타로 편입"
   ]
  },
  {
   "cell_type": "code",
   "execution_count": 18,
   "metadata": {},
   "outputs": [],
   "source": [
    "car_acc_ftr.loc[car_acc_ftr['피해자_당사자종별'] == '00', '피해자_당사자종별'] = '대물사고'\n",
    "car_acc_ftr.loc[car_acc_ftr['피해자_당사자종별'] == '없음', '피해자_당사자종별'] = '대물사고'\n",
    "car_acc_ftr.loc[car_acc_ftr['피해자_당사자종별'] == '경형', '피해자_당사자종별'] = '소형'\n",
    "car_acc_ftr.loc[car_acc_ftr['피해자_당사자종별'] == '승합차', '피해자_당사자종별'] = '대형'\n",
    "car_acc_ftr.loc[car_acc_ftr['피해자_당사자종별'] == '원동기장치자전거', '피해자_당사자종별'] = '이륜차'\n",
    "car_acc_ftr.loc[car_acc_ftr['피해자_당사자종별'] == '사발이', '피해자_당사자종별'] = '이륜차'\n",
    "car_acc_ftr.loc[car_acc_ftr['피해자_당사자종별'] == '사륜오토바이(ATV)', '피해자_당사자종별'] = '이륜차'\n",
    "car_acc_ftr.loc[car_acc_ftr['피해자_당사자종별'] == '특수차', '피해자_당사자종별'] = '기타'\n",
    "car_acc_ftr.loc[car_acc_ftr['피해자_당사자종별'] == '불명', '피해자_당사자종별'] = '기타'\n",
    "car_acc_ftr.loc[car_acc_ftr['피해자_당사자종별'] == '열차', '피해자_당사자종별'] = '기타'\n"
   ]
  },
  {
   "cell_type": "markdown",
   "metadata": {},
   "source": [
    "#### 사고유형_중분류 데이터 전처리\n",
    "\n",
    "- 전도 -> 전도전복 으로 편입\n",
    "- 전복 -> 전도전복 으로 편입\n",
    "- 차도, 보도통행중 -> 횡단중 으로 편입\n",
    "- 직전진행, 경보기무시, 차단기돌파, 철길건널목 -> 기타로 편입\n"
   ]
  },
  {
   "cell_type": "code",
   "execution_count": 19,
   "metadata": {},
   "outputs": [],
   "source": [
    "car_acc_ftr.loc[car_acc_ftr['사고유형_중분류'] == '전도', '사고유형_중분류'] = '전도전복'\n",
    "car_acc_ftr.loc[car_acc_ftr['사고유형_중분류'] == '전복', '사고유형_중분류'] = '전도전복'\n",
    "car_acc_ftr.loc[car_acc_ftr['사고유형_중분류'] == '차도통행중', '사고유형_중분류'] = '횡단중'\n",
    "car_acc_ftr.loc[car_acc_ftr['사고유형_중분류'] == '보도통행중', '사고유형_중분류'] = '횡단중'\n",
    "car_acc_ftr.loc[car_acc_ftr['사고유형_중분류'] == '직전진행', '사고유형_중분류'] = '기타'\n",
    "car_acc_ftr.loc[car_acc_ftr['사고유형_중분류'] == '경보기무시', '사고유형_중분류'] = '기타'\n",
    "car_acc_ftr.loc[car_acc_ftr['사고유형_중분류'] == '차단기돌파', '사고유형_중분류'] = '기타'\n",
    "car_acc_ftr.loc[car_acc_ftr['사고유형_중분류'] == '철길건널목', '사고유형_중분류'] = '기타'\n"
   ]
  },
  {
   "cell_type": "code",
   "execution_count": 20,
   "metadata": {},
   "outputs": [],
   "source": [
    "car_acc_ftr['사망자수_타겟값'] = car_acc_ftr['사망자수'].apply(사망자수_이진분류)"
   ]
  },
  {
   "cell_type": "code",
   "execution_count": 21,
   "metadata": {},
   "outputs": [],
   "source": [
    "car_acc_ftr = car_acc_ftr.drop(['사망자수', '발생년월일시'], axis =1)"
   ]
  },
  {
   "cell_type": "code",
   "execution_count": 22,
   "metadata": {},
   "outputs": [
    {
     "data": {
      "text/plain": [
       "0    29916\n",
       "1      996\n",
       "Name: 사망자수_타겟값, dtype: int64"
      ]
     },
     "execution_count": 22,
     "metadata": {},
     "output_type": "execute_result"
    }
   ],
   "source": [
    "car_acc_ftr['사망자수_타겟값'].value_counts()"
   ]
  },
  {
   "cell_type": "code",
   "execution_count": 22,
   "metadata": {},
   "outputs": [
    {
     "data": {
      "text/html": [
       "<div>\n",
       "<style scoped>\n",
       "    .dataframe tbody tr th:only-of-type {\n",
       "        vertical-align: middle;\n",
       "    }\n",
       "\n",
       "    .dataframe tbody tr th {\n",
       "        vertical-align: top;\n",
       "    }\n",
       "\n",
       "    .dataframe thead th {\n",
       "        text-align: right;\n",
       "    }\n",
       "</style>\n",
       "<table border=\"1\" class=\"dataframe\">\n",
       "  <thead>\n",
       "    <tr style=\"text-align: right;\">\n",
       "      <th></th>\n",
       "      <th>사고유형_중분류</th>\n",
       "      <th>가해자_당사자종별</th>\n",
       "      <th>피해자_당사자종별</th>\n",
       "      <th>발생시</th>\n",
       "      <th>발생지</th>\n",
       "      <th>사망자수_타겟값</th>\n",
       "    </tr>\n",
       "  </thead>\n",
       "  <tbody>\n",
       "    <tr>\n",
       "      <th>0</th>\n",
       "      <td>추돌</td>\n",
       "      <td>대형</td>\n",
       "      <td>대형</td>\n",
       "      <td>1</td>\n",
       "      <td>경남-거창군</td>\n",
       "      <td>0</td>\n",
       "    </tr>\n",
       "    <tr>\n",
       "      <th>1</th>\n",
       "      <td>추돌</td>\n",
       "      <td>소형</td>\n",
       "      <td>소형</td>\n",
       "      <td>13</td>\n",
       "      <td>경기-용인시</td>\n",
       "      <td>0</td>\n",
       "    </tr>\n",
       "    <tr>\n",
       "      <th>2</th>\n",
       "      <td>측면직각충돌</td>\n",
       "      <td>중형</td>\n",
       "      <td>소형</td>\n",
       "      <td>20</td>\n",
       "      <td>경북-김천시</td>\n",
       "      <td>0</td>\n",
       "    </tr>\n",
       "    <tr>\n",
       "      <th>3</th>\n",
       "      <td>추돌</td>\n",
       "      <td>대형</td>\n",
       "      <td>소형</td>\n",
       "      <td>14</td>\n",
       "      <td>경기-이천시</td>\n",
       "      <td>0</td>\n",
       "    </tr>\n",
       "    <tr>\n",
       "      <th>4</th>\n",
       "      <td>추돌</td>\n",
       "      <td>대형</td>\n",
       "      <td>대형</td>\n",
       "      <td>4</td>\n",
       "      <td>전남-광양시</td>\n",
       "      <td>0</td>\n",
       "    </tr>\n",
       "    <tr>\n",
       "      <th>...</th>\n",
       "      <td>...</td>\n",
       "      <td>...</td>\n",
       "      <td>...</td>\n",
       "      <td>...</td>\n",
       "      <td>...</td>\n",
       "      <td>...</td>\n",
       "    </tr>\n",
       "    <tr>\n",
       "      <th>3652</th>\n",
       "      <td>공작물충돌</td>\n",
       "      <td>승용차</td>\n",
       "      <td>대물사고</td>\n",
       "      <td>3</td>\n",
       "      <td>경기-포천시</td>\n",
       "      <td>0</td>\n",
       "    </tr>\n",
       "    <tr>\n",
       "      <th>3653</th>\n",
       "      <td>추돌</td>\n",
       "      <td>화물차</td>\n",
       "      <td>농기계</td>\n",
       "      <td>8</td>\n",
       "      <td>경기-포천시</td>\n",
       "      <td>0</td>\n",
       "    </tr>\n",
       "    <tr>\n",
       "      <th>3654</th>\n",
       "      <td>공작물충돌</td>\n",
       "      <td>승용차</td>\n",
       "      <td>대물사고</td>\n",
       "      <td>10</td>\n",
       "      <td>경기-가평군</td>\n",
       "      <td>0</td>\n",
       "    </tr>\n",
       "    <tr>\n",
       "      <th>3655</th>\n",
       "      <td>정면충돌</td>\n",
       "      <td>승용차</td>\n",
       "      <td>승용차</td>\n",
       "      <td>21</td>\n",
       "      <td>경기-가평군</td>\n",
       "      <td>0</td>\n",
       "    </tr>\n",
       "    <tr>\n",
       "      <th>3656</th>\n",
       "      <td>측면충돌</td>\n",
       "      <td>승용차</td>\n",
       "      <td>승용차</td>\n",
       "      <td>10</td>\n",
       "      <td>경기-연천군</td>\n",
       "      <td>0</td>\n",
       "    </tr>\n",
       "  </tbody>\n",
       "</table>\n",
       "<p>30912 rows × 6 columns</p>\n",
       "</div>"
      ],
      "text/plain": [
       "     사고유형_중분류 가해자_당사자종별 피해자_당사자종별  발생시     발생지  사망자수_타겟값\n",
       "0          추돌        대형        대형    1  경남-거창군         0\n",
       "1          추돌        소형        소형   13  경기-용인시         0\n",
       "2      측면직각충돌        중형        소형   20  경북-김천시         0\n",
       "3          추돌        대형        소형   14  경기-이천시         0\n",
       "4          추돌        대형        대형    4  전남-광양시         0\n",
       "...       ...       ...       ...  ...     ...       ...\n",
       "3652    공작물충돌       승용차      대물사고    3  경기-포천시         0\n",
       "3653       추돌       화물차       농기계    8  경기-포천시         0\n",
       "3654    공작물충돌       승용차      대물사고   10  경기-가평군         0\n",
       "3655     정면충돌       승용차       승용차   21  경기-가평군         0\n",
       "3656     측면충돌       승용차       승용차   10  경기-연천군         0\n",
       "\n",
       "[30912 rows x 6 columns]"
      ]
     },
     "execution_count": 22,
     "metadata": {},
     "output_type": "execute_result"
    }
   ],
   "source": [
    "car_acc_ftr"
   ]
  },
  {
   "cell_type": "code",
   "execution_count": 23,
   "metadata": {},
   "outputs": [],
   "source": [
    "#car_acc_ftr = car_acc_ftr.drop('발생지', axis=1)"
   ]
  },
  {
   "cell_type": "markdown",
   "metadata": {},
   "source": [
    "## 머신러닝 학습 진행 (랜덤포레스트)"
   ]
  },
  {
   "cell_type": "markdown",
   "metadata": {},
   "source": [
    "### 원핫인코딩"
   ]
  },
  {
   "cell_type": "code",
   "execution_count": 23,
   "metadata": {},
   "outputs": [],
   "source": [
    "X_df = car_acc_ftr.iloc[:,:-1]\n",
    "y_df = car_acc_ftr.iloc[:,-1]"
   ]
  },
  {
   "cell_type": "code",
   "execution_count": 24,
   "metadata": {},
   "outputs": [],
   "source": [
    "X_features_ohe = pd.get_dummies(X_df, columns=X_df.columns)"
   ]
  },
  {
   "cell_type": "code",
   "execution_count": 25,
   "metadata": {},
   "outputs": [],
   "source": [
    "X_train, X_test, y_train, y_test = train_test_split(X_features_ohe, y_df, test_size=0.2, random_state=11)"
   ]
  },
  {
   "cell_type": "code",
   "execution_count": 26,
   "metadata": {},
   "outputs": [
    {
     "data": {
      "text/plain": [
       "0    5976\n",
       "1     207\n",
       "Name: 사망자수_타겟값, dtype: int64"
      ]
     },
     "execution_count": 26,
     "metadata": {},
     "output_type": "execute_result"
    }
   ],
   "source": [
    "y_test.value_counts()"
   ]
  },
  {
   "cell_type": "code",
   "execution_count": 29,
   "metadata": {},
   "outputs": [
    {
     "data": {
      "text/plain": [
       "0    23940\n",
       "1      789\n",
       "Name: 사망자수_타겟값, dtype: int64"
      ]
     },
     "execution_count": 29,
     "metadata": {},
     "output_type": "execute_result"
    }
   ],
   "source": [
    "y_train.value_counts()"
   ]
  },
  {
   "cell_type": "code",
   "execution_count": null,
   "metadata": {},
   "outputs": [],
   "source": []
  },
  {
   "cell_type": "code",
   "execution_count": 30,
   "metadata": {},
   "outputs": [
    {
     "name": "stdout",
     "output_type": "stream",
     "text": [
      "랜덤 포레스트 정확도: 0.9652\n",
      "RandomForestClassifier 기본 하이퍼 파라미터:\n",
      " {'bootstrap': True, 'ccp_alpha': 0.0, 'class_weight': None, 'criterion': 'gini', 'max_depth': None, 'max_features': 'auto', 'max_leaf_nodes': None, 'max_samples': None, 'min_impurity_decrease': 0.0, 'min_impurity_split': None, 'min_samples_leaf': 1, 'min_samples_split': 2, 'min_weight_fraction_leaf': 0.0, 'n_estimators': 100, 'n_jobs': None, 'oob_score': False, 'random_state': 0, 'verbose': 0, 'warm_start': False}\n"
     ]
    }
   ],
   "source": [
    "# 랜덤 포레스트 학습 및 별도의 테스트 셋으로 예측 성능 평가\n",
    "rf_clf = RandomForestClassifier(random_state=0)\n",
    "rf_clf.fit(X_train , y_train)\n",
    "rf_pred = rf_clf.predict(X_test)\n",
    "rf_accuracy = accuracy_score(y_test , rf_pred)\n",
    "print('랜덤 포레스트 정확도: {0:.4f}'.format(rf_accuracy))\n"
   ]
  },
  {
   "cell_type": "code",
   "execution_count": 32,
   "metadata": {},
   "outputs": [
    {
     "name": "stdout",
     "output_type": "stream",
     "text": [
      "[[5966   10]\n",
      " [ 205    2]]\n",
      "정확도: 0.9652, 정밀도: 0.1667, 재현율: 0.0097,    F1: 0.0183\n"
     ]
    }
   ],
   "source": [
    "from sklearn.metrics import accuracy_score, precision_score , recall_score , confusion_matrix\n",
    "\n",
    "def get_clf_eval(y_test, pred=None):\n",
    "    confusion = confusion_matrix( y_test, pred)\n",
    "    accuracy = accuracy_score(y_test , pred)\n",
    "    precision = precision_score(y_test , pred)\n",
    "    recall = recall_score(y_test , pred)\n",
    "    f1 = f1_score(y_test,pred)\n",
    "    #roc_auc = roc_auc_score(y_test, pred_proba)\n",
    "    print(confusion)\n",
    "    print('정확도: {0:.4f}, 정밀도: {1:.4f}, 재현율: {2:.4f},\\\n",
    "    F1: {3:.4f}'.format(accuracy, precision, recall, f1))\n",
    "\n",
    "get_clf_eval(y_test, rf_pred)"
   ]
  },
  {
   "cell_type": "code",
   "execution_count": null,
   "metadata": {},
   "outputs": [],
   "source": []
  },
  {
   "cell_type": "markdown",
   "metadata": {},
   "source": [
    "## 피쳐엔지니어링 (뻥튀기)"
   ]
  },
  {
   "cell_type": "code",
   "execution_count": 33,
   "metadata": {},
   "outputs": [
    {
     "name": "stdout",
     "output_type": "stream",
     "text": [
      "SMOTE 적용 전 학습용 피처/레이블 데이터 세트:  (24729, 290) (24729,)\n",
      "SMOTE 적용 후 학습용 피처/레이블 데이터 세트:  (47880, 290) (47880,)\n",
      "SMOTE 적용 후 레이블 값 분포: \n",
      " 1    23940\n",
      "0    23940\n",
      "Name: 사망자수_타겟값, dtype: int64\n"
     ]
    }
   ],
   "source": [
    "from imblearn.over_sampling import SMOTE\n",
    "\n",
    "smote = SMOTE(random_state=0)\n",
    "X_train_over, y_train_over = smote.fit_sample(X_train, y_train)  # 사이킷런 fit 아닙니다\n",
    "# 디폴트가 0.3으로 쪼개짐\n",
    "\n",
    "print('SMOTE 적용 전 학습용 피처/레이블 데이터 세트: ', X_train.shape, y_train.shape)\n",
    "\n",
    "# _over : 오버 샘플링 적용\n",
    "print('SMOTE 적용 후 학습용 피처/레이블 데이터 세트: ', X_train_over.shape, y_train_over.shape)\n",
    "print('SMOTE 적용 후 레이블 값 분포: \\n', pd.Series(y_train_over).value_counts())"
   ]
  },
  {
   "cell_type": "code",
   "execution_count": 45,
   "metadata": {},
   "outputs": [
    {
     "name": "stdout",
     "output_type": "stream",
     "text": [
      "랜덤 포레스트 정확도: 0.9332\n",
      "RandomForestClassifier 기본 하이퍼 파라미터:\n",
      " {'bootstrap': True, 'ccp_alpha': 0.0, 'class_weight': None, 'criterion': 'gini', 'max_depth': None, 'max_features': 'auto', 'max_leaf_nodes': None, 'max_samples': None, 'min_impurity_decrease': 0.0, 'min_impurity_split': None, 'min_samples_leaf': 1, 'min_samples_split': 2, 'min_weight_fraction_leaf': 0.0, 'n_estimators': 100, 'n_jobs': None, 'oob_score': False, 'random_state': 0, 'verbose': 0, 'warm_start': False}\n"
     ]
    }
   ],
   "source": [
    "# 랜덤 포레스트 학습 및 별도의 테스트 셋으로 예측 성능 평가\n",
    "rf_clf = RandomForestClassifier(random_state=0)\n",
    "rf_clf.fit(X_train_over , X_train_over)\n",
    "rf_pred = rf_clf.predict(X_test)\n",
    "rf_accuracy = accuracy_score(y_test , rf_pred)\n",
    "print('랜덤 포레스트 정확도: {0:.4f}'.format(rf_accuracy))\n",
    "\n",
    "print('RandomForestClassifier 기본 하이퍼 파라미터:\\n', rf_clf.get_params())"
   ]
  },
  {
   "cell_type": "code",
   "execution_count": 46,
   "metadata": {},
   "outputs": [
    {
     "name": "stdout",
     "output_type": "stream",
     "text": [
      "오차 행렬\n",
      "[[5756  220]\n",
      " [ 193   14]]\n",
      "정확도: 0.9332, 정밀도: 0.0598, 재현율: 0.0676\n"
     ]
    }
   ],
   "source": [
    "get_clf_eval(y_test, rf_pred)"
   ]
  },
  {
   "cell_type": "code",
   "execution_count": 56,
   "metadata": {},
   "outputs": [
    {
     "name": "stdout",
     "output_type": "stream",
     "text": [
      "0.06349206349206349\n"
     ]
    }
   ],
   "source": [
    "f1 = f1_score(y_test, rf_pred)\n",
    "print(f1)"
   ]
  },
  {
   "cell_type": "markdown",
   "metadata": {},
   "source": [
    "### 정리\n",
    "\n",
    "\n",
    "\n",
    "그럼 정확도가 높은 이유는 무엇인가?\n",
    "\n",
    "알고리즘이 워낙 1인 사망(N)이 많이 나오다보니 N으로 계속 판단하고 있다 -> 그러니 정확도는 높은 편\n",
    "\n",
    "그러다 가끔 나오는 다인 사망 (P)이 나오면 쉽게 틀린다. -> 근데 그 경우가 워낙 적으니 정확도는 높게 나온다.\n",
    "\n",
    "다인사망이 나왔을 때 알고리즘이 헛다리를 자주 짚는다\n",
    "- SMOTE 전 : 정확도: 0.9615, 정밀도: 0.0811, 재현율: 0.0145\n",
    "- SMOTE 후 : 정확도: 0.9332, 정밀도: 0.0598, 재현율: 0.0676\n",
    "\n",
    "이 상황에서 정밀도가 낮아졌다는 건 SMOTE로 인해 다인 사망(Positive)이 데이터셋에 늘어나서, 다인사망 상황이 생각보다 잦네? 라고 인식한 알고리즘이 P판정을 늘리다보니 진짜 다인사망 데이터 나왔을 때 맞추긴 하니까_TP 높음 // 반대로 FP 개많아서 정밀도 딱락)\n",
    "\n",
    "이 상황에서 재현율이 올라갔다는 건 SMOTE 로 데이터가 늘어나 그래도 다인 사망 상황을 제법 잘 맞추고 있다는 뜻이기도 ?\n",
    "\n",
    "\n",
    "- SMOTE 전 f1: 0.0182648401826484\n",
    "- SMOTE 후 f1: 0.06349206349206349\n",
    "\n",
    "f1스코어는 비약적으로 올라갔다 (무려 6배 ㅋㅋㅋㅋ)\n"
   ]
  },
  {
   "cell_type": "code",
   "execution_count": null,
   "metadata": {},
   "outputs": [],
   "source": []
  },
  {
   "cell_type": "code",
   "execution_count": 50,
   "metadata": {},
   "outputs": [
    {
     "data": {
      "text/plain": [
       "1    23940\n",
       "0    23940\n",
       "Name: 사망자수_타겟값, dtype: int64"
      ]
     },
     "execution_count": 50,
     "metadata": {},
     "output_type": "execute_result"
    }
   ],
   "source": [
    "y_train_over.value_counts()"
   ]
  },
  {
   "cell_type": "code",
   "execution_count": 51,
   "metadata": {},
   "outputs": [
    {
     "data": {
      "text/plain": [
       "0    23940\n",
       "1      789\n",
       "Name: 사망자수_타겟값, dtype: int64"
      ]
     },
     "execution_count": 51,
     "metadata": {},
     "output_type": "execute_result"
    }
   ],
   "source": [
    "y_train.value_counts()"
   ]
  },
  {
   "cell_type": "code",
   "execution_count": 55,
   "metadata": {},
   "outputs": [
    {
     "name": "stdout",
     "output_type": "stream",
     "text": [
      "오차 행렬\n",
      "[[5935   41]\n",
      " [ 204    3]]\n",
      "정확도: 0.9604, 정밀도: 0.0682, 재현율: 0.0145\n"
     ]
    }
   ],
   "source": [
    "from sklearn.tree import DecisionTreeClassifier\n",
    "from sklearn.metrics import accuracy_score\n",
    "\n",
    "dt_clf = DecisionTreeClassifier(random_state=156)\n",
    "dt_clf.fit(X_train , y_train)\n",
    "dt_pred = dt_clf.predict(X_test)\n",
    "\n",
    "\n",
    "get_clf_eval(y_test, dt_pred)"
   ]
  },
  {
   "cell_type": "code",
   "execution_count": null,
   "metadata": {},
   "outputs": [],
   "source": []
  },
  {
   "cell_type": "code",
   "execution_count": null,
   "metadata": {},
   "outputs": [],
   "source": []
  },
  {
   "cell_type": "code",
   "execution_count": null,
   "metadata": {},
   "outputs": [],
   "source": []
  },
  {
   "cell_type": "code",
   "execution_count": 40,
   "metadata": {},
   "outputs": [
    {
     "data": {
      "image/png": "[encoded data removed]",
      "text/plain": [
       "<Figure size 576x432 with 1 Axes>"
      ]
     },
     "metadata": {
      "image/png": {
       "height": 372,
       "width": 607
      },
      "needs_background": "light"
     },
     "output_type": "display_data"
    }
   ],
   "source": [
    "ftr_importances_values = rf_clf.feature_importances_\n",
    "ftr_importances = pd.Series(ftr_importances_values,index=X_train.columns  )\n",
    "ftr_top20 = ftr_importances.sort_values(ascending=False)[:20]\n",
    "\n",
    "plt.figure(figsize=(8,6))\n",
    "plt.title('Feature importances Top 20')\n",
    "sns.barplot(x=ftr_top20 , y = ftr_top20.index)\n",
    "plt.show()"
   ]
  },
  {
   "cell_type": "code",
   "execution_count": null,
   "metadata": {},
   "outputs": [],
   "source": []
  },
  {
   "cell_type": "code",
   "execution_count": 28,
   "metadata": {},
   "outputs": [
    {
     "name": "stdout",
     "output_type": "stream",
     "text": [
      "랜덤 포레스트 정확도: 0.9652\n",
      "RandomForestClassifier 기본 하이퍼 파라미터:\n",
      " {'bootstrap': True, 'ccp_alpha': 0.0, 'class_weight': None, 'criterion': 'gini', 'max_depth': None, 'max_features': 'auto', 'max_leaf_nodes': None, 'max_samples': None, 'min_impurity_decrease': 0.0, 'min_impurity_split': None, 'min_samples_leaf': 1, 'min_samples_split': 2, 'min_weight_fraction_leaf': 0.0, 'n_estimators': 100, 'n_jobs': None, 'oob_score': False, 'random_state': 0, 'verbose': 0, 'warm_start': False}\n"
     ]
    }
   ],
   "source": [
    "# 랜덤 포레스트 학습 및 별도의 테스트 셋으로 예측 성능 평가\n",
    "rf_clf = RandomForestClassifier(random_state=0)\n",
    "rf_clf.fit(X_train , y_train)\n",
    "rf_pred = rf_clf.predict(X_test)\n",
    "rf_accuracy = accuracy_score(y_test , rf_pred)\n",
    "print('랜덤 포레스트 정확도: {0:.4f}'.format(rf_accuracy))\n",
    "\n",
    "print('RandomForestClassifier 기본 하이퍼 파라미터:\\n', rf_clf.get_params())"
   ]
  },
  {
   "cell_type": "code",
   "execution_count": 29,
   "metadata": {},
   "outputs": [],
   "source": [
    "from sklearn.metrics import accuracy_score, precision_score , recall_score , confusion_matrix\n",
    "\n",
    "def get_clf_eval(y_test , pred):\n",
    "    confusion = confusion_matrix( y_test, pred)\n",
    "    accuracy = accuracy_score(y_test , pred)\n",
    "    precision = precision_score(y_test , pred)\n",
    "    recall = recall_score(y_test , pred)\n",
    "    print('오차 행렬')\n",
    "    print(confusion)\n",
    "    print('정확도: {0:.4f}, 정밀도: {1:.4f}, 재현율: {2:.4f}'.format(accuracy , precision ,recall))"
   ]
  },
  {
   "cell_type": "code",
   "execution_count": 30,
   "metadata": {},
   "outputs": [
    {
     "name": "stdout",
     "output_type": "stream",
     "text": [
      "오차 행렬\n",
      "[[5966   10]\n",
      " [ 205    2]]\n",
      "정확도: 0.9652, 정밀도: 0.1667, 재현율: 0.0097\n"
     ]
    }
   ],
   "source": [
    "get_clf_eval(y_test, rf_pred)"
   ]
  },
  {
   "cell_type": "code",
   "execution_count": 31,
   "metadata": {},
   "outputs": [
    {
     "name": "stdout",
     "output_type": "stream",
     "text": [
      "0.0182648401826484\n"
     ]
    }
   ],
   "source": [
    "f1 = f1_score(y_test, rf_pred)\n",
    "print(f1)"
   ]
  },
  {
   "cell_type": "code",
   "execution_count": 31,
   "metadata": {},
   "outputs": [
    {
     "data": {
      "image/png": "[encoded data removed]",
      "text/plain": [
       "<Figure size 576x432 with 1 Axes>"
      ]
     },
     "metadata": {
      "image/png": {
       "height": 372,
       "width": 607
      },
      "needs_background": "light"
     },
     "output_type": "display_data"
    }
   ],
   "source": [
    "ftr_importances_values = rf_clf.feature_importances_\n",
    "ftr_importances = pd.Series(ftr_importances_values,index=X_train.columns  )\n",
    "ftr_top20 = ftr_importances.sort_values(ascending=False)[:20]\n",
    "\n",
    "plt.figure(figsize=(8,6))\n",
    "plt.title('Feature importances Top 20')\n",
    "sns.barplot(x=ftr_top20 , y = ftr_top20.index)\n",
    "plt.show()"
   ]
  },
  {
   "cell_type": "code",
   "execution_count": null,
   "metadata": {},
   "outputs": [],
   "source": []
  },
  {
   "cell_type": "code",
   "execution_count": null,
   "metadata": {},
   "outputs": [],
   "source": []
  },
  {
   "cell_type": "code",
   "execution_count": null,
   "metadata": {},
   "outputs": [],
   "source": []
  },
  {
   "cell_type": "code",
   "execution_count": 61,
   "metadata": {},
   "outputs": [],
   "source": [
    "X_train.columns = range(58)"
   ]
  },
  {
   "cell_type": "code",
   "execution_count": 68,
   "metadata": {},
   "outputs": [],
   "source": [
    "X_test.columns = range(58)"
   ]
  },
  {
   "cell_type": "code",
   "execution_count": 75,
   "metadata": {},
   "outputs": [],
   "source": [
    "X_train_over.columns = range(58)\n"
   ]
  },
  {
   "cell_type": "markdown",
   "metadata": {},
   "source": [
    "## LightGBM 가즈아"
   ]
  },
  {
   "cell_type": "code",
   "execution_count": 76,
   "metadata": {},
   "outputs": [
    {
     "name": "stdout",
     "output_type": "stream",
     "text": [
      "[1]\tvalid_0's auc: 0.761897\tvalid_0's binary_logloss: 1.68205\n",
      "Training until validation scores don't improve for 100 rounds\n",
      "[2]\tvalid_0's auc: 0.770123\tvalid_0's binary_logloss: 1.64094\n",
      "[3]\tvalid_0's auc: 0.774909\tvalid_0's binary_logloss: 1.60919\n",
      "[4]\tvalid_0's auc: 0.781483\tvalid_0's binary_logloss: 1.58301\n",
      "[5]\tvalid_0's auc: 0.784972\tvalid_0's binary_logloss: 1.56165\n",
      "[6]\tvalid_0's auc: 0.788378\tvalid_0's binary_logloss: 1.54392\n",
      "[7]\tvalid_0's auc: 0.792652\tvalid_0's binary_logloss: 1.52902\n",
      "[8]\tvalid_0's auc: 0.795968\tvalid_0's binary_logloss: 1.51606\n",
      "[9]\tvalid_0's auc: 0.798734\tvalid_0's binary_logloss: 1.50503\n",
      "[10]\tvalid_0's auc: 0.79899\tvalid_0's binary_logloss: 1.4949\n",
      "[11]\tvalid_0's auc: 0.799877\tvalid_0's binary_logloss: 1.48577\n",
      "[12]\tvalid_0's auc: 0.801812\tvalid_0's binary_logloss: 1.47886\n",
      "[13]\tvalid_0's auc: 0.80099\tvalid_0's binary_logloss: 1.47147\n",
      "[14]\tvalid_0's auc: 0.802884\tvalid_0's binary_logloss: 1.46561\n",
      "[15]\tvalid_0's auc: 0.807213\tvalid_0's binary_logloss: 1.4591\n",
      "[16]\tvalid_0's auc: 0.809123\tvalid_0's binary_logloss: 1.4534\n",
      "[17]\tvalid_0's auc: 0.811147\tvalid_0's binary_logloss: 1.44857\n",
      "[18]\tvalid_0's auc: 0.812172\tvalid_0's binary_logloss: 1.44462\n",
      "[19]\tvalid_0's auc: 0.813143\tvalid_0's binary_logloss: 1.44073\n",
      "[20]\tvalid_0's auc: 0.814257\tvalid_0's binary_logloss: 1.43734\n",
      "[21]\tvalid_0's auc: 0.816389\tvalid_0's binary_logloss: 1.43202\n",
      "[22]\tvalid_0's auc: 0.817811\tvalid_0's binary_logloss: 1.4284\n",
      "[23]\tvalid_0's auc: 0.819057\tvalid_0's binary_logloss: 1.42458\n",
      "[24]\tvalid_0's auc: 0.81997\tvalid_0's binary_logloss: 1.42109\n",
      "[25]\tvalid_0's auc: 0.821498\tvalid_0's binary_logloss: 1.41859\n",
      "[26]\tvalid_0's auc: 0.822224\tvalid_0's binary_logloss: 1.41547\n",
      "[27]\tvalid_0's auc: 0.824431\tvalid_0's binary_logloss: 1.41104\n",
      "[28]\tvalid_0's auc: 0.825595\tvalid_0's binary_logloss: 1.40835\n",
      "[29]\tvalid_0's auc: 0.82603\tvalid_0's binary_logloss: 1.40546\n",
      "[30]\tvalid_0's auc: 0.828456\tvalid_0's binary_logloss: 1.401\n",
      "[31]\tvalid_0's auc: 0.828982\tvalid_0's binary_logloss: 1.39901\n",
      "[32]\tvalid_0's auc: 0.830019\tvalid_0's binary_logloss: 1.39606\n",
      "[33]\tvalid_0's auc: 0.831035\tvalid_0's binary_logloss: 1.39356\n",
      "[34]\tvalid_0's auc: 0.83176\tvalid_0's binary_logloss: 1.39133\n",
      "[35]\tvalid_0's auc: 0.833031\tvalid_0's binary_logloss: 1.38847\n",
      "[36]\tvalid_0's auc: 0.833635\tvalid_0's binary_logloss: 1.38545\n",
      "[37]\tvalid_0's auc: 0.834808\tvalid_0's binary_logloss: 1.3823\n",
      "[38]\tvalid_0's auc: 0.83572\tvalid_0's binary_logloss: 1.38001\n",
      "[39]\tvalid_0's auc: 0.836926\tvalid_0's binary_logloss: 1.37652\n",
      "[40]\tvalid_0's auc: 0.837523\tvalid_0's binary_logloss: 1.37462\n",
      "[41]\tvalid_0's auc: 0.838168\tvalid_0's binary_logloss: 1.37281\n",
      "[42]\tvalid_0's auc: 0.83924\tvalid_0's binary_logloss: 1.37038\n",
      "[43]\tvalid_0's auc: 0.840092\tvalid_0's binary_logloss: 1.36828\n",
      "[44]\tvalid_0's auc: 0.841028\tvalid_0's binary_logloss: 1.36604\n",
      "[45]\tvalid_0's auc: 0.841689\tvalid_0's binary_logloss: 1.36444\n",
      "[46]\tvalid_0's auc: 0.842936\tvalid_0's binary_logloss: 1.3617\n",
      "[47]\tvalid_0's auc: 0.844823\tvalid_0's binary_logloss: 1.35778\n",
      "[48]\tvalid_0's auc: 0.845788\tvalid_0's binary_logloss: 1.35513\n",
      "[49]\tvalid_0's auc: 0.846802\tvalid_0's binary_logloss: 1.35291\n",
      "[50]\tvalid_0's auc: 0.847535\tvalid_0's binary_logloss: 1.35084\n",
      "[51]\tvalid_0's auc: 0.848044\tvalid_0's binary_logloss: 1.34871\n",
      "[52]\tvalid_0's auc: 0.848644\tvalid_0's binary_logloss: 1.34731\n",
      "[53]\tvalid_0's auc: 0.849155\tvalid_0's binary_logloss: 1.34579\n",
      "[54]\tvalid_0's auc: 0.849636\tvalid_0's binary_logloss: 1.34435\n",
      "[55]\tvalid_0's auc: 0.850167\tvalid_0's binary_logloss: 1.34298\n",
      "[56]\tvalid_0's auc: 0.850664\tvalid_0's binary_logloss: 1.34168\n",
      "[57]\tvalid_0's auc: 0.851207\tvalid_0's binary_logloss: 1.33994\n",
      "[58]\tvalid_0's auc: 0.851917\tvalid_0's binary_logloss: 1.33786\n",
      "[59]\tvalid_0's auc: 0.852564\tvalid_0's binary_logloss: 1.33605\n",
      "[60]\tvalid_0's auc: 0.852895\tvalid_0's binary_logloss: 1.33487\n",
      "[61]\tvalid_0's auc: 0.853452\tvalid_0's binary_logloss: 1.33331\n",
      "[62]\tvalid_0's auc: 0.854388\tvalid_0's binary_logloss: 1.33113\n",
      "[63]\tvalid_0's auc: 0.854918\tvalid_0's binary_logloss: 1.32978\n",
      "[64]\tvalid_0's auc: 0.855321\tvalid_0's binary_logloss: 1.3285\n",
      "[65]\tvalid_0's auc: 0.855851\tvalid_0's binary_logloss: 1.3269\n",
      "[66]\tvalid_0's auc: 0.856244\tvalid_0's binary_logloss: 1.32584\n",
      "[67]\tvalid_0's auc: 0.85669\tvalid_0's binary_logloss: 1.32453\n",
      "[68]\tvalid_0's auc: 0.857103\tvalid_0's binary_logloss: 1.32292\n",
      "[69]\tvalid_0's auc: 0.857733\tvalid_0's binary_logloss: 1.32144\n",
      "[70]\tvalid_0's auc: 0.858747\tvalid_0's binary_logloss: 1.31872\n",
      "[71]\tvalid_0's auc: 0.859378\tvalid_0's binary_logloss: 1.31738\n",
      "[72]\tvalid_0's auc: 0.859942\tvalid_0's binary_logloss: 1.31579\n",
      "[73]\tvalid_0's auc: 0.860442\tvalid_0's binary_logloss: 1.31437\n",
      "[74]\tvalid_0's auc: 0.860726\tvalid_0's binary_logloss: 1.3132\n",
      "[75]\tvalid_0's auc: 0.861509\tvalid_0's binary_logloss: 1.31108\n",
      "[76]\tvalid_0's auc: 0.861924\tvalid_0's binary_logloss: 1.30971\n",
      "[77]\tvalid_0's auc: 0.862515\tvalid_0's binary_logloss: 1.30796\n",
      "[78]\tvalid_0's auc: 0.863092\tvalid_0's binary_logloss: 1.30619\n",
      "[79]\tvalid_0's auc: 0.863527\tvalid_0's binary_logloss: 1.30483\n",
      "[80]\tvalid_0's auc: 0.864078\tvalid_0's binary_logloss: 1.30316\n",
      "[81]\tvalid_0's auc: 0.864609\tvalid_0's binary_logloss: 1.30173\n",
      "[82]\tvalid_0's auc: 0.865221\tvalid_0's binary_logloss: 1.30044\n",
      "[83]\tvalid_0's auc: 0.8657\tvalid_0's binary_logloss: 1.2988\n",
      "[84]\tvalid_0's auc: 0.866069\tvalid_0's binary_logloss: 1.29754\n",
      "[85]\tvalid_0's auc: 0.866294\tvalid_0's binary_logloss: 1.29661\n",
      "[86]\tvalid_0's auc: 0.867005\tvalid_0's binary_logloss: 1.29496\n",
      "[87]\tvalid_0's auc: 0.867269\tvalid_0's binary_logloss: 1.29404\n",
      "[88]\tvalid_0's auc: 0.867717\tvalid_0's binary_logloss: 1.29252\n",
      "[89]\tvalid_0's auc: 0.868082\tvalid_0's binary_logloss: 1.29126\n",
      "[90]\tvalid_0's auc: 0.868362\tvalid_0's binary_logloss: 1.29015\n",
      "[91]\tvalid_0's auc: 0.868686\tvalid_0's binary_logloss: 1.2891\n",
      "[92]\tvalid_0's auc: 0.869097\tvalid_0's binary_logloss: 1.28745\n",
      "[93]\tvalid_0's auc: 0.86941\tvalid_0's binary_logloss: 1.28648\n",
      "[94]\tvalid_0's auc: 0.869731\tvalid_0's binary_logloss: 1.28545\n",
      "[95]\tvalid_0's auc: 0.870064\tvalid_0's binary_logloss: 1.28423\n",
      "[96]\tvalid_0's auc: 0.870452\tvalid_0's binary_logloss: 1.28278\n",
      "[97]\tvalid_0's auc: 0.870665\tvalid_0's binary_logloss: 1.28195\n",
      "[98]\tvalid_0's auc: 0.871327\tvalid_0's binary_logloss: 1.27991\n",
      "[99]\tvalid_0's auc: 0.871765\tvalid_0's binary_logloss: 1.27822\n",
      "[100]\tvalid_0's auc: 0.872119\tvalid_0's binary_logloss: 1.27731\n",
      "[101]\tvalid_0's auc: 0.87237\tvalid_0's binary_logloss: 1.27625\n",
      "[102]\tvalid_0's auc: 0.872808\tvalid_0's binary_logloss: 1.27514\n",
      "[103]\tvalid_0's auc: 0.8729\tvalid_0's binary_logloss: 1.27428\n",
      "[104]\tvalid_0's auc: 0.873357\tvalid_0's binary_logloss: 1.27279\n",
      "[105]\tvalid_0's auc: 0.87371\tvalid_0's binary_logloss: 1.27181\n",
      "[106]\tvalid_0's auc: 0.874\tvalid_0's binary_logloss: 1.27071\n",
      "[107]\tvalid_0's auc: 0.874303\tvalid_0's binary_logloss: 1.26966\n",
      "[108]\tvalid_0's auc: 0.874801\tvalid_0's binary_logloss: 1.26818\n",
      "[109]\tvalid_0's auc: 0.875056\tvalid_0's binary_logloss: 1.26715\n",
      "[110]\tvalid_0's auc: 0.87555\tvalid_0's binary_logloss: 1.26587\n",
      "[111]\tvalid_0's auc: 0.875811\tvalid_0's binary_logloss: 1.26498\n",
      "[112]\tvalid_0's auc: 0.876032\tvalid_0's binary_logloss: 1.2641\n",
      "[113]\tvalid_0's auc: 0.876371\tvalid_0's binary_logloss: 1.26318\n",
      "[114]\tvalid_0's auc: 0.876857\tvalid_0's binary_logloss: 1.26153\n",
      "[115]\tvalid_0's auc: 0.877025\tvalid_0's binary_logloss: 1.26092\n",
      "[116]\tvalid_0's auc: 0.877291\tvalid_0's binary_logloss: 1.25998\n",
      "[117]\tvalid_0's auc: 0.877525\tvalid_0's binary_logloss: 1.2592\n",
      "[118]\tvalid_0's auc: 0.877873\tvalid_0's binary_logloss: 1.25793\n",
      "[119]\tvalid_0's auc: 0.878148\tvalid_0's binary_logloss: 1.25711\n",
      "[120]\tvalid_0's auc: 0.878402\tvalid_0's binary_logloss: 1.25617\n",
      "[121]\tvalid_0's auc: 0.878739\tvalid_0's binary_logloss: 1.25486\n",
      "[122]\tvalid_0's auc: 0.87899\tvalid_0's binary_logloss: 1.25386\n",
      "[123]\tvalid_0's auc: 0.879094\tvalid_0's binary_logloss: 1.25336\n",
      "[124]\tvalid_0's auc: 0.879463\tvalid_0's binary_logloss: 1.25206\n",
      "[125]\tvalid_0's auc: 0.879727\tvalid_0's binary_logloss: 1.25097\n",
      "[126]\tvalid_0's auc: 0.87995\tvalid_0's binary_logloss: 1.25023\n",
      "[127]\tvalid_0's auc: 0.880148\tvalid_0's binary_logloss: 1.24945\n",
      "[128]\tvalid_0's auc: 0.88035\tvalid_0's binary_logloss: 1.24861\n",
      "[129]\tvalid_0's auc: 0.880658\tvalid_0's binary_logloss: 1.24754\n",
      "[130]\tvalid_0's auc: 0.881156\tvalid_0's binary_logloss: 1.24629\n",
      "[131]\tvalid_0's auc: 0.881462\tvalid_0's binary_logloss: 1.2451\n",
      "[132]\tvalid_0's auc: 0.881744\tvalid_0's binary_logloss: 1.24395\n",
      "[133]\tvalid_0's auc: 0.881977\tvalid_0's binary_logloss: 1.24319\n",
      "[134]\tvalid_0's auc: 0.882238\tvalid_0's binary_logloss: 1.24209\n",
      "[135]\tvalid_0's auc: 0.882378\tvalid_0's binary_logloss: 1.24144\n",
      "[136]\tvalid_0's auc: 0.88256\tvalid_0's binary_logloss: 1.24067\n",
      "[137]\tvalid_0's auc: 0.883092\tvalid_0's binary_logloss: 1.23904\n",
      "[138]\tvalid_0's auc: 0.883428\tvalid_0's binary_logloss: 1.2382\n",
      "[139]\tvalid_0's auc: 0.8837\tvalid_0's binary_logloss: 1.23715\n",
      "[140]\tvalid_0's auc: 0.883809\tvalid_0's binary_logloss: 1.23655\n",
      "[141]\tvalid_0's auc: 0.88418\tvalid_0's binary_logloss: 1.23534\n",
      "[142]\tvalid_0's auc: 0.884298\tvalid_0's binary_logloss: 1.23478\n",
      "[143]\tvalid_0's auc: 0.884464\tvalid_0's binary_logloss: 1.2339\n",
      "[144]\tvalid_0's auc: 0.88481\tvalid_0's binary_logloss: 1.23267\n",
      "[145]\tvalid_0's auc: 0.885097\tvalid_0's binary_logloss: 1.23167\n",
      "[146]\tvalid_0's auc: 0.885226\tvalid_0's binary_logloss: 1.23089\n",
      "[147]\tvalid_0's auc: 0.885555\tvalid_0's binary_logloss: 1.2296\n",
      "[148]\tvalid_0's auc: 0.885734\tvalid_0's binary_logloss: 1.22899\n",
      "[149]\tvalid_0's auc: 0.885996\tvalid_0's binary_logloss: 1.22812\n",
      "[150]\tvalid_0's auc: 0.886263\tvalid_0's binary_logloss: 1.2273\n",
      "[151]\tvalid_0's auc: 0.8865\tvalid_0's binary_logloss: 1.22632\n",
      "[152]\tvalid_0's auc: 0.886752\tvalid_0's binary_logloss: 1.22528\n",
      "[153]\tvalid_0's auc: 0.887011\tvalid_0's binary_logloss: 1.2244\n",
      "[154]\tvalid_0's auc: 0.887278\tvalid_0's binary_logloss: 1.22342\n",
      "[155]\tvalid_0's auc: 0.887473\tvalid_0's binary_logloss: 1.2226\n",
      "[156]\tvalid_0's auc: 0.887713\tvalid_0's binary_logloss: 1.22156\n",
      "[157]\tvalid_0's auc: 0.888\tvalid_0's binary_logloss: 1.22046\n",
      "[158]\tvalid_0's auc: 0.888265\tvalid_0's binary_logloss: 1.21938\n",
      "[159]\tvalid_0's auc: 0.888403\tvalid_0's binary_logloss: 1.21878\n",
      "[160]\tvalid_0's auc: 0.888562\tvalid_0's binary_logloss: 1.21814\n",
      "[161]\tvalid_0's auc: 0.888739\tvalid_0's binary_logloss: 1.21726\n",
      "[162]\tvalid_0's auc: 0.888809\tvalid_0's binary_logloss: 1.21686\n",
      "[163]\tvalid_0's auc: 0.889018\tvalid_0's binary_logloss: 1.21599\n",
      "[164]\tvalid_0's auc: 0.889285\tvalid_0's binary_logloss: 1.21472\n",
      "[165]\tvalid_0's auc: 0.889399\tvalid_0's binary_logloss: 1.21412\n",
      "[166]\tvalid_0's auc: 0.889604\tvalid_0's binary_logloss: 1.21345\n",
      "[167]\tvalid_0's auc: 0.8897\tvalid_0's binary_logloss: 1.21299\n",
      "[168]\tvalid_0's auc: 0.889877\tvalid_0's binary_logloss: 1.21197\n",
      "[169]\tvalid_0's auc: 0.890046\tvalid_0's binary_logloss: 1.21135\n",
      "[170]\tvalid_0's auc: 0.890228\tvalid_0's binary_logloss: 1.2103\n",
      "[171]\tvalid_0's auc: 0.890294\tvalid_0's binary_logloss: 1.20984\n",
      "[172]\tvalid_0's auc: 0.890424\tvalid_0's binary_logloss: 1.20928\n",
      "[173]\tvalid_0's auc: 0.890543\tvalid_0's binary_logloss: 1.20882\n",
      "[174]\tvalid_0's auc: 0.890632\tvalid_0's binary_logloss: 1.20832\n",
      "[175]\tvalid_0's auc: 0.890708\tvalid_0's binary_logloss: 1.20784\n",
      "[176]\tvalid_0's auc: 0.890811\tvalid_0's binary_logloss: 1.20716\n",
      "[177]\tvalid_0's auc: 0.890989\tvalid_0's binary_logloss: 1.20653\n",
      "[178]\tvalid_0's auc: 0.891427\tvalid_0's binary_logloss: 1.20511\n",
      "[179]\tvalid_0's auc: 0.891652\tvalid_0's binary_logloss: 1.20415\n",
      "[180]\tvalid_0's auc: 0.891971\tvalid_0's binary_logloss: 1.20299\n",
      "[181]\tvalid_0's auc: 0.892069\tvalid_0's binary_logloss: 1.20236\n",
      "[182]\tvalid_0's auc: 0.892153\tvalid_0's binary_logloss: 1.20191\n",
      "[183]\tvalid_0's auc: 0.892258\tvalid_0's binary_logloss: 1.20139\n",
      "[184]\tvalid_0's auc: 0.892402\tvalid_0's binary_logloss: 1.20044\n",
      "[185]\tvalid_0's auc: 0.892597\tvalid_0's binary_logloss: 1.19974\n",
      "[186]\tvalid_0's auc: 0.892787\tvalid_0's binary_logloss: 1.199\n",
      "[187]\tvalid_0's auc: 0.893455\tvalid_0's binary_logloss: 1.19718\n",
      "[188]\tvalid_0's auc: 0.893555\tvalid_0's binary_logloss: 1.1965\n",
      "[189]\tvalid_0's auc: 0.8937\tvalid_0's binary_logloss: 1.19591\n",
      "[190]\tvalid_0's auc: 0.893925\tvalid_0's binary_logloss: 1.19516\n",
      "[191]\tvalid_0's auc: 0.894004\tvalid_0's binary_logloss: 1.19464\n",
      "[192]\tvalid_0's auc: 0.89421\tvalid_0's binary_logloss: 1.19382\n",
      "[193]\tvalid_0's auc: 0.894335\tvalid_0's binary_logloss: 1.19327\n",
      "[194]\tvalid_0's auc: 0.894438\tvalid_0's binary_logloss: 1.19279\n",
      "[195]\tvalid_0's auc: 0.894577\tvalid_0's binary_logloss: 1.19228\n",
      "[196]\tvalid_0's auc: 0.894973\tvalid_0's binary_logloss: 1.19095\n",
      "[197]\tvalid_0's auc: 0.895111\tvalid_0's binary_logloss: 1.19011\n",
      "[198]\tvalid_0's auc: 0.895451\tvalid_0's binary_logloss: 1.18888\n",
      "[199]\tvalid_0's auc: 0.895594\tvalid_0's binary_logloss: 1.18829\n",
      "[200]\tvalid_0's auc: 0.895661\tvalid_0's binary_logloss: 1.1878\n",
      "[201]\tvalid_0's auc: 0.895817\tvalid_0's binary_logloss: 1.18718\n",
      "[202]\tvalid_0's auc: 0.895919\tvalid_0's binary_logloss: 1.18673\n",
      "[203]\tvalid_0's auc: 0.896026\tvalid_0's binary_logloss: 1.18613\n",
      "[204]\tvalid_0's auc: 0.896065\tvalid_0's binary_logloss: 1.1859\n",
      "[205]\tvalid_0's auc: 0.896166\tvalid_0's binary_logloss: 1.18543\n",
      "[206]\tvalid_0's auc: 0.896315\tvalid_0's binary_logloss: 1.18489\n",
      "[207]\tvalid_0's auc: 0.896418\tvalid_0's binary_logloss: 1.18437\n",
      "[208]\tvalid_0's auc: 0.897011\tvalid_0's binary_logloss: 1.18261\n",
      "[209]\tvalid_0's auc: 0.897265\tvalid_0's binary_logloss: 1.18171\n",
      "[210]\tvalid_0's auc: 0.897342\tvalid_0's binary_logloss: 1.18128\n",
      "[211]\tvalid_0's auc: 0.897514\tvalid_0's binary_logloss: 1.18041\n",
      "[212]\tvalid_0's auc: 0.897782\tvalid_0's binary_logloss: 1.17946\n",
      "[213]\tvalid_0's auc: 0.897847\tvalid_0's binary_logloss: 1.17908\n",
      "[214]\tvalid_0's auc: 0.898281\tvalid_0's binary_logloss: 1.17763\n",
      "[215]\tvalid_0's auc: 0.898484\tvalid_0's binary_logloss: 1.17685\n",
      "[216]\tvalid_0's auc: 0.898618\tvalid_0's binary_logloss: 1.17619\n",
      "[217]\tvalid_0's auc: 0.8989\tvalid_0's binary_logloss: 1.17511\n",
      "[218]\tvalid_0's auc: 0.899038\tvalid_0's binary_logloss: 1.17443\n",
      "[219]\tvalid_0's auc: 0.899224\tvalid_0's binary_logloss: 1.17366\n",
      "[220]\tvalid_0's auc: 0.899459\tvalid_0's binary_logloss: 1.1727\n",
      "[221]\tvalid_0's auc: 0.899684\tvalid_0's binary_logloss: 1.17174\n",
      "[222]\tvalid_0's auc: 0.899821\tvalid_0's binary_logloss: 1.17092\n",
      "[223]\tvalid_0's auc: 0.899889\tvalid_0's binary_logloss: 1.17058\n",
      "[224]\tvalid_0's auc: 0.900082\tvalid_0's binary_logloss: 1.16955\n",
      "[225]\tvalid_0's auc: 0.900405\tvalid_0's binary_logloss: 1.16841\n",
      "[226]\tvalid_0's auc: 0.900461\tvalid_0's binary_logloss: 1.16806\n",
      "[227]\tvalid_0's auc: 0.900665\tvalid_0's binary_logloss: 1.16723\n",
      "[228]\tvalid_0's auc: 0.900722\tvalid_0's binary_logloss: 1.16695\n",
      "[229]\tvalid_0's auc: 0.900855\tvalid_0's binary_logloss: 1.16605\n",
      "[230]\tvalid_0's auc: 0.901228\tvalid_0's binary_logloss: 1.16481\n",
      "[231]\tvalid_0's auc: 0.901354\tvalid_0's binary_logloss: 1.16423\n",
      "[232]\tvalid_0's auc: 0.901477\tvalid_0's binary_logloss: 1.16358\n",
      "[233]\tvalid_0's auc: 0.901619\tvalid_0's binary_logloss: 1.16299\n",
      "[234]\tvalid_0's auc: 0.901723\tvalid_0's binary_logloss: 1.16244\n",
      "[235]\tvalid_0's auc: 0.902061\tvalid_0's binary_logloss: 1.1612\n",
      "[236]\tvalid_0's auc: 0.902183\tvalid_0's binary_logloss: 1.16061\n",
      "[237]\tvalid_0's auc: 0.902287\tvalid_0's binary_logloss: 1.16001\n",
      "[238]\tvalid_0's auc: 0.902448\tvalid_0's binary_logloss: 1.15913\n",
      "[239]\tvalid_0's auc: 0.902576\tvalid_0's binary_logloss: 1.15858\n",
      "[240]\tvalid_0's auc: 0.902796\tvalid_0's binary_logloss: 1.15772\n",
      "[241]\tvalid_0's auc: 0.90317\tvalid_0's binary_logloss: 1.1563\n",
      "[242]\tvalid_0's auc: 0.90323\tvalid_0's binary_logloss: 1.15586\n",
      "[243]\tvalid_0's auc: 0.903388\tvalid_0's binary_logloss: 1.1553\n",
      "[244]\tvalid_0's auc: 0.903505\tvalid_0's binary_logloss: 1.15472\n",
      "[245]\tvalid_0's auc: 0.903596\tvalid_0's binary_logloss: 1.1542\n",
      "[246]\tvalid_0's auc: 0.903682\tvalid_0's binary_logloss: 1.15371\n",
      "[247]\tvalid_0's auc: 0.903764\tvalid_0's binary_logloss: 1.15329\n",
      "[248]\tvalid_0's auc: 0.903849\tvalid_0's binary_logloss: 1.15278\n",
      "[249]\tvalid_0's auc: 0.904082\tvalid_0's binary_logloss: 1.1518\n",
      "[250]\tvalid_0's auc: 0.904322\tvalid_0's binary_logloss: 1.15065\n",
      "[251]\tvalid_0's auc: 0.904494\tvalid_0's binary_logloss: 1.14988\n",
      "[252]\tvalid_0's auc: 0.904761\tvalid_0's binary_logloss: 1.1487\n",
      "[253]\tvalid_0's auc: 0.905085\tvalid_0's binary_logloss: 1.14748\n",
      "[254]\tvalid_0's auc: 0.905449\tvalid_0's binary_logloss: 1.14613\n",
      "[255]\tvalid_0's auc: 0.905766\tvalid_0's binary_logloss: 1.1449\n",
      "[256]\tvalid_0's auc: 0.906021\tvalid_0's binary_logloss: 1.14393\n",
      "[257]\tvalid_0's auc: 0.906138\tvalid_0's binary_logloss: 1.14321\n",
      "[258]\tvalid_0's auc: 0.906227\tvalid_0's binary_logloss: 1.14265\n",
      "[259]\tvalid_0's auc: 0.906286\tvalid_0's binary_logloss: 1.14231\n",
      "[260]\tvalid_0's auc: 0.906328\tvalid_0's binary_logloss: 1.14196\n",
      "[261]\tvalid_0's auc: 0.906609\tvalid_0's binary_logloss: 1.14075\n",
      "[262]\tvalid_0's auc: 0.906629\tvalid_0's binary_logloss: 1.14047\n",
      "[263]\tvalid_0's auc: 0.906703\tvalid_0's binary_logloss: 1.13994\n",
      "[264]\tvalid_0's auc: 0.906792\tvalid_0's binary_logloss: 1.13954\n",
      "[265]\tvalid_0's auc: 0.90689\tvalid_0's binary_logloss: 1.13905\n",
      "[266]\tvalid_0's auc: 0.907029\tvalid_0's binary_logloss: 1.13839\n",
      "[267]\tvalid_0's auc: 0.907109\tvalid_0's binary_logloss: 1.138\n",
      "[268]\tvalid_0's auc: 0.907222\tvalid_0's binary_logloss: 1.13744\n",
      "[269]\tvalid_0's auc: 0.907277\tvalid_0's binary_logloss: 1.13713\n",
      "[270]\tvalid_0's auc: 0.907311\tvalid_0's binary_logloss: 1.13686\n",
      "[271]\tvalid_0's auc: 0.907372\tvalid_0's binary_logloss: 1.1365\n",
      "[272]\tvalid_0's auc: 0.907524\tvalid_0's binary_logloss: 1.13571\n",
      "[273]\tvalid_0's auc: 0.907607\tvalid_0's binary_logloss: 1.13528\n",
      "[274]\tvalid_0's auc: 0.907711\tvalid_0's binary_logloss: 1.1346\n",
      "[275]\tvalid_0's auc: 0.907797\tvalid_0's binary_logloss: 1.13402\n",
      "[276]\tvalid_0's auc: 0.907886\tvalid_0's binary_logloss: 1.1335\n",
      "[277]\tvalid_0's auc: 0.908105\tvalid_0's binary_logloss: 1.13268\n",
      "[278]\tvalid_0's auc: 0.908161\tvalid_0's binary_logloss: 1.13238\n",
      "[279]\tvalid_0's auc: 0.908209\tvalid_0's binary_logloss: 1.13203\n",
      "[280]\tvalid_0's auc: 0.908291\tvalid_0's binary_logloss: 1.13156\n",
      "[281]\tvalid_0's auc: 0.908518\tvalid_0's binary_logloss: 1.13056\n",
      "[282]\tvalid_0's auc: 0.908603\tvalid_0's binary_logloss: 1.12997\n",
      "[283]\tvalid_0's auc: 0.908957\tvalid_0's binary_logloss: 1.12864\n",
      "[284]\tvalid_0's auc: 0.909165\tvalid_0's binary_logloss: 1.12777\n",
      "[285]\tvalid_0's auc: 0.909206\tvalid_0's binary_logloss: 1.12743\n",
      "[286]\tvalid_0's auc: 0.909285\tvalid_0's binary_logloss: 1.12698\n",
      "[287]\tvalid_0's auc: 0.909425\tvalid_0's binary_logloss: 1.12637\n",
      "[288]\tvalid_0's auc: 0.909471\tvalid_0's binary_logloss: 1.12609\n",
      "[289]\tvalid_0's auc: 0.909684\tvalid_0's binary_logloss: 1.12513\n",
      "[290]\tvalid_0's auc: 0.909816\tvalid_0's binary_logloss: 1.12444\n",
      "[291]\tvalid_0's auc: 0.910017\tvalid_0's binary_logloss: 1.12362\n",
      "[292]\tvalid_0's auc: 0.910205\tvalid_0's binary_logloss: 1.12285\n",
      "[293]\tvalid_0's auc: 0.910321\tvalid_0's binary_logloss: 1.12232\n",
      "[294]\tvalid_0's auc: 0.910457\tvalid_0's binary_logloss: 1.12171\n",
      "[295]\tvalid_0's auc: 0.910587\tvalid_0's binary_logloss: 1.12089\n",
      "[296]\tvalid_0's auc: 0.91066\tvalid_0's binary_logloss: 1.12032\n",
      "[297]\tvalid_0's auc: 0.910811\tvalid_0's binary_logloss: 1.11961\n",
      "[298]\tvalid_0's auc: 0.910988\tvalid_0's binary_logloss: 1.11879\n",
      "[299]\tvalid_0's auc: 0.911142\tvalid_0's binary_logloss: 1.11794\n",
      "[300]\tvalid_0's auc: 0.911198\tvalid_0's binary_logloss: 1.11764\n",
      "[301]\tvalid_0's auc: 0.911258\tvalid_0's binary_logloss: 1.11734\n",
      "[302]\tvalid_0's auc: 0.911436\tvalid_0's binary_logloss: 1.11658\n",
      "[303]\tvalid_0's auc: 0.911575\tvalid_0's binary_logloss: 1.11593\n",
      "[304]\tvalid_0's auc: 0.911685\tvalid_0's binary_logloss: 1.11541\n",
      "[305]\tvalid_0's auc: 0.91178\tvalid_0's binary_logloss: 1.11489\n",
      "[306]\tvalid_0's auc: 0.911862\tvalid_0's binary_logloss: 1.11446\n",
      "[307]\tvalid_0's auc: 0.911964\tvalid_0's binary_logloss: 1.11395\n",
      "[308]\tvalid_0's auc: 0.912112\tvalid_0's binary_logloss: 1.11318\n",
      "[309]\tvalid_0's auc: 0.912468\tvalid_0's binary_logloss: 1.11199\n",
      "[310]\tvalid_0's auc: 0.912579\tvalid_0's binary_logloss: 1.1115\n",
      "[311]\tvalid_0's auc: 0.912657\tvalid_0's binary_logloss: 1.11108\n",
      "[312]\tvalid_0's auc: 0.912886\tvalid_0's binary_logloss: 1.1102\n",
      "[313]\tvalid_0's auc: 0.913113\tvalid_0's binary_logloss: 1.10921\n",
      "[314]\tvalid_0's auc: 0.913211\tvalid_0's binary_logloss: 1.10864\n",
      "[315]\tvalid_0's auc: 0.91327\tvalid_0's binary_logloss: 1.10826\n",
      "[316]\tvalid_0's auc: 0.913378\tvalid_0's binary_logloss: 1.10768\n",
      "[317]\tvalid_0's auc: 0.913529\tvalid_0's binary_logloss: 1.10682\n",
      "[318]\tvalid_0's auc: 0.913598\tvalid_0's binary_logloss: 1.10637\n",
      "[319]\tvalid_0's auc: 0.913704\tvalid_0's binary_logloss: 1.10588\n",
      "[320]\tvalid_0's auc: 0.913755\tvalid_0's binary_logloss: 1.10549\n",
      "[321]\tvalid_0's auc: 0.913825\tvalid_0's binary_logloss: 1.10498\n",
      "[322]\tvalid_0's auc: 0.91397\tvalid_0's binary_logloss: 1.10421\n",
      "[323]\tvalid_0's auc: 0.914082\tvalid_0's binary_logloss: 1.10377\n",
      "[324]\tvalid_0's auc: 0.914219\tvalid_0's binary_logloss: 1.10292\n",
      "[325]\tvalid_0's auc: 0.914256\tvalid_0's binary_logloss: 1.10262\n",
      "[326]\tvalid_0's auc: 0.914317\tvalid_0's binary_logloss: 1.10221\n",
      "[327]\tvalid_0's auc: 0.91437\tvalid_0's binary_logloss: 1.10193\n",
      "[328]\tvalid_0's auc: 0.914484\tvalid_0's binary_logloss: 1.10129\n",
      "[329]\tvalid_0's auc: 0.914765\tvalid_0's binary_logloss: 1.10033\n",
      "[330]\tvalid_0's auc: 0.914828\tvalid_0's binary_logloss: 1.1\n",
      "[331]\tvalid_0's auc: 0.914908\tvalid_0's binary_logloss: 1.09949\n",
      "[332]\tvalid_0's auc: 0.91495\tvalid_0's binary_logloss: 1.09921\n",
      "[333]\tvalid_0's auc: 0.915124\tvalid_0's binary_logloss: 1.09845\n",
      "[334]\tvalid_0's auc: 0.915167\tvalid_0's binary_logloss: 1.09809\n",
      "[335]\tvalid_0's auc: 0.915212\tvalid_0's binary_logloss: 1.09784\n",
      "[336]\tvalid_0's auc: 0.915436\tvalid_0's binary_logloss: 1.09696\n",
      "[337]\tvalid_0's auc: 0.915515\tvalid_0's binary_logloss: 1.09648\n",
      "[338]\tvalid_0's auc: 0.915743\tvalid_0's binary_logloss: 1.09567\n",
      "[339]\tvalid_0's auc: 0.916022\tvalid_0's binary_logloss: 1.09474\n",
      "[340]\tvalid_0's auc: 0.916162\tvalid_0's binary_logloss: 1.09405\n",
      "[341]\tvalid_0's auc: 0.916185\tvalid_0's binary_logloss: 1.09384\n",
      "[342]\tvalid_0's auc: 0.916271\tvalid_0's binary_logloss: 1.09332\n",
      "[343]\tvalid_0's auc: 0.916441\tvalid_0's binary_logloss: 1.09267\n",
      "[344]\tvalid_0's auc: 0.916527\tvalid_0's binary_logloss: 1.09209\n",
      "[345]\tvalid_0's auc: 0.916576\tvalid_0's binary_logloss: 1.09177\n",
      "[346]\tvalid_0's auc: 0.916615\tvalid_0's binary_logloss: 1.09146\n",
      "[347]\tvalid_0's auc: 0.916713\tvalid_0's binary_logloss: 1.09102\n",
      "[348]\tvalid_0's auc: 0.916944\tvalid_0's binary_logloss: 1.09017\n",
      "[349]\tvalid_0's auc: 0.917084\tvalid_0's binary_logloss: 1.08943\n",
      "[350]\tvalid_0's auc: 0.917255\tvalid_0's binary_logloss: 1.08872\n",
      "[351]\tvalid_0's auc: 0.917346\tvalid_0's binary_logloss: 1.08829\n",
      "[352]\tvalid_0's auc: 0.917465\tvalid_0's binary_logloss: 1.0877\n",
      "[353]\tvalid_0's auc: 0.917498\tvalid_0's binary_logloss: 1.08737\n",
      "[354]\tvalid_0's auc: 0.917667\tvalid_0's binary_logloss: 1.08667\n",
      "[355]\tvalid_0's auc: 0.917744\tvalid_0's binary_logloss: 1.08617\n",
      "[356]\tvalid_0's auc: 0.917823\tvalid_0's binary_logloss: 1.08566\n",
      "[357]\tvalid_0's auc: 0.917977\tvalid_0's binary_logloss: 1.08488\n",
      "[358]\tvalid_0's auc: 0.918031\tvalid_0's binary_logloss: 1.08445\n",
      "[359]\tvalid_0's auc: 0.918165\tvalid_0's binary_logloss: 1.0838\n",
      "[360]\tvalid_0's auc: 0.918318\tvalid_0's binary_logloss: 1.08295\n",
      "[361]\tvalid_0's auc: 0.918449\tvalid_0's binary_logloss: 1.08228\n",
      "[362]\tvalid_0's auc: 0.918556\tvalid_0's binary_logloss: 1.08176\n",
      "[363]\tvalid_0's auc: 0.918628\tvalid_0's binary_logloss: 1.08133\n",
      "[364]\tvalid_0's auc: 0.91876\tvalid_0's binary_logloss: 1.08071\n",
      "[365]\tvalid_0's auc: 0.918942\tvalid_0's binary_logloss: 1.07981\n",
      "[366]\tvalid_0's auc: 0.919036\tvalid_0's binary_logloss: 1.0793\n",
      "[367]\tvalid_0's auc: 0.919167\tvalid_0's binary_logloss: 1.07871\n",
      "[368]\tvalid_0's auc: 0.919255\tvalid_0's binary_logloss: 1.07823\n",
      "[369]\tvalid_0's auc: 0.919329\tvalid_0's binary_logloss: 1.07772\n",
      "[370]\tvalid_0's auc: 0.919515\tvalid_0's binary_logloss: 1.07689\n",
      "[371]\tvalid_0's auc: 0.919612\tvalid_0's binary_logloss: 1.07631\n",
      "[372]\tvalid_0's auc: 0.919663\tvalid_0's binary_logloss: 1.07595\n",
      "[373]\tvalid_0's auc: 0.919693\tvalid_0's binary_logloss: 1.07568\n",
      "[374]\tvalid_0's auc: 0.919761\tvalid_0's binary_logloss: 1.07534\n",
      "[375]\tvalid_0's auc: 0.91983\tvalid_0's binary_logloss: 1.07488\n",
      "[376]\tvalid_0's auc: 0.919869\tvalid_0's binary_logloss: 1.07467\n",
      "[377]\tvalid_0's auc: 0.919937\tvalid_0's binary_logloss: 1.07433\n",
      "[378]\tvalid_0's auc: 0.91998\tvalid_0's binary_logloss: 1.07415\n",
      "[379]\tvalid_0's auc: 0.920043\tvalid_0's binary_logloss: 1.07378\n",
      "[380]\tvalid_0's auc: 0.920075\tvalid_0's binary_logloss: 1.07356\n",
      "[381]\tvalid_0's auc: 0.92017\tvalid_0's binary_logloss: 1.07306\n",
      "[382]\tvalid_0's auc: 0.920245\tvalid_0's binary_logloss: 1.07261\n",
      "[383]\tvalid_0's auc: 0.920359\tvalid_0's binary_logloss: 1.0721\n",
      "[384]\tvalid_0's auc: 0.920479\tvalid_0's binary_logloss: 1.07152\n",
      "[385]\tvalid_0's auc: 0.920554\tvalid_0's binary_logloss: 1.0711\n",
      "[386]\tvalid_0's auc: 0.920647\tvalid_0's binary_logloss: 1.07064\n",
      "[387]\tvalid_0's auc: 0.920699\tvalid_0's binary_logloss: 1.07026\n",
      "[388]\tvalid_0's auc: 0.920738\tvalid_0's binary_logloss: 1.06999\n",
      "[389]\tvalid_0's auc: 0.920761\tvalid_0's binary_logloss: 1.06981\n",
      "[390]\tvalid_0's auc: 0.920929\tvalid_0's binary_logloss: 1.06916\n",
      "[391]\tvalid_0's auc: 0.921009\tvalid_0's binary_logloss: 1.06867\n",
      "[392]\tvalid_0's auc: 0.921139\tvalid_0's binary_logloss: 1.06808\n",
      "[393]\tvalid_0's auc: 0.921175\tvalid_0's binary_logloss: 1.06773\n",
      "[394]\tvalid_0's auc: 0.92119\tvalid_0's binary_logloss: 1.06759\n",
      "[395]\tvalid_0's auc: 0.921205\tvalid_0's binary_logloss: 1.06746\n",
      "[396]\tvalid_0's auc: 0.921232\tvalid_0's binary_logloss: 1.06722\n",
      "[397]\tvalid_0's auc: 0.921259\tvalid_0's binary_logloss: 1.06705\n",
      "[398]\tvalid_0's auc: 0.921334\tvalid_0's binary_logloss: 1.06647\n",
      "[399]\tvalid_0's auc: 0.921433\tvalid_0's binary_logloss: 1.06593\n",
      "[400]\tvalid_0's auc: 0.921546\tvalid_0's binary_logloss: 1.0653\n",
      "[401]\tvalid_0's auc: 0.921678\tvalid_0's binary_logloss: 1.06476\n",
      "[402]\tvalid_0's auc: 0.921748\tvalid_0's binary_logloss: 1.06428\n",
      "[403]\tvalid_0's auc: 0.921816\tvalid_0's binary_logloss: 1.0639\n",
      "[404]\tvalid_0's auc: 0.921859\tvalid_0's binary_logloss: 1.06363\n",
      "[405]\tvalid_0's auc: 0.92189\tvalid_0's binary_logloss: 1.06328\n",
      "[406]\tvalid_0's auc: 0.92192\tvalid_0's binary_logloss: 1.06298\n",
      "[407]\tvalid_0's auc: 0.921945\tvalid_0's binary_logloss: 1.0628\n",
      "[408]\tvalid_0's auc: 0.922013\tvalid_0's binary_logloss: 1.06229\n",
      "[409]\tvalid_0's auc: 0.922046\tvalid_0's binary_logloss: 1.0621\n",
      "[410]\tvalid_0's auc: 0.922182\tvalid_0's binary_logloss: 1.06131\n",
      "[411]\tvalid_0's auc: 0.922249\tvalid_0's binary_logloss: 1.06091\n",
      "[412]\tvalid_0's auc: 0.922287\tvalid_0's binary_logloss: 1.06062\n",
      "[413]\tvalid_0's auc: 0.922348\tvalid_0's binary_logloss: 1.06023\n",
      "[414]\tvalid_0's auc: 0.922416\tvalid_0's binary_logloss: 1.05988\n",
      "[415]\tvalid_0's auc: 0.92254\tvalid_0's binary_logloss: 1.05929\n",
      "[416]\tvalid_0's auc: 0.922621\tvalid_0's binary_logloss: 1.05885\n",
      "[417]\tvalid_0's auc: 0.922723\tvalid_0's binary_logloss: 1.05837\n",
      "[418]\tvalid_0's auc: 0.922752\tvalid_0's binary_logloss: 1.05815\n",
      "[419]\tvalid_0's auc: 0.92278\tvalid_0's binary_logloss: 1.0579\n",
      "[420]\tvalid_0's auc: 0.922802\tvalid_0's binary_logloss: 1.05768\n",
      "[421]\tvalid_0's auc: 0.922942\tvalid_0's binary_logloss: 1.05698\n",
      "[422]\tvalid_0's auc: 0.922961\tvalid_0's binary_logloss: 1.0567\n",
      "[423]\tvalid_0's auc: 0.92298\tvalid_0's binary_logloss: 1.05653\n",
      "[424]\tvalid_0's auc: 0.923043\tvalid_0's binary_logloss: 1.05619\n",
      "[425]\tvalid_0's auc: 0.9231\tvalid_0's binary_logloss: 1.05573\n",
      "[426]\tvalid_0's auc: 0.923164\tvalid_0's binary_logloss: 1.05525\n",
      "[427]\tvalid_0's auc: 0.923254\tvalid_0's binary_logloss: 1.05482\n",
      "[428]\tvalid_0's auc: 0.923356\tvalid_0's binary_logloss: 1.05437\n",
      "[429]\tvalid_0's auc: 0.923392\tvalid_0's binary_logloss: 1.05409\n",
      "[430]\tvalid_0's auc: 0.923463\tvalid_0's binary_logloss: 1.05367\n",
      "[431]\tvalid_0's auc: 0.923567\tvalid_0's binary_logloss: 1.05309\n",
      "[432]\tvalid_0's auc: 0.923658\tvalid_0's binary_logloss: 1.05269\n",
      "[433]\tvalid_0's auc: 0.923745\tvalid_0's binary_logloss: 1.05226\n",
      "[434]\tvalid_0's auc: 0.923764\tvalid_0's binary_logloss: 1.05213\n",
      "[435]\tvalid_0's auc: 0.923844\tvalid_0's binary_logloss: 1.05165\n",
      "[436]\tvalid_0's auc: 0.923913\tvalid_0's binary_logloss: 1.05127\n",
      "[437]\tvalid_0's auc: 0.923962\tvalid_0's binary_logloss: 1.05097\n",
      "[438]\tvalid_0's auc: 0.924087\tvalid_0's binary_logloss: 1.05028\n",
      "[439]\tvalid_0's auc: 0.924186\tvalid_0's binary_logloss: 1.0498\n",
      "[440]\tvalid_0's auc: 0.92425\tvalid_0's binary_logloss: 1.04939\n",
      "[441]\tvalid_0's auc: 0.924291\tvalid_0's binary_logloss: 1.04914\n",
      "[442]\tvalid_0's auc: 0.924378\tvalid_0's binary_logloss: 1.0486\n",
      "[443]\tvalid_0's auc: 0.924429\tvalid_0's binary_logloss: 1.04831\n",
      "[444]\tvalid_0's auc: 0.924489\tvalid_0's binary_logloss: 1.0479\n",
      "[445]\tvalid_0's auc: 0.924567\tvalid_0's binary_logloss: 1.04738\n",
      "[446]\tvalid_0's auc: 0.924601\tvalid_0's binary_logloss: 1.04716\n",
      "[447]\tvalid_0's auc: 0.924648\tvalid_0's binary_logloss: 1.04678\n",
      "[448]\tvalid_0's auc: 0.924694\tvalid_0's binary_logloss: 1.04644\n",
      "[449]\tvalid_0's auc: 0.924736\tvalid_0's binary_logloss: 1.04622\n",
      "[450]\tvalid_0's auc: 0.924757\tvalid_0's binary_logloss: 1.04607\n",
      "[451]\tvalid_0's auc: 0.924795\tvalid_0's binary_logloss: 1.04579\n",
      "[452]\tvalid_0's auc: 0.924897\tvalid_0's binary_logloss: 1.04522\n",
      "[453]\tvalid_0's auc: 0.924924\tvalid_0's binary_logloss: 1.04507\n",
      "[454]\tvalid_0's auc: 0.924966\tvalid_0's binary_logloss: 1.0447\n",
      "[455]\tvalid_0's auc: 0.925011\tvalid_0's binary_logloss: 1.04435\n",
      "[456]\tvalid_0's auc: 0.925028\tvalid_0's binary_logloss: 1.04426\n",
      "[457]\tvalid_0's auc: 0.925039\tvalid_0's binary_logloss: 1.04417\n",
      "[458]\tvalid_0's auc: 0.925101\tvalid_0's binary_logloss: 1.04378\n",
      "[459]\tvalid_0's auc: 0.925126\tvalid_0's binary_logloss: 1.0436\n",
      "[460]\tvalid_0's auc: 0.925174\tvalid_0's binary_logloss: 1.04325\n",
      "[461]\tvalid_0's auc: 0.925221\tvalid_0's binary_logloss: 1.04281\n",
      "[462]\tvalid_0's auc: 0.92523\tvalid_0's binary_logloss: 1.04271\n",
      "[463]\tvalid_0's auc: 0.925381\tvalid_0's binary_logloss: 1.04204\n",
      "[464]\tvalid_0's auc: 0.925445\tvalid_0's binary_logloss: 1.04168\n",
      "[465]\tvalid_0's auc: 0.925473\tvalid_0's binary_logloss: 1.04144\n",
      "[466]\tvalid_0's auc: 0.925584\tvalid_0's binary_logloss: 1.04079\n",
      "[467]\tvalid_0's auc: 0.925616\tvalid_0's binary_logloss: 1.04057\n",
      "[468]\tvalid_0's auc: 0.925649\tvalid_0's binary_logloss: 1.04028\n",
      "[469]\tvalid_0's auc: 0.92582\tvalid_0's binary_logloss: 1.03937\n",
      "[470]\tvalid_0's auc: 0.925866\tvalid_0's binary_logloss: 1.03912\n",
      "[471]\tvalid_0's auc: 0.925932\tvalid_0's binary_logloss: 1.03878\n",
      "[472]\tvalid_0's auc: 0.926072\tvalid_0's binary_logloss: 1.03803\n",
      "[473]\tvalid_0's auc: 0.926109\tvalid_0's binary_logloss: 1.03774\n",
      "[474]\tvalid_0's auc: 0.926189\tvalid_0's binary_logloss: 1.03733\n",
      "[475]\tvalid_0's auc: 0.926238\tvalid_0's binary_logloss: 1.03703\n",
      "[476]\tvalid_0's auc: 0.926346\tvalid_0's binary_logloss: 1.03658\n",
      "[477]\tvalid_0's auc: 0.926398\tvalid_0's binary_logloss: 1.03632\n",
      "[478]\tvalid_0's auc: 0.92642\tvalid_0's binary_logloss: 1.03612\n",
      "[479]\tvalid_0's auc: 0.926486\tvalid_0's binary_logloss: 1.03569\n",
      "[480]\tvalid_0's auc: 0.926533\tvalid_0's binary_logloss: 1.0354\n",
      "[481]\tvalid_0's auc: 0.926561\tvalid_0's binary_logloss: 1.03522\n",
      "[482]\tvalid_0's auc: 0.926603\tvalid_0's binary_logloss: 1.03497\n",
      "[483]\tvalid_0's auc: 0.926635\tvalid_0's binary_logloss: 1.03473\n",
      "[484]\tvalid_0's auc: 0.926738\tvalid_0's binary_logloss: 1.03412\n",
      "[485]\tvalid_0's auc: 0.926801\tvalid_0's binary_logloss: 1.03359\n",
      "[486]\tvalid_0's auc: 0.926828\tvalid_0's binary_logloss: 1.0334\n",
      "[487]\tvalid_0's auc: 0.926876\tvalid_0's binary_logloss: 1.03309\n",
      "[488]\tvalid_0's auc: 0.926961\tvalid_0's binary_logloss: 1.03255\n",
      "[489]\tvalid_0's auc: 0.927008\tvalid_0's binary_logloss: 1.03217\n",
      "[490]\tvalid_0's auc: 0.927049\tvalid_0's binary_logloss: 1.0318\n",
      "[491]\tvalid_0's auc: 0.927108\tvalid_0's binary_logloss: 1.03144\n",
      "[492]\tvalid_0's auc: 0.927167\tvalid_0's binary_logloss: 1.03098\n",
      "[493]\tvalid_0's auc: 0.927211\tvalid_0's binary_logloss: 1.03057\n",
      "[494]\tvalid_0's auc: 0.927239\tvalid_0's binary_logloss: 1.03032\n",
      "[495]\tvalid_0's auc: 0.927309\tvalid_0's binary_logloss: 1.02986\n",
      "[496]\tvalid_0's auc: 0.927361\tvalid_0's binary_logloss: 1.02955\n",
      "[497]\tvalid_0's auc: 0.927415\tvalid_0's binary_logloss: 1.02918\n",
      "[498]\tvalid_0's auc: 0.92748\tvalid_0's binary_logloss: 1.02885\n",
      "[499]\tvalid_0's auc: 0.927605\tvalid_0's binary_logloss: 1.02827\n",
      "[500]\tvalid_0's auc: 0.927655\tvalid_0's binary_logloss: 1.02796\n",
      "Did not meet early stopping. Best iteration is:\n",
      "[500]\tvalid_0's auc: 0.927655\tvalid_0's binary_logloss: 1.02796\n",
      "오차 행렬\n",
      "[[5969    7]\n",
      " [ 207    0]]\n",
      "정확도: 0.9654, 정밀도: 0.0000, 재현율: 0.0000\n"
     ]
    }
   ],
   "source": [
    "from lightgbm import LGBMClassifier\n",
    "\n",
    "lgbm_clf = LGBMClassifier(n_estimators=500)\n",
    "\n",
    "evals = [(X_train_over, y_train_over)]\n",
    "lgbm_clf.fit(X_train, y_train, early_stopping_rounds=100, eval_metric=\"auc\", eval_set=evals, verbose=True)\n",
    "\n",
    "lgbm_preds = lgbm_clf.predict(X_test)\n",
    "\n",
    "get_clf_eval(y_test , lgbm_preds)\n"
   ]
  },
  {
   "cell_type": "code",
   "execution_count": null,
   "metadata": {},
   "outputs": [],
   "source": []
  }
 ],
 "metadata": {
  "kernelspec": {
   "display_name": "Python 3",
   "language": "python",
   "name": "python3"
  },
  "language_info": {
   "codemirror_mode": {
    "name": "ipython",
    "version": 3
   },
   "file_extension": ".py",
   "mimetype": "text/x-python",
   "name": "python",
   "nbconvert_exporter": "python",
   "pygments_lexer": "ipython3",
   "version": "3.7.4"
  }
 },
 "nbformat": 4,
 "nbformat_minor": 2
}
