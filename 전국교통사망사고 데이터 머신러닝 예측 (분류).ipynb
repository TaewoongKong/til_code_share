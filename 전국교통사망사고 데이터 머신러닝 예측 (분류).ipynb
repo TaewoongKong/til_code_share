{
 "cells": [
  {
   "cell_type": "markdown",
   "metadata": {},
   "source": [
    "### 모듈, 패키지 로딩"
   ]
  },
  {
   "cell_type": "code",
   "execution_count": 60,
   "metadata": {},
   "outputs": [],
   "source": [
    "import pandas as pd\n",
    "import numpy as np\n",
    "from sklearn.preprocessing import OneHotEncoder\n",
    "\n",
    "\n",
    "from sklearn.ensemble import VotingClassifier\n",
    "from sklearn.neighbors import KNeighborsClassifier\n",
    "from sklearn.linear_model import LogisticRegression\n",
    "from sklearn.ensemble import RandomForestClassifier\n",
    "\n",
    "from sklearn.metrics import accuracy_score, roc_auc_score\n",
    "from sklearn.metrics import f1_score, confusion_matrix, precision_recall_curve, roc_curve\n",
    "from sklearn.model_selection import GridSearchCV\n",
    "from sklearn.model_selection import train_test_split\n"
   ]
  },
  {
   "cell_type": "code",
   "execution_count": 2,
   "metadata": {},
   "outputs": [],
   "source": [
    "import matplotlib\n",
    "import matplotlib.pyplot as plt  # 파이플롯 사용\n",
    "import seaborn as sns\n",
    "from IPython.display import set_matplotlib_formats\n",
    "set_matplotlib_formats('retina')  # 한글코드를 더 선명하게 해주는 조치, 레티나 설정\n",
    "matplotlib.rc('font', family='AppleGothic') # 폰트 설정\n",
    "matplotlib.rc('axes', unicode_minus=False) # 마이너스 폰트가 깨지는 경우가 있으므로 조치\n"
   ]
  },
  {
   "cell_type": "markdown",
   "metadata": {},
   "source": [
    "### 학습 테스트 데이터 로딩\n",
    "\n",
    "- 당사자종별을 1당/2당으로 표기한 데이터가 있고 (2012_2014, 2016,2017) 가해자/피해자로 표기한 데이터가 있다 (2015, 2018)\n",
    "- 피쳐 데이터 : 발생시(hour), 도로형태, 발생지시군구, 사고유형_중분류, 가해자_당사자종별(1당), 피해자_당사자종별(2당)"
   ]
  },
  {
   "cell_type": "code",
   "execution_count": 3,
   "metadata": {},
   "outputs": [
    {
     "data": {
      "text/plain": [
       "(14624, 27)"
      ]
     },
     "execution_count": 3,
     "metadata": {},
     "output_type": "execute_result"
    }
   ],
   "source": [
    "car_acc_2012_2014 = pd.read_csv('/Users/taewoongkong/workspace/pandas_public_data/car_acc_2012_2014.csv', encoding='euc-kr', engine='python')\n",
    "car_acc_2012_2014.shape\n"
   ]
  },
  {
   "cell_type": "code",
   "execution_count": 4,
   "metadata": {},
   "outputs": [
    {
     "data": {
      "text/plain": [
       "(4447, 26)"
      ]
     },
     "execution_count": 4,
     "metadata": {},
     "output_type": "execute_result"
    }
   ],
   "source": [
    "car_acc_2015 = pd.read_csv('/Users/taewoongkong/workspace/pandas_public_data/car_acc_2015.csv', encoding='euc-kr', engine='python')\n",
    "car_acc_2015.shape"
   ]
  },
  {
   "cell_type": "code",
   "execution_count": 5,
   "metadata": {},
   "outputs": [
    {
     "data": {
      "text/plain": [
       "(4119, 27)"
      ]
     },
     "execution_count": 5,
     "metadata": {},
     "output_type": "execute_result"
    }
   ],
   "source": [
    "car_acc_2016 = pd.read_csv('/Users/taewoongkong/workspace/pandas_public_data/car_acc_2016.csv', encoding='euc-kr', engine='python')\n",
    "car_acc_2016.shape"
   ]
  },
  {
   "cell_type": "code",
   "execution_count": 6,
   "metadata": {},
   "outputs": [
    {
     "data": {
      "text/plain": [
       "(4065, 27)"
      ]
     },
     "execution_count": 6,
     "metadata": {},
     "output_type": "execute_result"
    }
   ],
   "source": [
    "car_acc_2017 = pd.read_csv('/Users/taewoongkong/workspace/pandas_public_data/car_acc_2017.csv', encoding='euc-kr', engine='python')\n",
    "car_acc_2017.shape"
   ]
  },
  {
   "cell_type": "code",
   "execution_count": 7,
   "metadata": {},
   "outputs": [
    {
     "data": {
      "text/plain": [
       "(3657, 26)"
      ]
     },
     "execution_count": 7,
     "metadata": {},
     "output_type": "execute_result"
    }
   ],
   "source": [
    "car_acc_2018 = pd.read_csv('/Users/taewoongkong/workspace/pandas_public_data/car_acc_2018.csv', encoding='euc-kr', engine='python')\n",
    "car_acc_2018.shape"
   ]
  },
  {
   "cell_type": "code",
   "execution_count": 8,
   "metadata": {},
   "outputs": [],
   "source": [
    "#당사자종별을 1당/2당으로 표기한 데이터가 있고 (2012_2014, 2016,2017) 가해자/피해자로 표기한 데이터가 있다 (2015, 2018)\n",
    "\n",
    "car_acc_2012_2014['가해자_당사자종별'] = car_acc_2012_2014['당사자종별_1당']\n",
    "car_acc_2012_2014['피해자_당사자종별'] = car_acc_2012_2014['당사자종별_2당']\n",
    "\n",
    "car_acc_2016['가해자_당사자종별'] = car_acc_2016['당사자종별_1당']\n",
    "car_acc_2016['피해자_당사자종별'] = car_acc_2016['당사자종별_2당']\n",
    "\n",
    "car_acc_2017['가해자_당사자종별'] = car_acc_2017['당사자종별_1당']\n",
    "car_acc_2017['피해자_당사자종별'] = car_acc_2017['당사자종별_2당']\n"
   ]
  },
  {
   "cell_type": "markdown",
   "metadata": {},
   "source": [
    "### 전처리\n",
    "\n",
    "- 피쳐데이터로 쓸 것만 남기기 (레이블 데이터인 사망자수도 일단 포함)\n",
    "- concat\n",
    "- 발생시hour 변환 작업\n",
    "- 발생시도 + 발생시군구를 합치기\n",
    "- 사망자수 1 or 다수로 2분할 (0 - 1명 사망 , 1 - 다수 사망)\n",
    "- 각 피쳐 null 처리 및 피쳐 엔지니어링\n"
   ]
  },
  {
   "cell_type": "code",
   "execution_count": 9,
   "metadata": {},
   "outputs": [],
   "source": [
    "ftr_columns = ['발생년월일시', '발생지시도', '발생지시군구', '사고유형_중분류', '가해자_당사자종별', '피해자_당사자종별', '사망자수']"
   ]
  },
  {
   "cell_type": "code",
   "execution_count": 10,
   "metadata": {},
   "outputs": [],
   "source": [
    "# 발생년월일시분이라고 저장된 데이터셋은 따로 처리\n",
    "car_acc_2015['발생년월일시'] = car_acc_2015['발생년월일시분']\n",
    "car_acc_2018['발생년월일시'] = car_acc_2018['발생년월일시분']"
   ]
  },
  {
   "cell_type": "code",
   "execution_count": 11,
   "metadata": {},
   "outputs": [],
   "source": [
    "# 필요한 피쳐만 남겨서 새로운 데이터프레임에 저장\n",
    "\n",
    "car_acc_2012_2014_ftr = car_acc_2012_2014[ftr_columns]\n",
    "car_acc_2015_ftr = car_acc_2015[ftr_columns]\n",
    "car_acc_2016_ftr = car_acc_2016[ftr_columns]\n",
    "car_acc_2017_ftr = car_acc_2017[ftr_columns]\n",
    "car_acc_2018_ftr = car_acc_2018[ftr_columns]"
   ]
  },
  {
   "cell_type": "code",
   "execution_count": 12,
   "metadata": {},
   "outputs": [
    {
     "data": {
      "text/html": [
       "<div>\n",
       "<style scoped>\n",
       "    .dataframe tbody tr th:only-of-type {\n",
       "        vertical-align: middle;\n",
       "    }\n",
       "\n",
       "    .dataframe tbody tr th {\n",
       "        vertical-align: top;\n",
       "    }\n",
       "\n",
       "    .dataframe thead th {\n",
       "        text-align: right;\n",
       "    }\n",
       "</style>\n",
       "<table border=\"1\" class=\"dataframe\">\n",
       "  <thead>\n",
       "    <tr style=\"text-align: right;\">\n",
       "      <th></th>\n",
       "      <th>발생년월일시</th>\n",
       "      <th>발생지시도</th>\n",
       "      <th>발생지시군구</th>\n",
       "      <th>사고유형_중분류</th>\n",
       "      <th>가해자_당사자종별</th>\n",
       "      <th>피해자_당사자종별</th>\n",
       "      <th>사망자수</th>\n",
       "    </tr>\n",
       "  </thead>\n",
       "  <tbody>\n",
       "    <tr>\n",
       "      <th>3652</th>\n",
       "      <td>2018-05-21 03:55</td>\n",
       "      <td>경기</td>\n",
       "      <td>포천시</td>\n",
       "      <td>공작물충돌</td>\n",
       "      <td>승용차</td>\n",
       "      <td>없음</td>\n",
       "      <td>1</td>\n",
       "    </tr>\n",
       "    <tr>\n",
       "      <th>3653</th>\n",
       "      <td>2018-06-08 08:43</td>\n",
       "      <td>경기</td>\n",
       "      <td>포천시</td>\n",
       "      <td>추돌</td>\n",
       "      <td>화물차</td>\n",
       "      <td>농기계</td>\n",
       "      <td>1</td>\n",
       "    </tr>\n",
       "    <tr>\n",
       "      <th>3654</th>\n",
       "      <td>2018-01-20 10:15</td>\n",
       "      <td>경기</td>\n",
       "      <td>가평군</td>\n",
       "      <td>공작물충돌</td>\n",
       "      <td>승용차</td>\n",
       "      <td>없음</td>\n",
       "      <td>1</td>\n",
       "    </tr>\n",
       "    <tr>\n",
       "      <th>3655</th>\n",
       "      <td>2018-02-03 21:05</td>\n",
       "      <td>경기</td>\n",
       "      <td>가평군</td>\n",
       "      <td>정면충돌</td>\n",
       "      <td>승용차</td>\n",
       "      <td>승용차</td>\n",
       "      <td>1</td>\n",
       "    </tr>\n",
       "    <tr>\n",
       "      <th>3656</th>\n",
       "      <td>2018-12-03 10:05</td>\n",
       "      <td>경기</td>\n",
       "      <td>연천군</td>\n",
       "      <td>측면충돌</td>\n",
       "      <td>승용차</td>\n",
       "      <td>승용차</td>\n",
       "      <td>1</td>\n",
       "    </tr>\n",
       "  </tbody>\n",
       "</table>\n",
       "</div>"
      ],
      "text/plain": [
       "                발생년월일시 발생지시도 발생지시군구 사고유형_중분류 가해자_당사자종별 피해자_당사자종별  사망자수\n",
       "3652  2018-05-21 03:55    경기    포천시    공작물충돌       승용차        없음     1\n",
       "3653  2018-06-08 08:43    경기    포천시       추돌       화물차       농기계     1\n",
       "3654  2018-01-20 10:15    경기    가평군    공작물충돌       승용차        없음     1\n",
       "3655  2018-02-03 21:05    경기    가평군     정면충돌       승용차       승용차     1\n",
       "3656  2018-12-03 10:05    경기    연천군     측면충돌       승용차       승용차     1"
      ]
     },
     "execution_count": 12,
     "metadata": {},
     "output_type": "execute_result"
    }
   ],
   "source": [
    "# concat\n",
    "\n",
    "car_acc_ftr = pd.concat([car_acc_2012_2014_ftr, \n",
    "                         car_acc_2015_ftr, \n",
    "                         car_acc_2016_ftr, \n",
    "                         car_acc_2017_ftr, \n",
    "                         car_acc_2018_ftr], sort = False)\n",
    "car_acc_ftr.tail()"
   ]
  },
  {
   "cell_type": "code",
   "execution_count": 13,
   "metadata": {},
   "outputs": [],
   "source": [
    "# hour 변환 - null값 없음 확인\n",
    "\n",
    "car_acc_ftr['발생시'] = pd.to_datetime(car_acc_ftr['발생년월일시'])\n",
    "car_acc_ftr['발생시'] = car_acc_ftr['발생시'].dt.hour"
   ]
  },
  {
   "cell_type": "code",
   "execution_count": 14,
   "metadata": {},
   "outputs": [],
   "source": [
    "car_acc_ftr['발생지'] = car_acc_ftr['발생지시도'] + '-' + car_acc_ftr['발생지시군구']"
   ]
  },
  {
   "cell_type": "code",
   "execution_count": 15,
   "metadata": {},
   "outputs": [],
   "source": [
    "car_acc_ftr = car_acc_ftr.drop(['발생지시도', '발생지시군구'], axis = 1)"
   ]
  },
  {
   "cell_type": "code",
   "execution_count": 16,
   "metadata": {},
   "outputs": [],
   "source": [
    "def 사망자수_이진분류(count):\n",
    "    if count == 1:\n",
    "        return 0\n",
    "    else:\n",
    "        return 1"
   ]
  },
  {
   "cell_type": "markdown",
   "metadata": {},
   "source": [
    "#### 가해자 데이터 전처리\n",
    "\n",
    "- 경형 -> 소형 으로 편입\n",
    "- 원동기장치자전거 -> 이륜차로 편입\n",
    "- 사발이, 사륜오토바이 -> 이륜차로 편입\n",
    "- 승합차 -> 대형으로 편입\n",
    "- 특수차, 불명, 개인형이동수단, 기타 -> 기타로 편입"
   ]
  },
  {
   "cell_type": "code",
   "execution_count": 17,
   "metadata": {},
   "outputs": [],
   "source": [
    "# 가해자_당사자종별 데이터 전처리\n",
    "\n",
    "car_acc_ftr.loc[car_acc_ftr['가해자_당사자종별'] == '경형', '가해자_당사자종별'] = '소형'\n",
    "car_acc_ftr.loc[car_acc_ftr['가해자_당사자종별'] == '원동기장치자전거', '가해자_당사자종별'] = '이륜차'\n",
    "car_acc_ftr.loc[car_acc_ftr['가해자_당사자종별'] == '사발이', '가해자_당사자종별'] = '이륜차'\n",
    "car_acc_ftr.loc[car_acc_ftr['가해자_당사자종별'] == '사륜오토바이(ATV)', '가해자_당사자종별'] = '이륜차'\n",
    "car_acc_ftr.loc[car_acc_ftr['가해자_당사자종별'] == '승합차', '가해자_당사자종별'] = '대형'\n",
    "car_acc_ftr.loc[car_acc_ftr['가해자_당사자종별'] == '특수차', '가해자_당사자종별'] = '기타'\n",
    "car_acc_ftr.loc[car_acc_ftr['가해자_당사자종별'] == '불명', '가해자_당사자종별'] = '기타'\n",
    "car_acc_ftr.loc[car_acc_ftr['가해자_당사자종별'] == '개인형이동수단(PM)', '가해자_당사자종별'] = '기타'\n",
    "\n"
   ]
  },
  {
   "cell_type": "markdown",
   "metadata": {},
   "source": [
    "#### 피해자 데이터 전처리\n",
    "\n",
    "- 00 -> 대물사고 로 구체화\n",
    "- 없음 -> 대물사고로 구체화\n",
    "- 경형 -> 소형 으로 편입\n",
    "- 원동기장치자전거 -> 이륜차로 편입\n",
    "- 사발이, 사륜오토바이 -> 이륜차로 편입\n",
    "- 승합차 -> 대형으로 편입\n",
    "- 불명 -> 보행자로 편입\n",
    "- 특수차, 개인형이동수단, 기타 -> 기타로 편입"
   ]
  },
  {
   "cell_type": "code",
   "execution_count": 18,
   "metadata": {},
   "outputs": [],
   "source": [
    "car_acc_ftr.loc[car_acc_ftr['피해자_당사자종별'] == '00', '피해자_당사자종별'] = '대물사고'\n",
    "car_acc_ftr.loc[car_acc_ftr['피해자_당사자종별'] == '없음', '피해자_당사자종별'] = '대물사고'\n",
    "car_acc_ftr.loc[car_acc_ftr['피해자_당사자종별'] == '경형', '피해자_당사자종별'] = '소형'\n",
    "car_acc_ftr.loc[car_acc_ftr['피해자_당사자종별'] == '승합차', '피해자_당사자종별'] = '대형'\n",
    "car_acc_ftr.loc[car_acc_ftr['피해자_당사자종별'] == '원동기장치자전거', '피해자_당사자종별'] = '이륜차'\n",
    "car_acc_ftr.loc[car_acc_ftr['피해자_당사자종별'] == '사발이', '피해자_당사자종별'] = '이륜차'\n",
    "car_acc_ftr.loc[car_acc_ftr['피해자_당사자종별'] == '사륜오토바이(ATV)', '피해자_당사자종별'] = '이륜차'\n",
    "car_acc_ftr.loc[car_acc_ftr['피해자_당사자종별'] == '특수차', '피해자_당사자종별'] = '기타'\n",
    "car_acc_ftr.loc[car_acc_ftr['피해자_당사자종별'] == '불명', '피해자_당사자종별'] = '기타'\n",
    "car_acc_ftr.loc[car_acc_ftr['피해자_당사자종별'] == '열차', '피해자_당사자종별'] = '기타'\n"
   ]
  },
  {
   "cell_type": "markdown",
   "metadata": {},
   "source": [
    "#### 사고유형_중분류 데이터 전처리\n",
    "\n",
    "- 전도 -> 전도전복 으로 편입\n",
    "- 전복 -> 전도전복 으로 편입\n",
    "- 차도, 보도통행중 -> 횡단중 으로 편입\n",
    "- 직전진행, 경보기무시, 차단기돌파, 철길건널목 -> 기타로 편입\n"
   ]
  },
  {
   "cell_type": "code",
   "execution_count": 19,
   "metadata": {},
   "outputs": [],
   "source": [
    "car_acc_ftr.loc[car_acc_ftr['사고유형_중분류'] == '전도', '사고유형_중분류'] = '전도전복'\n",
    "car_acc_ftr.loc[car_acc_ftr['사고유형_중분류'] == '전복', '사고유형_중분류'] = '전도전복'\n",
    "car_acc_ftr.loc[car_acc_ftr['사고유형_중분류'] == '차도통행중', '사고유형_중분류'] = '횡단중'\n",
    "car_acc_ftr.loc[car_acc_ftr['사고유형_중분류'] == '보도통행중', '사고유형_중분류'] = '횡단중'\n",
    "car_acc_ftr.loc[car_acc_ftr['사고유형_중분류'] == '직전진행', '사고유형_중분류'] = '기타'\n",
    "car_acc_ftr.loc[car_acc_ftr['사고유형_중분류'] == '경보기무시', '사고유형_중분류'] = '기타'\n",
    "car_acc_ftr.loc[car_acc_ftr['사고유형_중분류'] == '차단기돌파', '사고유형_중분류'] = '기타'\n",
    "car_acc_ftr.loc[car_acc_ftr['사고유형_중분류'] == '철길건널목', '사고유형_중분류'] = '기타'\n"
   ]
  },
  {
   "cell_type": "code",
   "execution_count": 20,
   "metadata": {},
   "outputs": [],
   "source": [
    "car_acc_ftr['사망자수_타겟값'] = car_acc_ftr['사망자수'].apply(사망자수_이진분류)"
   ]
  },
  {
   "cell_type": "code",
   "execution_count": 21,
   "metadata": {},
   "outputs": [],
   "source": [
    "car_acc_ftr = car_acc_ftr.drop(['사망자수', '발생년월일시'], axis =1)"
   ]
  },
  {
   "cell_type": "code",
   "execution_count": 34,
   "metadata": {},
   "outputs": [
    {
     "data": {
      "text/plain": [
       "0    29916\n",
       "1      996\n",
       "Name: 사망자수_타겟값, dtype: int64"
      ]
     },
     "execution_count": 34,
     "metadata": {},
     "output_type": "execute_result"
    }
   ],
   "source": [
    "car_acc_ftr['사망자수_타겟값'].value_counts()"
   ]
  },
  {
   "cell_type": "markdown",
   "metadata": {},
   "source": [
    "## 머신러닝 학습 진행 (랜덤포레스트)"
   ]
  },
  {
   "cell_type": "markdown",
   "metadata": {},
   "source": [
    "### 원핫인코딩"
   ]
  },
  {
   "cell_type": "code",
   "execution_count": null,
   "metadata": {},
   "outputs": [],
   "source": [
    "X_df = car_acc_ftr.iloc[:,:-1]\n",
    "y_df = car_acc_ftr.iloc[:,-1]"
   ]
  },
  {
   "cell_type": "code",
   "execution_count": 28,
   "metadata": {},
   "outputs": [],
   "source": [
    "X_features_ohe = pd.get_dummies(X_df, columns=X_df.columns)"
   ]
  },
  {
   "cell_type": "code",
   "execution_count": 31,
   "metadata": {},
   "outputs": [],
   "source": [
    "X_train, X_test, y_train, y_test = train_test_split(X_features_ohe, y_df, test_size=0.2, random_state=11)"
   ]
  },
  {
   "cell_type": "code",
   "execution_count": 54,
   "metadata": {},
   "outputs": [
    {
     "name": "stdout",
     "output_type": "stream",
     "text": [
      "랜덤 포레스트 정확도: 0.9652\n",
      "RandomForestClassifier 기본 하이퍼 파라미터:\n",
      " {'bootstrap': True, 'ccp_alpha': 0.0, 'class_weight': None, 'criterion': 'gini', 'max_depth': None, 'max_features': 'auto', 'max_leaf_nodes': None, 'max_samples': None, 'min_impurity_decrease': 0.0, 'min_impurity_split': None, 'min_samples_leaf': 1, 'min_samples_split': 2, 'min_weight_fraction_leaf': 0.0, 'n_estimators': 100, 'n_jobs': None, 'oob_score': False, 'random_state': 0, 'verbose': 0, 'warm_start': False}\n"
     ]
    }
   ],
   "source": [
    "# 랜덤 포레스트 학습 및 별도의 테스트 셋으로 예측 성능 평가\n",
    "rf_clf = RandomForestClassifier(random_state=0)\n",
    "rf_clf.fit(X_train , y_train)\n",
    "rf_pred = rf_clf.predict(X_test)\n",
    "rf_accuracy = accuracy_score(y_test , pred)\n",
    "print('랜덤 포레스트 정확도: {0:.4f}'.format(rf_accuracy))\n",
    "\n",
    "print('RandomForestClassifier 기본 하이퍼 파라미터:\\n', rf_clf.get_params())"
   ]
  },
  {
   "cell_type": "code",
   "execution_count": 66,
   "metadata": {},
   "outputs": [],
   "source": [
    "from sklearn.metrics import accuracy_score, precision_score , recall_score , confusion_matrix\n",
    "\n",
    "def get_clf_eval(y_test , pred):\n",
    "    confusion = confusion_matrix( y_test, pred)\n",
    "    accuracy = accuracy_score(y_test , pred)\n",
    "    precision = precision_score(y_test , pred)\n",
    "    recall = recall_score(y_test , pred)\n",
    "    print('오차 행렬')\n",
    "    print(confusion)\n",
    "    print('정확도: {0:.4f}, 정밀도: {1:.4f}, 재현율: {2:.4f}'.format(accuracy , precision ,recall))"
   ]
  },
  {
   "cell_type": "code",
   "execution_count": 67,
   "metadata": {},
   "outputs": [
    {
     "name": "stdout",
     "output_type": "stream",
     "text": [
      "오차 행렬\n",
      "[[5966   10]\n",
      " [ 205    2]]\n",
      "정확도: 0.9652, 정밀도: 0.1667, 재현율: 0.0097\n"
     ]
    }
   ],
   "source": [
    "get_clf_eval(y_test, rf_pred)"
   ]
  },
  {
   "cell_type": "code",
   "execution_count": 68,
   "metadata": {},
   "outputs": [
    {
     "name": "stdout",
     "output_type": "stream",
     "text": [
      "0.0182648401826484\n"
     ]
    }
   ],
   "source": [
    "f1 = f1_score(y_test, rf_pred)\n",
    "print(f1)"
   ]
  },
  {
   "cell_type": "code",
   "execution_count": 33,
   "metadata": {},
   "outputs": [
    {
     "data": {
      "image/png": "[encoded data removed]",
      "text/plain": [
       "<Figure size 576x432 with 1 Axes>"
      ]
     },
     "metadata": {
      "image/png": {
       "height": 372,
       "width": 607
      },
      "needs_background": "light"
     },
     "output_type": "display_data"
    }
   ],
   "source": [
    "ftr_importances_values = rf_clf.feature_importances_\n",
    "ftr_importances = pd.Series(ftr_importances_values,index=X_train.columns  )\n",
    "ftr_top20 = ftr_importances.sort_values(ascending=False)[:20]\n",
    "\n",
    "plt.figure(figsize=(8,6))\n",
    "plt.title('Feature importances Top 20')\n",
    "sns.barplot(x=ftr_top20 , y = ftr_top20.index)\n",
    "plt.show()"
   ]
  },
  {
   "cell_type": "code",
   "execution_count": 48,
   "metadata": {},
   "outputs": [
    {
     "name": "stdout",
     "output_type": "stream",
     "text": [
      "accuracy: 0.967\n",
      "roc_auc: 0.500\n"
     ]
    }
   ],
   "source": [
    "lr_clf = LogisticRegression()\n",
    "lr_clf.fit(X_train, y_train)\n",
    "lr_preds = lr_clf.predict(X_test)\n",
    "\n",
    "# accuracy와 roc_auc 측정\n",
    "print('accuracy: {:0.3f}'.format(accuracy_score(y_test, lr_preds)))\n",
    "print('roc_auc: {:0.3f}'.format(roc_auc_score(y_test , lr_preds)))"
   ]
  },
  {
   "cell_type": "code",
   "execution_count": 56,
   "metadata": {},
   "outputs": [
    {
     "name": "stdout",
     "output_type": "stream",
     "text": [
      "오차 행렬\n",
      "[[5976    0]\n",
      " [ 207    0]]\n",
      "정확도: 0.9665, 정밀도: 0.0000, 재현율: 0.0000\n"
     ]
    },
    {
     "name": "stderr",
     "output_type": "stream",
     "text": [
      "/Users/taewoongkong/miniconda3/lib/python3.7/site-packages/sklearn/metrics/_classification.py:1268: UndefinedMetricWarning: Precision is ill-defined and being set to 0.0 due to no predicted samples. Use `zero_division` parameter to control this behavior.\n",
      "  _warn_prf(average, modifier, msg_start, len(result))\n"
     ]
    }
   ],
   "source": [
    "get_clf_eval(y_test, lr_preds)"
   ]
  },
  {
   "cell_type": "code",
   "execution_count": 72,
   "metadata": {},
   "outputs": [],
   "source": [
    "pred_proba = lr_clf.predict_proba(X_test)"
   ]
  },
  {
   "cell_type": "code",
   "execution_count": 73,
   "metadata": {},
   "outputs": [
    {
     "name": "stdout",
     "output_type": "stream",
     "text": [
      "[[0.95312698 0.04687302]\n",
      " [0.99709368 0.00290632]\n",
      " [0.96561677 0.03438323]\n",
      " ...\n",
      " [0.9076655  0.0923345 ]\n",
      " [0.99150427 0.00849573]\n",
      " [0.89708825 0.10291175]]\n"
     ]
    }
   ],
   "source": [
    "print(pred_proba)"
   ]
  },
  {
   "cell_type": "code",
   "execution_count": null,
   "metadata": {},
   "outputs": [],
   "source": []
  }
 ],
 "metadata": {
  "kernelspec": {
   "display_name": "Python 3",
   "language": "python",
   "name": "python3"
  },
  "language_info": {
   "codemirror_mode": {
    "name": "ipython",
    "version": 3
   },
   "file_extension": ".py",
   "mimetype": "text/x-python",
   "name": "python",
   "nbconvert_exporter": "python",
   "pygments_lexer": "ipython3",
   "version": "3.7.4"
  }
 },
 "nbformat": 4,
 "nbformat_minor": 2
}
