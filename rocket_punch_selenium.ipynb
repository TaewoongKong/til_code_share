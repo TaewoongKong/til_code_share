{
 "cells": [
  {
   "cell_type": "code",
   "execution_count": null,
   "metadata": {},
   "outputs": [],
   "source": [
    "# 셀레늄 import\n",
    "\n",
    "from selenium import webdriver\n",
    "from selenium.webdriver.common.keys import Keys\n",
    "from selenium.webdriver.support.ui import WebDriverWait\n",
    "from selenium.webdriver.support import expected_conditions as EC\n",
    "from selenium.common.exceptions import TimeoutException\n",
    "from selenium.common.exceptions import NoSuchElementException\n",
    "from selenium.webdriver.common.by import By\n",
    "from selenium.webdriver.support.ui import Select\n",
    "import pandas as pd\n",
    "import numpy as np\n",
    "import time\n",
    "\n",
    "# beautiful soup import\n",
    "from bs4 import BeautifulSoup\n",
    "import requests\n",
    "\n",
    "\n",
    "from tqdm import tqdm_notebook\n",
    "\n"
   ]
  },
  {
   "cell_type": "code",
   "execution_count": null,
   "metadata": {},
   "outputs": [],
   "source": [
    "# 클릭\n",
    "def select_click(where, driver):\n",
    "    button = driver.find_element_by_css_selector(str(where))\n",
    "    actions = webdriver.ActionChains(driver)\n",
    "    return actions.click(button).perform()\n"
   ]
  },
  {
   "cell_type": "markdown",
   "metadata": {},
   "source": [
    "### 클래스101 채용 페이지 크롤링\n",
    "\n",
    "\n",
    "링크 : https://www.rocketpunch.com/jobs/66401/Product-Analyst%EC%9D%B8%ED%84%B4\n",
    "\n",
    "링크 구성 : https://www.rocketpunch.com/ + 채용(jobs) + 등록번호(클래스101 자리 - 66401 ? 인건가? + 채용공고 명 (프로덕트 애널리스트 인턴)"
   ]
  },
  {
   "cell_type": "code",
   "execution_count": null,
   "metadata": {},
   "outputs": [],
   "source": [
    "\n",
    "\n",
    "chromedriver = '/Users/taewoongkong/workspace/selenium_learning/chromedriver'\n",
    "main_driver = webdriver.Chrome(chromedriver)\n",
    "\n",
    "# n억 이상 투자 받은 스타트업만 보기\n",
    "funding_amount = \"10000000000\"  # 100억 10000000000\n",
    "main_driver.get(f'https://www.rocketpunch.com/companies?funding_volume={funding_amount}-')\n",
    "time.sleep(4)\n",
    "\n",
    "# 첫 클릭을 통해 팝업 광고창 뜨게 유도\n",
    "select_click('#search-results > div.ui.blank.right.floated.segment > div > a:nth-child(4)', main_driver)\n",
    "time.sleep(3)\n",
    "\n",
    "\n",
    "# 팝업 광고창 제거\n",
    "select_click('#company_signup_popup > div:nth-child(1) > i', main_driver)\n",
    "time.sleep(1)\n",
    "\n",
    "\n",
    "# 본격적으로 크롤링 시작\n",
    "\n",
    "company_keyword_list = [] # 복지혜택 크롤링을 위해 검색하기 위한 회사영문명 저장소\n",
    "\n",
    "while True:\n",
    "    try:\n",
    "        # 한 창에 20개씩 나오는 데, 이상하게 html 넘버가 1,3,5 홀수로 39까지 가있음\n",
    "        for num in range(1,40,2):\n",
    "            company_link = main_driver.find_element_by_css_selector(f'#company-list > div:nth-child({num}) > div.content > a').get_attribute('href')\n",
    "            company_keyword_list.append(company_link.split('/')[-1])\n",
    "\n",
    "        # 다 모았으면 다음 참으로 넘어감\n",
    "        time.sleep(1)\n",
    "        select_click('#search-results > div.ui.blank.right.floated.segment > div > a:nth-child(4)', main_driver)\n",
    "        time.sleep(3)\n",
    "        \n",
    "    \n",
    "    except Exception as ex:\n",
    "        print(ex)\n",
    "        print(\"===========end============\")\n",
    "        break\n"
   ]
  },
  {
   "cell_type": "code",
   "execution_count": null,
   "metadata": {},
   "outputs": [],
   "source": [
    "for company_name in tqdm_notebook(company_keyword_list):\n",
    "    \n",
    "    parsing_url= f\"https://www.rocketpunch.com/companies/{company_name}/jobs\"\n",
    "    req = requests.get(parsing_url)\n",
    "    html = req.content\n",
    "    soup = BeautifulSoup(html, 'html.parser')\n",
    "    temp_data = soup.select('#page-benefits > div > div')\n",
    "    bene_list = []\n",
    "\n",
    "    \n",
    "\n",
    "    # 사내 복지 혜택 삽입\n",
    "    try:\n",
    "        # 회사 명 정보 들어가야 구분 됨\n",
    "        bene_list.append('회사명')\n",
    "        bene_list.append(company_name)\n",
    "        for benefit in temp_data[0].get_text().split('\\n')[1::2]:\n",
    "            bene_list.append(benefit)\n",
    "    except:\n",
    "        print(f'========={company_name}는 채용공고 정보가 없음============')\n",
    "    # dict 화 작업\n",
    "    benefit_dict = {bene_list[item]: bene_list[item + 1] for item in range(0, len(bene_list), 2)}\n",
    "    print(benefit_dict)\n",
    "    #benefit_df = pd.DataFrame.from_dict(benefit_dict, orient='index')"
   ]
  },
  {
   "cell_type": "code",
   "execution_count": null,
   "metadata": {},
   "outputs": [],
   "source": []
  }
 ],
 "metadata": {
  "kernelspec": {
   "display_name": "Python 3",
   "language": "python",
   "name": "python3"
  },
  "language_info": {
   "codemirror_mode": {
    "name": "ipython",
    "version": 3
   },
   "file_extension": ".py",
   "mimetype": "text/x-python",
   "name": "python",
   "nbconvert_exporter": "python",
   "pygments_lexer": "ipython3",
   "version": "3.7.4"
  }
 },
 "nbformat": 4,
 "nbformat_minor": 2
}
