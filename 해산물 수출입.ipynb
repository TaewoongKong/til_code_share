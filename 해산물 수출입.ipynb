{
 "cells": [
  {
   "cell_type": "code",
   "execution_count": 1,
   "metadata": {},
   "outputs": [],
   "source": [
    "import pandas as pd\n",
    "import numpy as np"
   ]
  },
  {
   "cell_type": "code",
   "execution_count": 2,
   "metadata": {},
   "outputs": [],
   "source": [
    "# 화면에 출력하는 데이터 프레임의 최대 row 수를 500으로 설정합니다.\n",
    "pd.set_option('display.max_rows', 500)\n",
    "\n",
    "# 화면에 출력하는 데이터 프레임의 최대 column 수를 500으로 설정합니다.\n",
    "pd.set_option('display.max_columns', 500)"
   ]
  },
  {
   "cell_type": "code",
   "execution_count": 3,
   "metadata": {},
   "outputs": [],
   "source": [
    "import matplotlib\n",
    "import matplotlib.pyplot as plt  # 파이플롯 사용\n",
    "import seaborn as sns\n",
    "from IPython.display import set_matplotlib_formats\n",
    "set_matplotlib_formats('retina')  # 한글코드를 더 선명하게 해주는 조치, 레티나 설정\n",
    "matplotlib.rc('font', family='AppleGothic') # 폰트 설정\n",
    "matplotlib.rc('axes', unicode_minus=False) # 마이너스 폰트가 깨지는 경우가 있으므로 조치"
   ]
  },
  {
   "cell_type": "code",
   "execution_count": 4,
   "metadata": {},
   "outputs": [],
   "source": [
    "df = pd.read_csv(\"해양수산부_국가별 수산물 수출입 현황 - 2019년 11월(월간).csv\", encoding='euc-kr', engine='python')"
   ]
  },
  {
   "cell_type": "code",
   "execution_count": 5,
   "metadata": {},
   "outputs": [],
   "source": [
    "df = df.drop(['기준년월', '\\t국가코드', '\\tHSK품목코드', '\\t수출입구분명','\\t당월 누계 수출입중량','\\t당월 누계 수출입미화금액', '\\t데이터기준일자\\t'], axis = 1)"
   ]
  },
  {
   "cell_type": "code",
   "execution_count": 6,
   "metadata": {},
   "outputs": [],
   "source": [
    "df_new_columns = []\n",
    "for column in df.columns:\n",
    "    df_new_columns.append(column.replace(\"\\t\", \"\"))\n",
    "df.columns = df_new_columns"
   ]
  },
  {
   "cell_type": "code",
   "execution_count": 7,
   "metadata": {},
   "outputs": [],
   "source": [
    "# 전체 DF에 걸쳐있는 '' 제거\n",
    "for column in df.columns:\n",
    "    df[column] = df[column].str.replace(\"'\", \"\")"
   ]
  },
  {
   "cell_type": "code",
   "execution_count": 8,
   "metadata": {},
   "outputs": [],
   "source": [
    "# object 타입으로 되어있는 숫자 데이터는 int처리\n",
    "df['당월 수출입중량'] = df['당월 수출입중량'].astype(int)\n",
    "df['당월수출입미화금액'] = df['당월수출입미화금액'].astype(int)"
   ]
  },
  {
   "cell_type": "code",
   "execution_count": 9,
   "metadata": {},
   "outputs": [],
   "source": [
    "df.columns = ['ex_im', 'nat', 'zone', 'item', 'item_weight','amount_dollar']"
   ]
  },
  {
   "cell_type": "code",
   "execution_count": 10,
   "metadata": {},
   "outputs": [],
   "source": [
    "df['item_price'] = pd.Series(\"%0.2f\"%i for i in (df.amount_dollar) / (df.item_weight))"
   ]
  },
  {
   "cell_type": "code",
   "execution_count": 11,
   "metadata": {},
   "outputs": [],
   "source": [
    "df.loc[df['item_price'] == 'nan', 'item_price'] = 0\n",
    "df.loc[df['item_price'] == 'inf', 'item_price'] = 0"
   ]
  },
  {
   "cell_type": "code",
   "execution_count": 12,
   "metadata": {},
   "outputs": [],
   "source": [
    "df.loc[df['zone'] == '', 'zone'] = '무소속'"
   ]
  },
  {
   "cell_type": "code",
   "execution_count": 13,
   "metadata": {},
   "outputs": [],
   "source": [
    "df['item'] = pd.Series(i.split('(')[0] for i in df['item'])"
   ]
  },
  {
   "cell_type": "code",
   "execution_count": 14,
   "metadata": {},
   "outputs": [],
   "source": [
    "df.loc[df['item'] == '기타어류', 'item'] = '기타'\n",
    "df.loc[df['item'] == '냉동한 것', 'item'] = '기타'\n",
    "df.loc[df['item'] == '어류조제/저장제품', 'item'] = '어류조제품'\n",
    "df.loc[df['item'] == '천일염', 'item'] = '소금'\n",
    "df.loc[df['item'] == '식염', 'item'] = '소금'\n",
    "df.loc[df['item'] == '조제한식용해조류', 'item'] = '해조류'\n",
    "df.loc[df['item'] == '해초류와 기타조류 기타', 'item'] = '해조류'\n",
    "df.loc[df['item'] == '다랭이', 'item'] = '다랭이류'\n",
    "df.loc[df['item'] == '오징어 기타', 'item'] = '오징어'\n",
    "df.loc[df['item'] == '조미오징어', 'item'] = '오징어'\n",
    "df.loc[df['item'] == '연체동물 기타', 'item'] = '기타'\n",
    "df.loc[df['item'] == '기타어류의 기타', 'item'] = '기타'\n",
    "df.loc[df['item'] == '수생무척추동물의 기타', 'item'] = '기타'\n",
    "df.loc[df['item'] == '클램/ 새조개 및 피조개 기타', 'item'] = '조개'\n",
    "df.loc[df['item'] == '캐비아 대용물', 'item'] = '캐비아'\n",
    "df.loc[df['item'] == '멸치[엔그라울리스', 'item'] = '멸치'\n",
    "df.loc[df['item'] == '갑각류 기타', 'item'] = '갑각류'\n",
    "df.loc[df['item'] == '염장이나 염수장한 것', 'item'] = '기타'\n",
    "df.loc[df['item'] == '눈다랑어', 'item'] = '다랭이류'\n",
    "df.loc[df['item'] == '다랑어 기타', 'item'] = '다랭이류'\n",
    "df.loc[df['item'].str.contains('다랑어'), 'item'] = '다랭이류'\n",
    "df.loc[df['item'].str.contains('다랭이'), 'item'] = '다랭이류'\n",
    "df.loc[df['item'].str.contains('진주'), 'item'] = '진주'\n",
    "\n",
    "df.loc[df['item'] == '패각', 'item'] = '조개류'\n",
    "df.loc[df['item'] == '다랑어 기타', 'item'] = '다랭이류'\n",
    "df.loc[df['item'] == '어류의간유/분획물', 'item'] = '조분'\n",
    "df.loc[df['item'] == '기타 게살', 'item'] = '기타'\n",
    "df.loc[df['item'] == '기타[분 조분 펠리트 포함', 'item'] = '조분'\n",
    "df.loc[df['item'] == '어류의 고운 가루ㆍ거친 가루와 펠릿', 'item'] = '기타'\n",
    "df.loc[df['item'] == '기타 수생무척추동물의 기타', 'item'] = '기타'\n",
    "df.loc[df['item'] == '붉은 대게살', 'item'] = '기타'\n",
    "df.loc[df['item'] == '어류의액스', 'item'] = '기타'\n",
    "df.loc[df['item'] == '기타 수생무척추동물의 기타', 'item'] = '기타'\n",
    "df.loc[df['item'] == '기타[분ㆍ조분 및 펠리트를 포함', 'item'] = '조분'\n",
    "df.loc[df['item'] == '그 밖의 새우류', 'item'] = '새우류'\n",
    "df.loc[df['item'] == '넙치[레인하드티우스 히포글러소이데스/히포글러서스 히포글러서스/히포글러서스 스테노레피스)', 'item'] = '넙치'\n",
    "df.loc[df['item'] == '기타 냉동연육 외 기타', 'item'] = '기타'\n",
    "df.loc[df['item'] == '분한천', 'item'] = '기타'\n",
    "df.loc[df['item'] == '옴마스트레페스', 'item'] = '기타'\n",
    "df.loc[df['item'] == '기타 냉동연육 외 기타', 'item'] = '기타'\n",
    "df.loc[df['item'] == '갑각류/연체동물/수생동물의', 'item'] = '갑각류'\n",
    "df.loc[df['item'] == '가리비과의 조개', 'item'] = '조개'\n",
    "df.loc[df['item'] == '넙치류', 'item'] = '넙치'\n",
    "df.loc[df['item'] == '기타 넙치류', 'item'] = '넙치'\n",
    "\n",
    "df.loc[df['item'] == '어류의 수우프/ 브로드와 수우프 브로드 제조용 조제품', 'item'] = '어류조제품'\n",
    "df.loc[df['item'] == '암염', 'item'] = '소금'\n",
    "df.loc[df['item'] == '넙치류', 'item'] = '넙치'\n",
    "df.loc[df['item'] == '어류/갑각류/연체동물/수행동', 'item'] = '갑각류'\n",
    "df.loc[df['item'] == '새조개', 'item'] = '조개'\n",
    "df.loc[df['item'] == '어류외기타 분.조분 및 펠리트', 'item'] = '기타'\n",
    "\n",
    "df.loc[df['item'] == '기타의 새우류의 기타', 'item'] = '새우류'\n",
    "df.loc[df['item'] == '꽁치[콜로라비스 사이라', 'item'] = '꽁치'\n",
    "df.loc[df['item'] == '태평양 연어', 'item'] = '연어'\n",
    "df.loc[df['item'] == '건조한 것', 'item'] = '기타'\n",
    "df.loc[df['item'] == '어류의 분.조분 및 펠리트', 'item'] = '조분'"
   ]
  },
  {
   "cell_type": "code",
   "execution_count": 15,
   "metadata": {},
   "outputs": [],
   "source": [
    "amount_table = df.pivot_table(values = 'amount_dollar', index = ['nat', 'ex_im'], aggfunc = 'sum')"
   ]
  },
  {
   "cell_type": "code",
   "execution_count": 16,
   "metadata": {},
   "outputs": [],
   "source": [
    "top_list = ['중국', '러시아', '베트남', '일본', '노르웨이', '미국', '카나다', '태국', '페루', '칠레', '대만']"
   ]
  },
  {
   "cell_type": "code",
   "execution_count": 17,
   "metadata": {},
   "outputs": [],
   "source": [
    "amount_table = amount_table.reset_index()"
   ]
  },
  {
   "cell_type": "code",
   "execution_count": 18,
   "metadata": {},
   "outputs": [],
   "source": [
    "amount_table_top = amount_table[amount_table['nat'].isin(top_list)].sort_values(by=['nat', 'amount_dollar'], ascending=False)"
   ]
  },
  {
   "cell_type": "code",
   "execution_count": 19,
   "metadata": {},
   "outputs": [
    {
     "data": {
      "text/html": [
       "<div>\n",
       "<style scoped>\n",
       "    .dataframe tbody tr th:only-of-type {\n",
       "        vertical-align: middle;\n",
       "    }\n",
       "\n",
       "    .dataframe tbody tr th {\n",
       "        vertical-align: top;\n",
       "    }\n",
       "\n",
       "    .dataframe thead th {\n",
       "        text-align: right;\n",
       "    }\n",
       "</style>\n",
       "<table border=\"1\" class=\"dataframe\">\n",
       "  <thead>\n",
       "    <tr style=\"text-align: right;\">\n",
       "      <th></th>\n",
       "      <th>nat</th>\n",
       "      <th>ex_im</th>\n",
       "      <th>amount_dollar</th>\n",
       "    </tr>\n",
       "  </thead>\n",
       "  <tbody>\n",
       "    <tr>\n",
       "      <th>243</th>\n",
       "      <td>페루</td>\n",
       "      <td>I</td>\n",
       "      <td>10118493</td>\n",
       "    </tr>\n",
       "    <tr>\n",
       "      <th>242</th>\n",
       "      <td>페루</td>\n",
       "      <td>E</td>\n",
       "      <td>208</td>\n",
       "    </tr>\n",
       "    <tr>\n",
       "      <th>226</th>\n",
       "      <td>태국</td>\n",
       "      <td>I</td>\n",
       "      <td>10472614</td>\n",
       "    </tr>\n",
       "    <tr>\n",
       "      <th>225</th>\n",
       "      <td>태국</td>\n",
       "      <td>E</td>\n",
       "      <td>7713573</td>\n",
       "    </tr>\n",
       "    <tr>\n",
       "      <th>203</th>\n",
       "      <td>카나다</td>\n",
       "      <td>I</td>\n",
       "      <td>11031090</td>\n",
       "    </tr>\n",
       "    <tr>\n",
       "      <th>202</th>\n",
       "      <td>카나다</td>\n",
       "      <td>E</td>\n",
       "      <td>1777723</td>\n",
       "    </tr>\n",
       "    <tr>\n",
       "      <th>201</th>\n",
       "      <td>칠레</td>\n",
       "      <td>I</td>\n",
       "      <td>8766446</td>\n",
       "    </tr>\n",
       "    <tr>\n",
       "      <th>200</th>\n",
       "      <td>칠레</td>\n",
       "      <td>E</td>\n",
       "      <td>161906</td>\n",
       "    </tr>\n",
       "    <tr>\n",
       "      <th>195</th>\n",
       "      <td>중국</td>\n",
       "      <td>I</td>\n",
       "      <td>133589753</td>\n",
       "    </tr>\n",
       "    <tr>\n",
       "      <th>194</th>\n",
       "      <td>중국</td>\n",
       "      <td>E</td>\n",
       "      <td>39569606</td>\n",
       "    </tr>\n",
       "    <tr>\n",
       "      <th>189</th>\n",
       "      <td>일본</td>\n",
       "      <td>E</td>\n",
       "      <td>55473435</td>\n",
       "    </tr>\n",
       "    <tr>\n",
       "      <th>190</th>\n",
       "      <td>일본</td>\n",
       "      <td>I</td>\n",
       "      <td>12500105</td>\n",
       "    </tr>\n",
       "    <tr>\n",
       "      <th>99</th>\n",
       "      <td>베트남</td>\n",
       "      <td>I</td>\n",
       "      <td>67141170</td>\n",
       "    </tr>\n",
       "    <tr>\n",
       "      <th>98</th>\n",
       "      <td>베트남</td>\n",
       "      <td>E</td>\n",
       "      <td>11174902</td>\n",
       "    </tr>\n",
       "    <tr>\n",
       "      <th>84</th>\n",
       "      <td>미국</td>\n",
       "      <td>I</td>\n",
       "      <td>25288818</td>\n",
       "    </tr>\n",
       "    <tr>\n",
       "      <th>83</th>\n",
       "      <td>미국</td>\n",
       "      <td>E</td>\n",
       "      <td>19641891</td>\n",
       "    </tr>\n",
       "    <tr>\n",
       "      <th>48</th>\n",
       "      <td>러시아</td>\n",
       "      <td>I</td>\n",
       "      <td>90903908</td>\n",
       "    </tr>\n",
       "    <tr>\n",
       "      <th>47</th>\n",
       "      <td>러시아</td>\n",
       "      <td>E</td>\n",
       "      <td>1674486</td>\n",
       "    </tr>\n",
       "    <tr>\n",
       "      <th>34</th>\n",
       "      <td>대만</td>\n",
       "      <td>I</td>\n",
       "      <td>7889556</td>\n",
       "    </tr>\n",
       "    <tr>\n",
       "      <th>33</th>\n",
       "      <td>대만</td>\n",
       "      <td>E</td>\n",
       "      <td>5168328</td>\n",
       "    </tr>\n",
       "    <tr>\n",
       "      <th>29</th>\n",
       "      <td>노르웨이</td>\n",
       "      <td>I</td>\n",
       "      <td>31696077</td>\n",
       "    </tr>\n",
       "    <tr>\n",
       "      <th>28</th>\n",
       "      <td>노르웨이</td>\n",
       "      <td>E</td>\n",
       "      <td>223653</td>\n",
       "    </tr>\n",
       "  </tbody>\n",
       "</table>\n",
       "</div>"
      ],
      "text/plain": [
       "      nat ex_im  amount_dollar\n",
       "243    페루     I       10118493\n",
       "242    페루     E            208\n",
       "226    태국     I       10472614\n",
       "225    태국     E        7713573\n",
       "203   카나다     I       11031090\n",
       "202   카나다     E        1777723\n",
       "201    칠레     I        8766446\n",
       "200    칠레     E         161906\n",
       "195    중국     I      133589753\n",
       "194    중국     E       39569606\n",
       "189    일본     E       55473435\n",
       "190    일본     I       12500105\n",
       "99    베트남     I       67141170\n",
       "98    베트남     E       11174902\n",
       "84     미국     I       25288818\n",
       "83     미국     E       19641891\n",
       "48    러시아     I       90903908\n",
       "47    러시아     E        1674486\n",
       "34     대만     I        7889556\n",
       "33     대만     E        5168328\n",
       "29   노르웨이     I       31696077\n",
       "28   노르웨이     E         223653"
      ]
     },
     "execution_count": 19,
     "metadata": {},
     "output_type": "execute_result"
    }
   ],
   "source": [
    "amount_table_top"
   ]
  },
  {
   "cell_type": "code",
   "execution_count": 20,
   "metadata": {},
   "outputs": [
    {
     "data": {
      "text/plain": [
       "{'EAEU',\n",
       " '걸프협력회의',\n",
       " '경제협력개발기구',\n",
       " '남미공동시장',\n",
       " '동남아국가연합',\n",
       " '무소속',\n",
       " '북미자유무역연합',\n",
       " '아시아.태평양 경제협력체',\n",
       " '역내포괄적경제동반자협정',\n",
       " '유럽연합',\n",
       " '유럽자유무역연합',\n",
       " '중미',\n",
       " '포괄적.점진적 환태평양 경제동반자협졍',\n",
       " '한중일',\n",
       " '환태평양경제동반자협정'}"
      ]
     },
     "execution_count": 20,
     "metadata": {},
     "output_type": "execute_result"
    }
   ],
   "source": [
    "temp_list = []\n",
    "for item in df['zone']:\n",
    "    for i in item.split('/'):\n",
    "        temp_list.append(i)\n",
    "temp_list_set = set(temp_list)\n",
    "temp_list_set"
   ]
  },
  {
   "cell_type": "code",
   "execution_count": 21,
   "metadata": {},
   "outputs": [],
   "source": [
    "for item in temp_list_set:\n",
    "    df[f\"{item}\"] = df['zone'].str.contains(item)"
   ]
  },
  {
   "cell_type": "code",
   "execution_count": 22,
   "metadata": {},
   "outputs": [],
   "source": [
    "\n",
    "df.columns = ['ex_im', 'nat', 'zone', 'item', 'item_weight', 'amount_dollar', 'item_price', 'EU', 'NAFTA', 'KOR-CHI-JAP', 'EFTA', 'independent', 'ASEAN', 'MERCOSUR', 'EAEU', 'TPP', 'GCC', 'RCEP', 'OECD','KOR-CentralAmerica-FTA', 'CPTPP', 'APEC']"
   ]
  },
  {
   "cell_type": "code",
   "execution_count": 23,
   "metadata": {},
   "outputs": [
    {
     "data": {
      "text/html": [
       "<div>\n",
       "<style scoped>\n",
       "    .dataframe tbody tr th:only-of-type {\n",
       "        vertical-align: middle;\n",
       "    }\n",
       "\n",
       "    .dataframe tbody tr th {\n",
       "        vertical-align: top;\n",
       "    }\n",
       "\n",
       "    .dataframe thead th {\n",
       "        text-align: right;\n",
       "    }\n",
       "</style>\n",
       "<table border=\"1\" class=\"dataframe\">\n",
       "  <thead>\n",
       "    <tr style=\"text-align: right;\">\n",
       "      <th></th>\n",
       "      <th>ex_im</th>\n",
       "      <th>nat</th>\n",
       "      <th>zone</th>\n",
       "      <th>item</th>\n",
       "      <th>item_weight</th>\n",
       "      <th>amount_dollar</th>\n",
       "      <th>item_price</th>\n",
       "      <th>EU</th>\n",
       "      <th>NAFTA</th>\n",
       "      <th>KOR-CHI-JAP</th>\n",
       "      <th>EFTA</th>\n",
       "      <th>independent</th>\n",
       "      <th>ASEAN</th>\n",
       "      <th>MERCOSUR</th>\n",
       "      <th>EAEU</th>\n",
       "      <th>TPP</th>\n",
       "      <th>GCC</th>\n",
       "      <th>RCEP</th>\n",
       "      <th>OECD</th>\n",
       "      <th>KOR-CentralAmerica-FTA</th>\n",
       "      <th>CPTPP</th>\n",
       "      <th>APEC</th>\n",
       "    </tr>\n",
       "  </thead>\n",
       "  <tbody>\n",
       "    <tr>\n",
       "      <th>0</th>\n",
       "      <td>E</td>\n",
       "      <td>아랍에미리트연합</td>\n",
       "      <td>걸프협력회의</td>\n",
       "      <td>넙치</td>\n",
       "      <td>246</td>\n",
       "      <td>6672</td>\n",
       "      <td>27.12</td>\n",
       "      <td>False</td>\n",
       "      <td>False</td>\n",
       "      <td>False</td>\n",
       "      <td>False</td>\n",
       "      <td>False</td>\n",
       "      <td>False</td>\n",
       "      <td>False</td>\n",
       "      <td>False</td>\n",
       "      <td>False</td>\n",
       "      <td>False</td>\n",
       "      <td>True</td>\n",
       "      <td>False</td>\n",
       "      <td>False</td>\n",
       "      <td>False</td>\n",
       "      <td>False</td>\n",
       "    </tr>\n",
       "    <tr>\n",
       "      <th>1</th>\n",
       "      <td>E</td>\n",
       "      <td>아랍에미리트연합</td>\n",
       "      <td>걸프협력회의</td>\n",
       "      <td>넙치</td>\n",
       "      <td>0</td>\n",
       "      <td>0</td>\n",
       "      <td>0</td>\n",
       "      <td>False</td>\n",
       "      <td>False</td>\n",
       "      <td>False</td>\n",
       "      <td>False</td>\n",
       "      <td>False</td>\n",
       "      <td>False</td>\n",
       "      <td>False</td>\n",
       "      <td>False</td>\n",
       "      <td>False</td>\n",
       "      <td>False</td>\n",
       "      <td>True</td>\n",
       "      <td>False</td>\n",
       "      <td>False</td>\n",
       "      <td>False</td>\n",
       "      <td>False</td>\n",
       "    </tr>\n",
       "  </tbody>\n",
       "</table>\n",
       "</div>"
      ],
      "text/plain": [
       "  ex_im       nat    zone item  item_weight  amount_dollar item_price     EU  \\\n",
       "0     E  아랍에미리트연합  걸프협력회의   넙치          246           6672      27.12  False   \n",
       "1     E  아랍에미리트연합  걸프협력회의   넙치            0              0          0  False   \n",
       "\n",
       "   NAFTA  KOR-CHI-JAP   EFTA  independent  ASEAN  MERCOSUR   EAEU    TPP  \\\n",
       "0  False        False  False        False  False     False  False  False   \n",
       "1  False        False  False        False  False     False  False  False   \n",
       "\n",
       "     GCC  RCEP   OECD  KOR-CentralAmerica-FTA  CPTPP   APEC  \n",
       "0  False  True  False                   False  False  False  \n",
       "1  False  True  False                   False  False  False  "
      ]
     },
     "execution_count": 23,
     "metadata": {},
     "output_type": "execute_result"
    }
   ],
   "source": [
    "df.head(2)"
   ]
  },
  {
   "cell_type": "code",
   "execution_count": null,
   "metadata": {},
   "outputs": [],
   "source": []
  }
 ],
 "metadata": {
  "kernelspec": {
   "display_name": "Python 3",
   "language": "python",
   "name": "python3"
  },
  "language_info": {
   "codemirror_mode": {
    "name": "ipython",
    "version": 3
   },
   "file_extension": ".py",
   "mimetype": "text/x-python",
   "name": "python",
   "nbconvert_exporter": "python",
   "pygments_lexer": "ipython3",
   "version": "3.7.4"
  }
 },
 "nbformat": 4,
 "nbformat_minor": 2
}
