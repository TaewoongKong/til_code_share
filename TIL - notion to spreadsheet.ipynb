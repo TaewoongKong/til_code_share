{
 "cells": [
  {
   "cell_type": "code",
   "execution_count": 1,
   "metadata": {},
   "outputs": [],
   "source": [
    "import pandas as pd"
   ]
  },
  {
   "cell_type": "code",
   "execution_count": 2,
   "metadata": {},
   "outputs": [
    {
     "data": {
      "text/plain": [
       "['🇺🇸 영어',\n",
       " '🦀 통계',\n",
       " '🦎 파이썬',\n",
       " '🛢 SQL',\n",
       " '📕 독서(책, 아티클)',\n",
       " '🤖 머신러닝',\n",
       " '🏋️ 운동',\n",
       " '📐 수학',\n",
       " '📈 데이터처리',\n",
       " '⌨️ 기타 프로그래밍']"
      ]
     },
     "execution_count": 2,
     "metadata": {},
     "output_type": "execute_result"
    }
   ],
   "source": [
    "index_list = \"\"\"🇺🇸 영어\n",
    "🦀 통계\n",
    "🦎 파이썬\n",
    "🛢 SQL\n",
    "📕 독서(책, 아티클)\n",
    "🤖 머신러닝\n",
    "🏋️ 운동\n",
    "📐 수학\n",
    "📈 데이터처리\n",
    "⌨️ 기타 프로그래밍\"\"\".split(\"\\n\")\n",
    "index_list"
   ]
  },
  {
   "cell_type": "code",
   "execution_count": 3,
   "metadata": {},
   "outputs": [],
   "source": [
    "index_list_eng = ['ENG', 'Statistics', 'Python', 'SQL', 'Read', 'ML', 'WORKOUT', 'Mathmatics', 'PANDAS', 'ETC Prog.']"
   ]
  },
  {
   "cell_type": "code",
   "execution_count": 4,
   "metadata": {},
   "outputs": [],
   "source": [
    "mix_list = [None]*(len(index_list)+len(index_list_eng))\n",
    "mix_list[::2] = index_list\n",
    "mix_list[1::2] = index_list_eng\n",
    "\n",
    "mix_dict = []\n",
    "\n",
    "for i in range(0,len(mix_list),2):\n",
    "    mix_dict.append((mix_list[i+1], mix_list[i]))\n",
    "\n",
    "mix_dict = dict(mix_dict)"
   ]
  },
  {
   "cell_type": "code",
   "execution_count": 5,
   "metadata": {},
   "outputs": [],
   "source": [
    "df_1 = pd.read_csv('What I Learned 1.csv')\n",
    "df_2 = pd.read_csv('What I Learned 2.csv')\n",
    "df_3 = pd.read_csv('What I Learned 3.csv')\n",
    "df_4 = pd.read_csv('What I Learned 4.csv')\n",
    "df_5 = pd.read_csv('What I Learned 5.csv')\n",
    "df_6 = pd.read_csv('What I Learned 6.csv')\n",
    "df_7 = pd.read_csv('What I Learned 7.csv')\n",
    "\n",
    "df = pd.concat([df_1, df_2, df_3, df_4, df_5, df_6, df_7])"
   ]
  },
  {
   "cell_type": "code",
   "execution_count": 6,
   "metadata": {},
   "outputs": [],
   "source": [
    "df = df.reset_index()\n",
    "df = df.drop(['index'], axis=1)"
   ]
  },
  {
   "cell_type": "code",
   "execution_count": 8,
   "metadata": {
    "scrolled": true
   },
   "outputs": [],
   "source": [
    "df['분류'] = pd.Series(i.replace('/', '-').split('-')[3] for i in df['분류'])"
   ]
  },
  {
   "cell_type": "code",
   "execution_count": 9,
   "metadata": {},
   "outputs": [
    {
     "data": {
      "text/plain": [
       "0          Python\n",
       "1          PANDAS\n",
       "2          Python\n",
       "3         WORKOUT\n",
       "4          Python\n",
       "          ...    \n",
       "108       WORKOUT\n",
       "109    Mathmatics\n",
       "110    Statistics\n",
       "111       WORKOUT\n",
       "112    Statistics\n",
       "Name: 분류, Length: 113, dtype: object"
      ]
     },
     "execution_count": 9,
     "metadata": {},
     "output_type": "execute_result"
    }
   ],
   "source": [
    "df['분류']"
   ]
  },
  {
   "cell_type": "code",
   "execution_count": 10,
   "metadata": {},
   "outputs": [],
   "source": [
    "df.loc[df['분류'] == 'ETC', '분류'] = 'ETC Prog.'"
   ]
  },
  {
   "cell_type": "code",
   "execution_count": 11,
   "metadata": {},
   "outputs": [],
   "source": [
    "df['신분류'] = pd.Series(mix_dict[i] for i in df['분류'])"
   ]
  },
  {
   "cell_type": "code",
   "execution_count": 12,
   "metadata": {},
   "outputs": [],
   "source": [
    "df['날짜'] = pd.to_datetime(df['날짜'])"
   ]
  },
  {
   "cell_type": "code",
   "execution_count": 13,
   "metadata": {},
   "outputs": [],
   "source": [
    "til_list = '날짜\t분류\t제목\t내용/배운것\t칭찬/반성\t시간'.split()"
   ]
  },
  {
   "cell_type": "code",
   "execution_count": 14,
   "metadata": {},
   "outputs": [],
   "source": [
    "df = df.drop(['시간', '분', '수정일', '분류'], axis=1)"
   ]
  },
  {
   "cell_type": "code",
   "execution_count": 15,
   "metadata": {},
   "outputs": [],
   "source": [
    "df = df[['날짜', '신분류', '제목', '내용/배운 것', '칭찬/반성', '시간+분(10진수)']]"
   ]
  },
  {
   "cell_type": "code",
   "execution_count": 16,
   "metadata": {},
   "outputs": [],
   "source": [
    "df.columns = til_list"
   ]
  },
  {
   "cell_type": "code",
   "execution_count": 18,
   "metadata": {},
   "outputs": [
    {
     "data": {
      "text/plain": [
       "🏋️ 운동           34\n",
       "🤖 머신러닝          22\n",
       "📈 데이터처리         16\n",
       "📕 독서(책, 아티클)    11\n",
       "📐 수학             8\n",
       "🛢 SQL            7\n",
       "🦀 통계             7\n",
       "🦎 파이썬            4\n",
       "⌨️ 기타 프로그래밍      4\n",
       "Name: 분류, dtype: int64"
      ]
     },
     "execution_count": 18,
     "metadata": {},
     "output_type": "execute_result"
    }
   ],
   "source": [
    "df['분류']"
   ]
  },
  {
   "cell_type": "code",
   "execution_count": 19,
   "metadata": {},
   "outputs": [],
   "source": [
    "df.to_csv(\"til_df.csv\", mode='a', header=True)"
   ]
  },
  {
   "cell_type": "code",
   "execution_count": null,
   "metadata": {},
   "outputs": [],
   "source": []
  }
 ],
 "metadata": {
  "kernelspec": {
   "display_name": "Python 3",
   "language": "python",
   "name": "python3"
  },
  "language_info": {
   "codemirror_mode": {
    "name": "ipython",
    "version": 3
   },
   "file_extension": ".py",
   "mimetype": "text/x-python",
   "name": "python",
   "nbconvert_exporter": "python",
   "pygments_lexer": "ipython3",
   "version": "3.7.4"
  }
 },
 "nbformat": 4,
 "nbformat_minor": 2
}
