{
 "cells": [
  {
   "cell_type": "code",
   "execution_count": 1,
   "metadata": {},
   "outputs": [],
   "source": [
    "import pandas as pd\n",
    "import numpy as np\n",
    "\n",
    "pd.set_option('display.max_rows', 100)\n",
    "pd.set_option('display.max_columns', 100)\n",
    "\n",
    "import matplotlib\n",
    "import matplotlib.pyplot as plt  # 파이플롯 사용\n",
    "from IPython.display import set_matplotlib_formats\n",
    "import seaborn as sns\n",
    "sns.set_style('whitegrid')\n",
    "\n",
    "\n",
    "set_matplotlib_formats('retina')  # 한글코드를 더 선명하게 해주는 조치, 레티나 설정\n",
    "matplotlib.rc('font', family='AppleGothic') # 폰트 설정\n",
    "matplotlib.rc('axes', unicode_minus=False) # 마이너스 폰트가 깨지는 경우가 있으므로 조치"
   ]
  },
  {
   "cell_type": "code",
   "execution_count": 2,
   "metadata": {},
   "outputs": [],
   "source": [
    "place = pd.read_csv(\"place.csv\", engine='python')\n",
    "ask = pd.read_csv(\"ask.csv\", engine='python')\n",
    "rel = pd.read_csv(\"answer_rel.csv\", engine='python')\n",
    "user = pd.read_csv(\"user.csv\", engine='python')\n"
   ]
  },
  {
   "cell_type": "code",
   "execution_count": 3,
   "metadata": {},
   "outputs": [
    {
     "data": {
      "text/html": [
       "<div>\n",
       "<style scoped>\n",
       "    .dataframe tbody tr th:only-of-type {\n",
       "        vertical-align: middle;\n",
       "    }\n",
       "\n",
       "    .dataframe tbody tr th {\n",
       "        vertical-align: top;\n",
       "    }\n",
       "\n",
       "    .dataframe thead th {\n",
       "        text-align: right;\n",
       "    }\n",
       "</style>\n",
       "<table border=\"1\" class=\"dataframe\">\n",
       "  <thead>\n",
       "    <tr style=\"text-align: right;\">\n",
       "      <th></th>\n",
       "      <th>id</th>\n",
       "      <th>place_id</th>\n",
       "      <th>lat</th>\n",
       "      <th>lng</th>\n",
       "      <th>info_url</th>\n",
       "      <th>name</th>\n",
       "      <th>road_address</th>\n",
       "      <th>dong_address</th>\n",
       "      <th>category</th>\n",
       "      <th>date_created</th>\n",
       "    </tr>\n",
       "  </thead>\n",
       "  <tbody>\n",
       "    <tr>\n",
       "      <th>0</th>\n",
       "      <td>43</td>\n",
       "      <td>1671949372</td>\n",
       "      <td>126.917069</td>\n",
       "      <td>37.565851</td>\n",
       "      <td>http://place.map.kakao.com/1671949372</td>\n",
       "      <td>소점</td>\n",
       "      <td>서울 마포구 성미산로17길 99</td>\n",
       "      <td>서울 마포구 연남동 487-278</td>\n",
       "      <td>음식점 &gt; 술집 &gt; 호프,요리주점</td>\n",
       "      <td>2020-03-29 23:27:55</td>\n",
       "    </tr>\n",
       "    <tr>\n",
       "      <th>1</th>\n",
       "      <td>44</td>\n",
       "      <td>8503628</td>\n",
       "      <td>126.930749</td>\n",
       "      <td>37.568224</td>\n",
       "      <td>http://place.map.kakao.com/8503628</td>\n",
       "      <td>연희동칼국수 본점</td>\n",
       "      <td>서울 서대문구 연희맛로 37</td>\n",
       "      <td>서울 서대문구 연희동 132-29</td>\n",
       "      <td>음식점 &gt; 한식 &gt; 국수</td>\n",
       "      <td>2020-03-29 23:28:13</td>\n",
       "    </tr>\n",
       "    <tr>\n",
       "      <th>2</th>\n",
       "      <td>45</td>\n",
       "      <td>1115772275</td>\n",
       "      <td>126.927583</td>\n",
       "      <td>37.564330</td>\n",
       "      <td>http://place.map.kakao.com/1115772275</td>\n",
       "      <td>연남장</td>\n",
       "      <td>서울 서대문구 연희로5길 22</td>\n",
       "      <td>서울 서대문구 연희동 218-15</td>\n",
       "      <td>서비스,산업 &gt; 전문대행 &gt; 공간대여 &gt; 모임공간</td>\n",
       "      <td>2020-03-29 23:28:20</td>\n",
       "    </tr>\n",
       "    <tr>\n",
       "      <th>3</th>\n",
       "      <td>46</td>\n",
       "      <td>23981049</td>\n",
       "      <td>126.921764</td>\n",
       "      <td>37.548281</td>\n",
       "      <td>http://place.map.kakao.com/23981049</td>\n",
       "      <td>뭄알로이</td>\n",
       "      <td>서울 마포구 독막로15길 3-6</td>\n",
       "      <td>서울 마포구 상수동 313-6</td>\n",
       "      <td>음식점 &gt; 아시아음식 &gt; 동남아음식 &gt; 태국음식</td>\n",
       "      <td>2020-03-29 23:28:51</td>\n",
       "    </tr>\n",
       "    <tr>\n",
       "      <th>4</th>\n",
       "      <td>47</td>\n",
       "      <td>14822702</td>\n",
       "      <td>126.924122</td>\n",
       "      <td>37.561599</td>\n",
       "      <td>http://place.map.kakao.com/14822702</td>\n",
       "      <td>월강 부산돼지국밥</td>\n",
       "      <td>서울 마포구 동교로 241-1</td>\n",
       "      <td>서울 마포구 연남동 258-14</td>\n",
       "      <td>음식점 &gt; 한식 &gt; 국밥</td>\n",
       "      <td>2020-03-29 23:29:08</td>\n",
       "    </tr>\n",
       "  </tbody>\n",
       "</table>\n",
       "</div>"
      ],
      "text/plain": [
       "   id    place_id         lat        lng  \\\n",
       "0  43  1671949372  126.917069  37.565851   \n",
       "1  44     8503628  126.930749  37.568224   \n",
       "2  45  1115772275  126.927583  37.564330   \n",
       "3  46    23981049  126.921764  37.548281   \n",
       "4  47    14822702  126.924122  37.561599   \n",
       "\n",
       "                                info_url       name       road_address  \\\n",
       "0  http://place.map.kakao.com/1671949372         소점  서울 마포구 성미산로17길 99   \n",
       "1     http://place.map.kakao.com/8503628  연희동칼국수 본점    서울 서대문구 연희맛로 37   \n",
       "2  http://place.map.kakao.com/1115772275        연남장   서울 서대문구 연희로5길 22   \n",
       "3    http://place.map.kakao.com/23981049       뭄알로이  서울 마포구 독막로15길 3-6   \n",
       "4    http://place.map.kakao.com/14822702  월강 부산돼지국밥   서울 마포구 동교로 241-1   \n",
       "\n",
       "         dong_address                     category         date_created  \n",
       "0  서울 마포구 연남동 487-278           음식점 > 술집 > 호프,요리주점  2020-03-29 23:27:55  \n",
       "1  서울 서대문구 연희동 132-29                음식점 > 한식 > 국수  2020-03-29 23:28:13  \n",
       "2  서울 서대문구 연희동 218-15  서비스,산업 > 전문대행 > 공간대여 > 모임공간  2020-03-29 23:28:20  \n",
       "3    서울 마포구 상수동 313-6   음식점 > 아시아음식 > 동남아음식 > 태국음식  2020-03-29 23:28:51  \n",
       "4   서울 마포구 연남동 258-14                음식점 > 한식 > 국밥  2020-03-29 23:29:08  "
      ]
     },
     "execution_count": 3,
     "metadata": {},
     "output_type": "execute_result"
    }
   ],
   "source": [
    "place.head()"
   ]
  },
  {
   "cell_type": "code",
   "execution_count": 4,
   "metadata": {},
   "outputs": [
    {
     "data": {
      "text/html": [
       "<div>\n",
       "<style scoped>\n",
       "    .dataframe tbody tr th:only-of-type {\n",
       "        vertical-align: middle;\n",
       "    }\n",
       "\n",
       "    .dataframe tbody tr th {\n",
       "        vertical-align: top;\n",
       "    }\n",
       "\n",
       "    .dataframe thead th {\n",
       "        text-align: right;\n",
       "    }\n",
       "</style>\n",
       "<table border=\"1\" class=\"dataframe\">\n",
       "  <thead>\n",
       "    <tr style=\"text-align: right;\">\n",
       "      <th></th>\n",
       "      <th>id</th>\n",
       "      <th>sentence</th>\n",
       "      <th>category</th>\n",
       "      <th>icon</th>\n",
       "      <th>date_created</th>\n",
       "      <th>user_id</th>\n",
       "    </tr>\n",
       "  </thead>\n",
       "  <tbody>\n",
       "    <tr>\n",
       "      <th>0</th>\n",
       "      <td>1</td>\n",
       "      <td>소개팅 하는 날, 저녁 식사하기 좋은 곳</td>\n",
       "      <td>food</td>\n",
       "      <td>💑</td>\n",
       "      <td>NaN</td>\n",
       "      <td>NaN</td>\n",
       "    </tr>\n",
       "    <tr>\n",
       "      <th>1</th>\n",
       "      <td>2</td>\n",
       "      <td>소개팅 하는 날, 점심 식사하기 좋은 곳</td>\n",
       "      <td>food</td>\n",
       "      <td>💑</td>\n",
       "      <td>NaN</td>\n",
       "      <td>NaN</td>\n",
       "    </tr>\n",
       "    <tr>\n",
       "      <th>2</th>\n",
       "      <td>3</td>\n",
       "      <td>상견례 하는 날, 부모님과 함께 가기 좋은 식당</td>\n",
       "      <td>food</td>\n",
       "      <td>🍲</td>\n",
       "      <td>NaN</td>\n",
       "      <td>NaN</td>\n",
       "    </tr>\n",
       "    <tr>\n",
       "      <th>3</th>\n",
       "      <td>4</td>\n",
       "      <td>혼자 노트북들고 작업하러 가기 좋은 곳</td>\n",
       "      <td>work</td>\n",
       "      <td>💻</td>\n",
       "      <td>NaN</td>\n",
       "      <td>NaN</td>\n",
       "    </tr>\n",
       "    <tr>\n",
       "      <th>4</th>\n",
       "      <td>5</td>\n",
       "      <td>간단하게 혼밥하기 좋은 곳</td>\n",
       "      <td>food</td>\n",
       "      <td>🍛</td>\n",
       "      <td>NaN</td>\n",
       "      <td>NaN</td>\n",
       "    </tr>\n",
       "  </tbody>\n",
       "</table>\n",
       "</div>"
      ],
      "text/plain": [
       "   id                    sentence category icon date_created  user_id\n",
       "0   1      소개팅 하는 날, 저녁 식사하기 좋은 곳     food    💑          NaN      NaN\n",
       "1   2      소개팅 하는 날, 점심 식사하기 좋은 곳     food    💑          NaN      NaN\n",
       "2   3  상견례 하는 날, 부모님과 함께 가기 좋은 식당     food    🍲          NaN      NaN\n",
       "3   4       혼자 노트북들고 작업하러 가기 좋은 곳     work    💻          NaN      NaN\n",
       "4   5              간단하게 혼밥하기 좋은 곳     food    🍛          NaN      NaN"
      ]
     },
     "execution_count": 4,
     "metadata": {},
     "output_type": "execute_result"
    }
   ],
   "source": [
    "ask.head()"
   ]
  },
  {
   "cell_type": "code",
   "execution_count": 5,
   "metadata": {},
   "outputs": [
    {
     "data": {
      "text/html": [
       "<div>\n",
       "<style scoped>\n",
       "    .dataframe tbody tr th:only-of-type {\n",
       "        vertical-align: middle;\n",
       "    }\n",
       "\n",
       "    .dataframe tbody tr th {\n",
       "        vertical-align: top;\n",
       "    }\n",
       "\n",
       "    .dataframe thead th {\n",
       "        text-align: right;\n",
       "    }\n",
       "</style>\n",
       "<table border=\"1\" class=\"dataframe\">\n",
       "  <thead>\n",
       "    <tr style=\"text-align: right;\">\n",
       "      <th></th>\n",
       "      <th>id</th>\n",
       "      <th>place_id</th>\n",
       "      <th>user_id</th>\n",
       "      <th>ask_id</th>\n",
       "      <th>date_created</th>\n",
       "    </tr>\n",
       "  </thead>\n",
       "  <tbody>\n",
       "    <tr>\n",
       "      <th>0</th>\n",
       "      <td>20</td>\n",
       "      <td>48</td>\n",
       "      <td>56</td>\n",
       "      <td>5</td>\n",
       "      <td>2020-03-29 23:36:38</td>\n",
       "    </tr>\n",
       "    <tr>\n",
       "      <th>1</th>\n",
       "      <td>21</td>\n",
       "      <td>49</td>\n",
       "      <td>56</td>\n",
       "      <td>6</td>\n",
       "      <td>2020-03-29 23:36:50</td>\n",
       "    </tr>\n",
       "    <tr>\n",
       "      <th>2</th>\n",
       "      <td>22</td>\n",
       "      <td>50</td>\n",
       "      <td>56</td>\n",
       "      <td>8</td>\n",
       "      <td>2020-03-29 23:37:20</td>\n",
       "    </tr>\n",
       "    <tr>\n",
       "      <th>3</th>\n",
       "      <td>24</td>\n",
       "      <td>52</td>\n",
       "      <td>56</td>\n",
       "      <td>1</td>\n",
       "      <td>2020-03-29 23:38:23</td>\n",
       "    </tr>\n",
       "    <tr>\n",
       "      <th>4</th>\n",
       "      <td>25</td>\n",
       "      <td>53</td>\n",
       "      <td>56</td>\n",
       "      <td>10</td>\n",
       "      <td>2020-03-29 23:39:23</td>\n",
       "    </tr>\n",
       "  </tbody>\n",
       "</table>\n",
       "</div>"
      ],
      "text/plain": [
       "   id  place_id  user_id  ask_id         date_created\n",
       "0  20        48       56       5  2020-03-29 23:36:38\n",
       "1  21        49       56       6  2020-03-29 23:36:50\n",
       "2  22        50       56       8  2020-03-29 23:37:20\n",
       "3  24        52       56       1  2020-03-29 23:38:23\n",
       "4  25        53       56      10  2020-03-29 23:39:23"
      ]
     },
     "execution_count": 5,
     "metadata": {},
     "output_type": "execute_result"
    }
   ],
   "source": [
    "rel.head()"
   ]
  },
  {
   "cell_type": "code",
   "execution_count": 6,
   "metadata": {},
   "outputs": [
    {
     "data": {
      "text/plain": [
       "<matplotlib.axes._subplots.AxesSubplot at 0x11d295150>"
      ]
     },
     "execution_count": 6,
     "metadata": {},
     "output_type": "execute_result"
    },
    {
     "data": {
      "image/png": "[encoded data removed]",
      "text/plain": [
       "<Figure size 1296x432 with 2 Axes>"
      ]
     },
     "metadata": {
      "image/png": {
       "height": 441,
       "width": 1099
      }
     },
     "output_type": "display_data"
    }
   ],
   "source": [
    "import missingno as msno\n",
    "msno.matrix(place, figsize = (18,6))"
   ]
  },
  {
   "cell_type": "markdown",
   "metadata": {},
   "source": [
    "## 코드로직\n",
    "\n",
    "1. 나와 비슷한 큐레이터 추천받기 버튼 누름\n",
    "2. 10개 이상 지도를 찍어야 추천 받기가 가능함\n",
    "3. 로그인 한 사람의 데이터베이스에서 랜덤하게 10개의 place 추출\n",
    "4. 10개 공간을 빠르게 크롤링해서 각 공간의 TFIDF 를 만듦\n",
    "5. 10개 공간에 대한 스코어링\n",
    "6. 10개 이상 추천한 사람들로 전체 db를 추리고 그 안에서 코사인 유사도 따져야함\n",
    "\n",
    "\n",
    "\n",
    "# 작업이 필요한 내역\n",
    "\n",
    "- 크롤러 출동시켜서 기존 db들에 대해서 추가적인 TFIDF 만들어서 데이터베이스에 저장하는 쿼리 짜기\n",
    "- 셀레늄을 쓸수밖에 없는가? <- db에 따로 쌓는 작업에는 써도 상관이 없지만\n",
    "- 추천받기 버튼을 통해 웹에서 진행될 파이썬 코드 안에서 어떻게 작동시킬지 알아보기 <- 비슷한 사람 찾기는 카테고리만으로 충분한가?\n",
    "- "
   ]
  },
  {
   "cell_type": "code",
   "execution_count": 7,
   "metadata": {},
   "outputs": [],
   "source": [
    "place_df = place[['category','info_url','name','id']]"
   ]
  },
  {
   "cell_type": "code",
   "execution_count": 8,
   "metadata": {},
   "outputs": [],
   "source": [
    "temp_df = place_df['category']"
   ]
  },
  {
   "cell_type": "code",
   "execution_count": 9,
   "metadata": {},
   "outputs": [
    {
     "data": {
      "text/plain": [
       "(1329, 285)"
      ]
     },
     "execution_count": 9,
     "metadata": {},
     "output_type": "execute_result"
    }
   ],
   "source": [
    "from sklearn.feature_extraction.text import CountVectorizer\n",
    "count_vect = CountVectorizer(min_df=2, ngram_range=(1,2))\n",
    "\n",
    "place_cate = count_vect.fit_transform(place_df['category'])\n",
    "place_cate.shape"
   ]
  },
  {
   "cell_type": "code",
   "execution_count": 10,
   "metadata": {},
   "outputs": [
    {
     "data": {
      "text/plain": [
       "<1329x285 sparse matrix of type '<class 'numpy.int64'>'\n",
       "\twith 6729 stored elements in Compressed Sparse Row format>"
      ]
     },
     "execution_count": 10,
     "metadata": {},
     "output_type": "execute_result"
    }
   ],
   "source": [
    "place_cate"
   ]
  },
  {
   "cell_type": "code",
   "execution_count": 11,
   "metadata": {},
   "outputs": [
    {
     "name": "stdout",
     "output_type": "stream",
     "text": [
      "(1329, 1329)\n"
     ]
    },
    {
     "data": {
      "text/plain": [
       "array([[1.        , 0.16903085, 0.        , ..., 0.14285714, 0.16903085,\n",
       "        0.        ],\n",
       "       [0.16903085, 1.        , 0.        , ..., 0.16903085, 0.2       ,\n",
       "        0.        ],\n",
       "       [0.        , 0.        , 1.        , ..., 0.        , 0.        ,\n",
       "        0.        ]])"
      ]
     },
     "execution_count": 11,
     "metadata": {},
     "output_type": "execute_result"
    }
   ],
   "source": [
    "from sklearn.metrics.pairwise import cosine_similarity\n",
    "\n",
    "place_simi = cosine_similarity(place_cate, place_cate)\n",
    "print(place_simi.shape)\n",
    "place_simi[:3]  # 2차원 ndarray\n",
    "\n"
   ]
  },
  {
   "cell_type": "code",
   "execution_count": 12,
   "metadata": {},
   "outputs": [
    {
     "name": "stdout",
     "output_type": "stream",
     "text": [
      "[[   0  681  770 ...  931  179 1328]]\n"
     ]
    }
   ],
   "source": [
    "# 솔직히 0.xxx값은 크게 관심 없고 순서가 중요하니까 ndarray에서 인덱스를 뽑아내는 argsort를 써줘야함\n",
    "\n",
    "place_simi_sorted_ind = place_simi.argsort()[:, ::-1]\n",
    "print(place_simi_sorted_ind[:1])"
   ]
  },
  {
   "cell_type": "code",
   "execution_count": 13,
   "metadata": {},
   "outputs": [],
   "source": [
    "def find_simi_place(df, sorted_ind, place_name, top_n=10):\n",
    "    \n",
    "    place_title = df[df['name'] == place_name]\n",
    "    place_index = place_title.index.values\n",
    "    similar_indexes = sorted_ind[place_index, :(top_n)]  # 매개변수로 설정한 top n개 뽑아준다\n",
    "    \n",
    "    print(similar_indexes)\n",
    "    similar_indexes = similar_indexes.reshape(-1)     #2차원 array를 데이터프레임에서 쓰게 1차원 array로 변경\n",
    "    return df.iloc[similar_indexes]\n"
   ]
  },
  {
   "cell_type": "code",
   "execution_count": 15,
   "metadata": {},
   "outputs": [
    {
     "name": "stdout",
     "output_type": "stream",
     "text": [
      "[[1244    2  854   10  886]]\n"
     ]
    },
    {
     "data": {
      "text/html": [
       "<div>\n",
       "<style scoped>\n",
       "    .dataframe tbody tr th:only-of-type {\n",
       "        vertical-align: middle;\n",
       "    }\n",
       "\n",
       "    .dataframe tbody tr th {\n",
       "        vertical-align: top;\n",
       "    }\n",
       "\n",
       "    .dataframe thead th {\n",
       "        text-align: right;\n",
       "    }\n",
       "</style>\n",
       "<table border=\"1\" class=\"dataframe\">\n",
       "  <thead>\n",
       "    <tr style=\"text-align: right;\">\n",
       "      <th></th>\n",
       "      <th>category</th>\n",
       "      <th>info_url</th>\n",
       "      <th>name</th>\n",
       "      <th>id</th>\n",
       "    </tr>\n",
       "  </thead>\n",
       "  <tbody>\n",
       "    <tr>\n",
       "      <th>1244</th>\n",
       "      <td>서비스,산업 &gt; 전문대행 &gt; 공간대여 &gt; 공유오피스</td>\n",
       "      <td>http://place.map.kakao.com/1265687654</td>\n",
       "      <td>힙덱</td>\n",
       "      <td>1292</td>\n",
       "    </tr>\n",
       "    <tr>\n",
       "      <th>2</th>\n",
       "      <td>서비스,산업 &gt; 전문대행 &gt; 공간대여 &gt; 모임공간</td>\n",
       "      <td>http://place.map.kakao.com/1115772275</td>\n",
       "      <td>연남장</td>\n",
       "      <td>45</td>\n",
       "    </tr>\n",
       "    <tr>\n",
       "      <th>854</th>\n",
       "      <td>서비스,산업 &gt; 전문대행 &gt; 컨설팅</td>\n",
       "      <td>http://place.map.kakao.com/1118419870</td>\n",
       "      <td>솔티드</td>\n",
       "      <td>902</td>\n",
       "    </tr>\n",
       "    <tr>\n",
       "      <th>10</th>\n",
       "      <td>서비스,산업 &gt; 전문대행</td>\n",
       "      <td>http://place.map.kakao.com/26417413</td>\n",
       "      <td>카우앤독</td>\n",
       "      <td>53</td>\n",
       "    </tr>\n",
       "    <tr>\n",
       "      <th>886</th>\n",
       "      <td>서비스,산업 &gt; 마케팅 &gt; 광고제작</td>\n",
       "      <td>http://place.map.kakao.com/20992998</td>\n",
       "      <td>모 픽쳐스</td>\n",
       "      <td>934</td>\n",
       "    </tr>\n",
       "  </tbody>\n",
       "</table>\n",
       "</div>"
      ],
      "text/plain": [
       "                          category                               info_url  \\\n",
       "1244  서비스,산업 > 전문대행 > 공간대여 > 공유오피스  http://place.map.kakao.com/1265687654   \n",
       "2      서비스,산업 > 전문대행 > 공간대여 > 모임공간  http://place.map.kakao.com/1115772275   \n",
       "854            서비스,산업 > 전문대행 > 컨설팅  http://place.map.kakao.com/1118419870   \n",
       "10                   서비스,산업 > 전문대행    http://place.map.kakao.com/26417413   \n",
       "886            서비스,산업 > 마케팅 > 광고제작    http://place.map.kakao.com/20992998   \n",
       "\n",
       "       name    id  \n",
       "1244     힙덱  1292  \n",
       "2       연남장    45  \n",
       "854     솔티드   902  \n",
       "10     카우앤독    53  \n",
       "886   모 픽쳐스   934  "
      ]
     },
     "execution_count": 15,
     "metadata": {},
     "output_type": "execute_result"
    }
   ],
   "source": [
    "find_simi_place(place_df, place_simi_sorted_ind, '연남장',5)\n"
   ]
  },
  {
   "cell_type": "code",
   "execution_count": 16,
   "metadata": {},
   "outputs": [
    {
     "name": "stdout",
     "output_type": "stream",
     "text": [
      "[[ 396  688 1310  342  395]]\n"
     ]
    },
    {
     "data": {
      "text/html": [
       "<div>\n",
       "<style scoped>\n",
       "    .dataframe tbody tr th:only-of-type {\n",
       "        vertical-align: middle;\n",
       "    }\n",
       "\n",
       "    .dataframe tbody tr th {\n",
       "        vertical-align: top;\n",
       "    }\n",
       "\n",
       "    .dataframe thead th {\n",
       "        text-align: right;\n",
       "    }\n",
       "</style>\n",
       "<table border=\"1\" class=\"dataframe\">\n",
       "  <thead>\n",
       "    <tr style=\"text-align: right;\">\n",
       "      <th></th>\n",
       "      <th>category</th>\n",
       "      <th>info_url</th>\n",
       "      <th>name</th>\n",
       "      <th>id</th>\n",
       "    </tr>\n",
       "  </thead>\n",
       "  <tbody>\n",
       "    <tr>\n",
       "      <th>396</th>\n",
       "      <td>음식점 &gt; 한식 &gt; 해물,생선</td>\n",
       "      <td>http://place.map.kakao.com/1402648947</td>\n",
       "      <td>개성집 남대문시장점</td>\n",
       "      <td>444</td>\n",
       "    </tr>\n",
       "    <tr>\n",
       "      <th>688</th>\n",
       "      <td>음식점 &gt; 한식 &gt; 해물,생선</td>\n",
       "      <td>http://place.map.kakao.com/27244461</td>\n",
       "      <td>메너머쭈꾸미</td>\n",
       "      <td>736</td>\n",
       "    </tr>\n",
       "    <tr>\n",
       "      <th>1310</th>\n",
       "      <td>음식점 &gt; 한식 &gt; 해물,생선 &gt; 회</td>\n",
       "      <td>http://place.map.kakao.com/8128185</td>\n",
       "      <td>동해별관</td>\n",
       "      <td>1358</td>\n",
       "    </tr>\n",
       "    <tr>\n",
       "      <th>342</th>\n",
       "      <td>음식점 &gt; 한식 &gt; 해물,생선</td>\n",
       "      <td>http://place.map.kakao.com/11064200</td>\n",
       "      <td>무교동북어국집</td>\n",
       "      <td>390</td>\n",
       "    </tr>\n",
       "    <tr>\n",
       "      <th>395</th>\n",
       "      <td>음식점 &gt; 한식 &gt; 해물,생선</td>\n",
       "      <td>http://place.map.kakao.com/12997934</td>\n",
       "      <td>우정식당</td>\n",
       "      <td>443</td>\n",
       "    </tr>\n",
       "  </tbody>\n",
       "</table>\n",
       "</div>"
      ],
      "text/plain": [
       "                  category                               info_url        name  \\\n",
       "396       음식점 > 한식 > 해물,생선  http://place.map.kakao.com/1402648947  개성집 남대문시장점   \n",
       "688       음식점 > 한식 > 해물,생선    http://place.map.kakao.com/27244461      메너머쭈꾸미   \n",
       "1310  음식점 > 한식 > 해물,생선 > 회     http://place.map.kakao.com/8128185        동해별관   \n",
       "342       음식점 > 한식 > 해물,생선    http://place.map.kakao.com/11064200     무교동북어국집   \n",
       "395       음식점 > 한식 > 해물,생선    http://place.map.kakao.com/12997934        우정식당   \n",
       "\n",
       "        id  \n",
       "396    444  \n",
       "688    736  \n",
       "1310  1358  \n",
       "342    390  \n",
       "395    443  "
      ]
     },
     "execution_count": 16,
     "metadata": {},
     "output_type": "execute_result"
    }
   ],
   "source": [
    "find_simi_place(place_df, place_simi_sorted_ind, '서촌계단집',5)\n"
   ]
  },
  {
   "cell_type": "code",
   "execution_count": 42,
   "metadata": {},
   "outputs": [
    {
     "data": {
      "text/plain": [
       "'http://place.map.kakao.com/1671949372'"
      ]
     },
     "execution_count": 42,
     "metadata": {},
     "output_type": "execute_result"
    }
   ],
   "source": [
    "place.iloc[0,4]"
   ]
  },
  {
   "cell_type": "code",
   "execution_count": 25,
   "metadata": {},
   "outputs": [
    {
     "data": {
      "text/plain": [
       "'http://place.map.kakao.com/8503628'"
      ]
     },
     "execution_count": 25,
     "metadata": {},
     "output_type": "execute_result"
    }
   ],
   "source": [
    "place.iloc[1,4]"
   ]
  },
  {
   "cell_type": "markdown",
   "metadata": {},
   "source": [
    "## 크롤링"
   ]
  },
  {
   "cell_type": "code",
   "execution_count": 32,
   "metadata": {},
   "outputs": [],
   "source": [
    "# 셀레늄 import\n",
    "\n",
    "from selenium import webdriver\n",
    "from selenium.webdriver.common.keys import Keys\n",
    "from selenium.webdriver.support.ui import WebDriverWait\n",
    "from selenium.webdriver.support import expected_conditions as EC\n",
    "from selenium.common.exceptions import TimeoutException\n",
    "from selenium.common.exceptions import NoSuchElementException\n",
    "from selenium.webdriver.common.by import By\n",
    "from selenium.webdriver.support.ui import Select\n",
    "import time\n",
    "\n"
   ]
  },
  {
   "cell_type": "code",
   "execution_count": 96,
   "metadata": {},
   "outputs": [],
   "source": [
    "\n",
    "def review_crwaling(place_url):\n",
    "\n",
    "    chromedriver = '/Users/taewoongkong/workspace/selenium_learning/chromedriver'  # 크롬 드라이브 디렉토리는 어떻게 앱에 적용시키지?\n",
    "    # headless 옵션임\n",
    "    headless_options = webdriver.ChromeOptions()\n",
    "    headless_options.add_argument('headless')\n",
    "    driver = webdriver.Chrome(chromedriver, options=headless_options)  # 대소문자 주의\n",
    "\n",
    "    # 추가 옵션들\n",
    "    headless_options.add_argument('window-size=1920x1080')\n",
    "    headless_options.add_argument('disable-gpu')\n",
    "    headless_options.add_argument('lang=ko_KR')\n",
    "    headless_options.add_argument('User-Agent:  Mozilla/5.0 (Macintosh; Intel Mac OS X 10_15_1) AppleWebKit/537.36 (KHTML, like Gecko) Chrome/79.0.3945.79 Safari/537.36')\n",
    "\n",
    "\n",
    "    review_text = \"\"\n",
    "\n",
    "    # 크롤링 시작\n",
    "    driver.get(place_url)\n",
    "    time.sleep(0.3)\n",
    "\n",
    "    review_quantity = driver.find_element_by_css_selector(\"#mArticle > div.cont_review > div.particular_head > span\").text\n",
    "    if review_quantity != '이 장소의 리뷰를 첫 번째로 등록해주세요.':\n",
    "        review_quantity = int(review_quantity)\n",
    "        \n",
    "        if review_quantity > 3:\n",
    "            for num in range(1,4):\n",
    "                review_text = review_text + driver.find_element_by_css_selector(f\"#mArticle > div.cont_review > div.wrap_list > ul > li:nth-child({num}) > a > div.review_story > p\").text\n",
    "        else:\n",
    "            for num in range(1, review_quantity + 1):\n",
    "                review_text = review_text + driver.find_element_by_css_selector(f\"#mArticle > div.cont_review > div.wrap_list > ul > li:nth-child({num}) > a > div.review_story > p\").text\n",
    "\n",
    "        \n",
    "\n",
    "        return review_text\n",
    "    else:\n",
    "        review_text = np.nan\n",
    "\n",
    "#    driver.quit()\n",
    "#    print(\"리뷰 개수 : \", review_quantity)\n",
    "#    print(review_text)\n"
   ]
  },
  {
   "cell_type": "code",
   "execution_count": 47,
   "metadata": {},
   "outputs": [
    {
     "data": {
      "text/plain": [
       "0       http://place.map.kakao.com/1671949372\n",
       "1          http://place.map.kakao.com/8503628\n",
       "2       http://place.map.kakao.com/1115772275\n",
       "3         http://place.map.kakao.com/23981049\n",
       "4         http://place.map.kakao.com/14822702\n",
       "                        ...                  \n",
       "1324      http://place.map.kakao.com/19156993\n",
       "1325      http://place.map.kakao.com/16037797\n",
       "1326     http://place.map.kakao.com/768666442\n",
       "1327       http://place.map.kakao.com/3800303\n",
       "1328     http://place.map.kakao.com/144415612\n",
       "Name: info_url, Length: 1329, dtype: object"
      ]
     },
     "execution_count": 47,
     "metadata": {},
     "output_type": "execute_result"
    }
   ],
   "source": [
    "place['info_url']"
   ]
  },
  {
   "cell_type": "code",
   "execution_count": 137,
   "metadata": {},
   "outputs": [
    {
     "data": {
      "application/vnd.jupyter.widget-view+json": {
       "model_id": "12e05d580f1f4d519dcde901165b207d",
       "version_major": 2,
       "version_minor": 0
      },
      "text/plain": [
       "HBox(children=(IntProgress(value=0, max=1329), HTML(value='')))"
      ]
     },
     "metadata": {},
     "output_type": "display_data"
    },
    {
     "name": "stdout",
     "output_type": "stream",
     "text": [
      "name 'e' is not defined\n",
      "문제가 발생했던 데이터 행 :  53\n",
      "name 'e' is not defined\n",
      "문제가 발생했던 데이터 행 :  54\n",
      "name 'e' is not defined\n",
      "문제가 발생했던 데이터 행 :  56\n",
      "name 'e' is not defined\n",
      "문제가 발생했던 데이터 행 :  58\n",
      "name 'e' is not defined\n",
      "문제가 발생했던 데이터 행 :  67\n",
      "name 'e' is not defined\n",
      "문제가 발생했던 데이터 행 :  104\n",
      "name 'e' is not defined\n",
      "문제가 발생했던 데이터 행 :  106\n",
      "name 'e' is not defined\n",
      "문제가 발생했던 데이터 행 :  108\n",
      "name 'e' is not defined\n",
      "문제가 발생했던 데이터 행 :  109\n",
      "name 'e' is not defined\n",
      "문제가 발생했던 데이터 행 :  116\n"
     ]
    },
    {
     "ename": "KeyboardInterrupt",
     "evalue": "",
     "output_type": "error",
     "traceback": [
      "\u001b[0;31m---------------------------------------------------------------------------\u001b[0m",
      "\u001b[0;31mKeyboardInterrupt\u001b[0m                         Traceback (most recent call last)",
      "\u001b[0;32m<ipython-input-137-4a6649977e76>\u001b[0m in \u001b[0;36m<module>\u001b[0;34m\u001b[0m\n\u001b[1;32m     32\u001b[0m \u001b[0;32mfor\u001b[0m \u001b[0mi\u001b[0m\u001b[0;34m,\u001b[0m \u001b[0murl\u001b[0m \u001b[0;32min\u001b[0m \u001b[0menumerate\u001b[0m\u001b[0;34m(\u001b[0m\u001b[0mtqdm_notebook\u001b[0m\u001b[0;34m(\u001b[0m\u001b[0mplace\u001b[0m\u001b[0;34m[\u001b[0m\u001b[0;34m'info_url'\u001b[0m\u001b[0;34m]\u001b[0m\u001b[0;34m)\u001b[0m\u001b[0;34m)\u001b[0m\u001b[0;34m:\u001b[0m\u001b[0;34m\u001b[0m\u001b[0;34m\u001b[0m\u001b[0m\n\u001b[1;32m     33\u001b[0m     \u001b[0mdriver\u001b[0m\u001b[0;34m.\u001b[0m\u001b[0mget\u001b[0m\u001b[0;34m(\u001b[0m\u001b[0murl\u001b[0m\u001b[0;34m)\u001b[0m\u001b[0;34m\u001b[0m\u001b[0;34m\u001b[0m\u001b[0m\n\u001b[0;32m---> 34\u001b[0;31m     \u001b[0mtime\u001b[0m\u001b[0;34m.\u001b[0m\u001b[0msleep\u001b[0m\u001b[0;34m(\u001b[0m\u001b[0;36m1\u001b[0m\u001b[0;34m)\u001b[0m\u001b[0;34m\u001b[0m\u001b[0;34m\u001b[0m\u001b[0m\n\u001b[0m\u001b[1;32m     35\u001b[0m     \u001b[0mreview_text\u001b[0m \u001b[0;34m=\u001b[0m \u001b[0;34m\"\"\u001b[0m\u001b[0;34m\u001b[0m\u001b[0;34m\u001b[0m\u001b[0m\n\u001b[1;32m     36\u001b[0m     \u001b[0mnum\u001b[0m \u001b[0;34m=\u001b[0m \u001b[0;36m0\u001b[0m\u001b[0;34m\u001b[0m\u001b[0;34m\u001b[0m\u001b[0m\n",
      "\u001b[0;31mKeyboardInterrupt\u001b[0m: "
     ]
    }
   ],
   "source": [
    "from tqdm import tqdm_notebook\n",
    "\n",
    "\n",
    "# 셀레늄 import\n",
    "\n",
    "from selenium import webdriver\n",
    "from selenium.webdriver.common.keys import Keys\n",
    "from selenium.webdriver.support.ui import WebDriverWait\n",
    "from selenium.webdriver.support import expected_conditions as EC\n",
    "from selenium.common.exceptions import TimeoutException\n",
    "from selenium.common.exceptions import NoSuchElementException\n",
    "from selenium.webdriver.common.by import By\n",
    "from selenium.webdriver.support.ui import Select\n",
    "import time\n",
    "\n",
    "\n",
    "\n",
    "chromedriver = '/Users/taewoongkong/workspace/selenium_learning/chromedriver'  # 크롬 드라이브 디렉토리는 어떻게 앱에 적용시키지?\n",
    "# headless 옵션임\n",
    "headless_options = webdriver.ChromeOptions()\n",
    "headless_options.add_argument('headless')\n",
    "driver = webdriver.Chrome(chromedriver, options=headless_options)  # 대소문자 주의\n",
    "\n",
    "# 추가 옵션들\n",
    "headless_options.add_argument('window-size=1920x1080')\n",
    "headless_options.add_argument('disable-gpu')\n",
    "headless_options.add_argument('lang=ko_KR')\n",
    "headless_options.add_argument('User-Agent:  Mozilla/5.0 (Macintosh; Intel Mac OS X 10_15_1) AppleWebKit/537.36 (KHTML, like Gecko) Chrome/79.0.3945.79 Safari/537.36')\n",
    "\n",
    "\n",
    "review_list = []\n",
    "for i, url in enumerate(tqdm_notebook(place['info_url'])):\n",
    "    driver.get(url)\n",
    "    time.sleep(1)\n",
    "    review_text = \"\"\n",
    "    num = 0\n",
    "    try:\n",
    "        while num < 3:\n",
    "            try:\n",
    "                num += 1\n",
    "                review_text = review_text + driver.find_element_by_css_selector(f\"div.wrap_list > ul > li:nth-child({num}) > a > div.review_story > p\").text\n",
    "                if num == 3:\n",
    "                    review_list.append(review_text)\n",
    "            except Exception as e1:\n",
    "                if str(e).contains(\"li:nth-child(1)\"):\n",
    "                    print(\"리뷰가 하나도 없네\")\n",
    "                    review_text = \"empty\"\n",
    "                    review_list.append(review_text)\n",
    "                else:\n",
    "                    print(e1)\n",
    "                    print(\"문제가 발생했던 데이터 행 : \", i)\n",
    "                    review_list.append(review_text)\n",
    "                    break\n",
    "                \n",
    "    except Exception as e2:\n",
    "        print(e2)\n",
    "        print(\"문제가 발생했던 데이터 행 : \", i)\n",
    "        review_text = \"empty\"\n",
    "        review_list.append(review_text)\n",
    "driver.quit()\n",
    "#mArticle > div:nth-child(6) > div.wrap_list > ul > li:nth-child(2) > a > div.review_story > p\n",
    "#mArticle > div:nth-child(6) > div.wrap_list > ul > li:nth-child(1) > a > div.review_story > p\n",
    "#mArticle > div:nth-child(7) > div.wrap_list > ul > li:nth-child(1) > a > div.review_story > p\n"
   ]
  },
  {
   "cell_type": "code",
   "execution_count": 136,
   "metadata": {},
   "outputs": [
    {
     "data": {
      "text/plain": [
       "id                                               154\n",
       "place_id                                   753213515\n",
       "lat                                           126.98\n",
       "lng                                          37.5671\n",
       "info_url        http://place.map.kakao.com/753213515\n",
       "name                                          센터플레이스\n",
       "road_address                         서울 중구 남대문로9길 40\n",
       "dong_address                            서울 중구 다동 155\n",
       "category                                    부동산 > 빌딩\n",
       "date_created                     2020-05-20 16:02:49\n",
       "Name: 108, dtype: object"
      ]
     },
     "execution_count": 136,
     "metadata": {},
     "output_type": "execute_result"
    }
   ],
   "source": [
    "place.iloc[108,:]"
   ]
  },
  {
   "cell_type": "code",
   "execution_count": 101,
   "metadata": {},
   "outputs": [],
   "source": [
    "mini_place = place.iloc[:200, :]"
   ]
  },
  {
   "cell_type": "code",
   "execution_count": 102,
   "metadata": {},
   "outputs": [
    {
     "name": "stderr",
     "output_type": "stream",
     "text": [
      "/Users/taewoongkong/miniconda3/lib/python3.7/site-packages/ipykernel_launcher.py:1: SettingWithCopyWarning: \n",
      "A value is trying to be set on a copy of a slice from a DataFrame.\n",
      "Try using .loc[row_indexer,col_indexer] = value instead\n",
      "\n",
      "See the caveats in the documentation: http://pandas.pydata.org/pandas-docs/stable/user_guide/indexing.html#returning-a-view-versus-a-copy\n",
      "  \"\"\"Entry point for launching an IPython kernel.\n"
     ]
    }
   ],
   "source": [
    "mini_place['review'] = review_list"
   ]
  },
  {
   "cell_type": "code",
   "execution_count": 105,
   "metadata": {},
   "outputs": [
    {
     "name": "stdout",
     "output_type": "stream",
     "text": [
      "(200, 200)\n",
      "[[  0   2   4 120  11  45  17  92 150  74  40 198 123   9  52 156 173 155\n",
      "  199 142  86  69 186  47  34 140 161  12  37 163 183  91  18 143 124  33\n",
      "   75 157  31  28 101 158   6  96  84 149 171  30 177  21  49 154  98  62\n",
      "  100  46 196 141 115 102  61 111 139 114 145 166  79  41  65  87 194  20\n",
      "  138 159  72 107 184  35 135  23  57 180 197  39 181 167 195 191  16  13\n",
      "  176   8 126 162  22  95  15 137 127 192  24 134  70 185 118   5  38  63\n",
      "  128  80  93  50 133  27  19  73 153  43   3 112  32  29 152 189 129  44\n",
      "  190  81  48  56  54 130  36 105 174  83  51  55 165  26   1   7  97 168\n",
      "   94  99 144 175  25 188 119 106 117  59  88 132 108  14  77  66 169 151\n",
      "   58 113  10  68 136 182 121  64  89  85  82 104  53 125  60  90 193 103\n",
      "  160 131  71 187 179 146  78  67  76 164 178 172 170 122  42 110 148 147\n",
      "  109 116]]\n",
      "[[  2 154 150  52 158  17 105 156   6 155]]\n"
     ]
    },
    {
     "data": {
      "text/html": [
       "<div>\n",
       "<style scoped>\n",
       "    .dataframe tbody tr th:only-of-type {\n",
       "        vertical-align: middle;\n",
       "    }\n",
       "\n",
       "    .dataframe tbody tr th {\n",
       "        vertical-align: top;\n",
       "    }\n",
       "\n",
       "    .dataframe thead th {\n",
       "        text-align: right;\n",
       "    }\n",
       "</style>\n",
       "<table border=\"1\" class=\"dataframe\">\n",
       "  <thead>\n",
       "    <tr style=\"text-align: right;\">\n",
       "      <th></th>\n",
       "      <th>id</th>\n",
       "      <th>place_id</th>\n",
       "      <th>lat</th>\n",
       "      <th>lng</th>\n",
       "      <th>info_url</th>\n",
       "      <th>name</th>\n",
       "      <th>road_address</th>\n",
       "      <th>dong_address</th>\n",
       "      <th>category</th>\n",
       "      <th>date_created</th>\n",
       "      <th>review</th>\n",
       "    </tr>\n",
       "  </thead>\n",
       "  <tbody>\n",
       "    <tr>\n",
       "      <th>2</th>\n",
       "      <td>45</td>\n",
       "      <td>1115772275</td>\n",
       "      <td>126.927583</td>\n",
       "      <td>37.564330</td>\n",
       "      <td>http://place.map.kakao.com/1115772275</td>\n",
       "      <td>연남장</td>\n",
       "      <td>서울 서대문구 연희로5길 22</td>\n",
       "      <td>서울 서대문구 연희동 218-15</td>\n",
       "      <td>서비스,산업 &gt; 전문대행 &gt; 공간대여 &gt; 모임공간</td>\n",
       "      <td>2020-03-29 23:28:20</td>\n",
       "      <td>연희동/연남동 감성 카페 연남장 (by 연남방앗간) 연남장 서울특별시 서대문구 연희...</td>\n",
       "    </tr>\n",
       "    <tr>\n",
       "      <th>154</th>\n",
       "      <td>202</td>\n",
       "      <td>1538248248</td>\n",
       "      <td>126.926050</td>\n",
       "      <td>37.562844</td>\n",
       "      <td>http://place.map.kakao.com/1538248248</td>\n",
       "      <td>련남면옥</td>\n",
       "      <td>서울 마포구 성미산로 190-4</td>\n",
       "      <td>서울 마포구 연남동 228-2</td>\n",
       "      <td>음식점 &gt; 한식 &gt; 냉면</td>\n",
       "      <td>2020-05-31 00:20:59</td>\n",
       "      <td>평양냉면 먹은지는 꽤 됐는데 다시 생각나서 이제야 올리게되는 냉면 포스팅 먹은건 너...</td>\n",
       "    </tr>\n",
       "    <tr>\n",
       "      <th>150</th>\n",
       "      <td>198</td>\n",
       "      <td>25048467</td>\n",
       "      <td>126.945529</td>\n",
       "      <td>37.547487</td>\n",
       "      <td>http://place.map.kakao.com/25048467</td>\n",
       "      <td>을밀대 본점</td>\n",
       "      <td>서울 마포구 숭문길 24</td>\n",
       "      <td>서울 마포구 염리동 147-6</td>\n",
       "      <td>음식점 &gt; 한식 &gt; 냉면</td>\n",
       "      <td>2020-05-31 00:20:20</td>\n",
       "      <td>여러분우웅 아녕아하세요요~~ 오랜만에.. 올립니다ㅠㅠ 요즘 바빠가지고 한번에!! 올...</td>\n",
       "    </tr>\n",
       "    <tr>\n",
       "      <th>52</th>\n",
       "      <td>95</td>\n",
       "      <td>19925752</td>\n",
       "      <td>126.924055</td>\n",
       "      <td>37.565189</td>\n",
       "      <td>http://place.map.kakao.com/19925752</td>\n",
       "      <td>툭툭누들타이</td>\n",
       "      <td>서울 마포구 성미산로 161-8</td>\n",
       "      <td>서울 마포구 연남동 223-15</td>\n",
       "      <td>음식점 &gt; 아시아음식 &gt; 동남아음식 &gt; 태국음식</td>\n",
       "      <td>2020-03-31 22:57:15</td>\n",
       "      <td>동남아 여행을 가고 싶은 요즘. 태국 맛집을 맛보고 싶어 힙한 홍대로 가봤습니다. ...</td>\n",
       "    </tr>\n",
       "    <tr>\n",
       "      <th>158</th>\n",
       "      <td>206</td>\n",
       "      <td>17002378</td>\n",
       "      <td>126.930305</td>\n",
       "      <td>37.568397</td>\n",
       "      <td>http://place.map.kakao.com/17002378</td>\n",
       "      <td>유어마인드</td>\n",
       "      <td>서울 서대문구 연희로11라길 10-6</td>\n",
       "      <td>서울 서대문구 연희동 132-32</td>\n",
       "      <td>문화,예술 &gt; 도서 &gt; 서점</td>\n",
       "      <td>2020-05-31 00:24:11</td>\n",
       "      <td>동생과 함께 한 날씨가 매우 좋았던 어느 날의 기록. 낯설기도 익숙하기도 한 이 동...</td>\n",
       "    </tr>\n",
       "    <tr>\n",
       "      <th>17</th>\n",
       "      <td>60</td>\n",
       "      <td>473697180</td>\n",
       "      <td>126.927748</td>\n",
       "      <td>37.566867</td>\n",
       "      <td>http://place.map.kakao.com/473697180</td>\n",
       "      <td>연희대공원</td>\n",
       "      <td>서울 서대문구 연희로11가길 42</td>\n",
       "      <td>서울 서대문구 연희동 273-9</td>\n",
       "      <td>음식점 &gt; 카페 &gt; 테마카페</td>\n",
       "      <td>2020-03-30 00:19:06</td>\n",
       "      <td>안녕하세요 동그리 입니다 :-) 이번 포스팅은 연희동에 위치한 카페겸 복합문화공간,...</td>\n",
       "    </tr>\n",
       "    <tr>\n",
       "      <th>105</th>\n",
       "      <td>150</td>\n",
       "      <td>1915903142</td>\n",
       "      <td>126.206070</td>\n",
       "      <td>33.369460</td>\n",
       "      <td>http://place.map.kakao.com/1915903142</td>\n",
       "      <td>울트라마린</td>\n",
       "      <td>제주특별자치도 제주시 한경면 일주서로 4611</td>\n",
       "      <td>제주특별자치도 제주시 한경면 판포리 1611</td>\n",
       "      <td>음식점 &gt; 카페 &gt; 커피전문점</td>\n",
       "      <td>2020-05-19 18:29:33</td>\n",
       "      <td>제주도 서쪽 카페 울트라 마린 (ULTRA MARINE) 울트라마린 제주특별자치도 ...</td>\n",
       "    </tr>\n",
       "    <tr>\n",
       "      <th>156</th>\n",
       "      <td>204</td>\n",
       "      <td>27238568</td>\n",
       "      <td>126.924942</td>\n",
       "      <td>37.560912</td>\n",
       "      <td>http://place.map.kakao.com/27238568</td>\n",
       "      <td>숨은골목</td>\n",
       "      <td>서울 마포구 동교로34길 12</td>\n",
       "      <td>서울 마포구 연남동 260-41</td>\n",
       "      <td>음식점 &gt; 술집</td>\n",
       "      <td>2020-05-31 00:22:35</td>\n",
       "      <td>비오는날 꼭 찾아가는 곳 연남동맛집 숨은골목 비오는 금요일 저녁 눈치작전 성공한듯 ...</td>\n",
       "    </tr>\n",
       "    <tr>\n",
       "      <th>6</th>\n",
       "      <td>49</td>\n",
       "      <td>1789136969</td>\n",
       "      <td>126.914394</td>\n",
       "      <td>37.556994</td>\n",
       "      <td>http://place.map.kakao.com/1789136969</td>\n",
       "      <td>고기상</td>\n",
       "      <td>서울 마포구 잔다리로 112</td>\n",
       "      <td>서울 마포구 서교동 458-1</td>\n",
       "      <td>음식점 &gt; 한식 &gt; 육류,고기</td>\n",
       "      <td>2020-03-29 23:36:50</td>\n",
       "      <td>어느날 갑자기 꼬기가 먹고 싶다!!!!!!!!소꼬기!!!!! 를 외친 묘미동생을 위...</td>\n",
       "    </tr>\n",
       "    <tr>\n",
       "      <th>155</th>\n",
       "      <td>203</td>\n",
       "      <td>27327500</td>\n",
       "      <td>126.912584</td>\n",
       "      <td>37.548300</td>\n",
       "      <td>http://place.map.kakao.com/27327500</td>\n",
       "      <td>동무밥상</td>\n",
       "      <td>서울 마포구 양화진길 10</td>\n",
       "      <td>서울 마포구 합정동 381-64</td>\n",
       "      <td>음식점 &gt; 한식</td>\n",
       "      <td>2020-05-31 00:21:43</td>\n",
       "      <td>합정역 맛집: 옥류관 출신 주방장이 만드는 평양냉면 [동무밥상] 이 집은 수요미식회...</td>\n",
       "    </tr>\n",
       "  </tbody>\n",
       "</table>\n",
       "</div>"
      ],
      "text/plain": [
       "      id    place_id         lat        lng  \\\n",
       "2     45  1115772275  126.927583  37.564330   \n",
       "154  202  1538248248  126.926050  37.562844   \n",
       "150  198    25048467  126.945529  37.547487   \n",
       "52    95    19925752  126.924055  37.565189   \n",
       "158  206    17002378  126.930305  37.568397   \n",
       "17    60   473697180  126.927748  37.566867   \n",
       "105  150  1915903142  126.206070  33.369460   \n",
       "156  204    27238568  126.924942  37.560912   \n",
       "6     49  1789136969  126.914394  37.556994   \n",
       "155  203    27327500  126.912584  37.548300   \n",
       "\n",
       "                                  info_url    name               road_address  \\\n",
       "2    http://place.map.kakao.com/1115772275     연남장           서울 서대문구 연희로5길 22   \n",
       "154  http://place.map.kakao.com/1538248248    련남면옥          서울 마포구 성미산로 190-4   \n",
       "150    http://place.map.kakao.com/25048467  을밀대 본점              서울 마포구 숭문길 24   \n",
       "52     http://place.map.kakao.com/19925752  툭툭누들타이          서울 마포구 성미산로 161-8   \n",
       "158    http://place.map.kakao.com/17002378   유어마인드       서울 서대문구 연희로11라길 10-6   \n",
       "17    http://place.map.kakao.com/473697180   연희대공원         서울 서대문구 연희로11가길 42   \n",
       "105  http://place.map.kakao.com/1915903142   울트라마린  제주특별자치도 제주시 한경면 일주서로 4611   \n",
       "156    http://place.map.kakao.com/27238568    숨은골목           서울 마포구 동교로34길 12   \n",
       "6    http://place.map.kakao.com/1789136969     고기상            서울 마포구 잔다리로 112   \n",
       "155    http://place.map.kakao.com/27327500    동무밥상             서울 마포구 양화진길 10   \n",
       "\n",
       "                 dong_address                     category  \\\n",
       "2          서울 서대문구 연희동 218-15  서비스,산업 > 전문대행 > 공간대여 > 모임공간   \n",
       "154          서울 마포구 연남동 228-2                음식점 > 한식 > 냉면   \n",
       "150          서울 마포구 염리동 147-6                음식점 > 한식 > 냉면   \n",
       "52          서울 마포구 연남동 223-15   음식점 > 아시아음식 > 동남아음식 > 태국음식   \n",
       "158        서울 서대문구 연희동 132-32              문화,예술 > 도서 > 서점   \n",
       "17          서울 서대문구 연희동 273-9              음식점 > 카페 > 테마카페   \n",
       "105  제주특별자치도 제주시 한경면 판포리 1611             음식점 > 카페 > 커피전문점   \n",
       "156         서울 마포구 연남동 260-41                     음식점 > 술집   \n",
       "6            서울 마포구 서교동 458-1             음식점 > 한식 > 육류,고기   \n",
       "155         서울 마포구 합정동 381-64                     음식점 > 한식   \n",
       "\n",
       "            date_created                                             review  \n",
       "2    2020-03-29 23:28:20  연희동/연남동 감성 카페 연남장 (by 연남방앗간) 연남장 서울특별시 서대문구 연희...  \n",
       "154  2020-05-31 00:20:59  평양냉면 먹은지는 꽤 됐는데 다시 생각나서 이제야 올리게되는 냉면 포스팅 먹은건 너...  \n",
       "150  2020-05-31 00:20:20  여러분우웅 아녕아하세요요~~ 오랜만에.. 올립니다ㅠㅠ 요즘 바빠가지고 한번에!! 올...  \n",
       "52   2020-03-31 22:57:15  동남아 여행을 가고 싶은 요즘. 태국 맛집을 맛보고 싶어 힙한 홍대로 가봤습니다. ...  \n",
       "158  2020-05-31 00:24:11  동생과 함께 한 날씨가 매우 좋았던 어느 날의 기록. 낯설기도 익숙하기도 한 이 동...  \n",
       "17   2020-03-30 00:19:06  안녕하세요 동그리 입니다 :-) 이번 포스팅은 연희동에 위치한 카페겸 복합문화공간,...  \n",
       "105  2020-05-19 18:29:33  제주도 서쪽 카페 울트라 마린 (ULTRA MARINE) 울트라마린 제주특별자치도 ...  \n",
       "156  2020-05-31 00:22:35  비오는날 꼭 찾아가는 곳 연남동맛집 숨은골목 비오는 금요일 저녁 눈치작전 성공한듯 ...  \n",
       "6    2020-03-29 23:36:50  어느날 갑자기 꼬기가 먹고 싶다!!!!!!!!소꼬기!!!!! 를 외친 묘미동생을 위...  \n",
       "155  2020-05-31 00:21:43  합정역 맛집: 옥류관 출신 주방장이 만드는 평양냉면 [동무밥상] 이 집은 수요미식회...  "
      ]
     },
     "execution_count": 105,
     "metadata": {},
     "output_type": "execute_result"
    }
   ],
   "source": [
    "from sklearn.feature_extraction.text import CountVectorizer\n",
    "from sklearn.metrics.pairwise import cosine_similarity\n",
    "\n",
    "\n",
    "\n",
    "count_vect = CountVectorizer(min_df=2, ngram_range=(1,2))  # min_df : 적어도 n번은 나와야 카운팅 해주겠다는 뜻\n",
    "mini_place_review = count_vect.fit_transform(mini_place['review'])  # 분석에 활용하고자 하는 칼럼 넣음\n",
    "\n",
    "\n",
    "mini_place_simi = cosine_similarity(mini_place_review, mini_place_review)  # 분석용 데이터 간의 유사도. 2차원 nd로 되어있음\n",
    "\n",
    "# 솔직히 0.xxx값은 크게 관심 없고 순서가 중요하니까 ndarray에서 인덱스를 뽑아내는 argsort를 써줘야함\n",
    "\n",
    "mini_place_simi_sorted_ind = mini_place_simi.argsort()[:, ::-1]  # 인덱스 뽑아내주는 작업\n",
    "print(mini_place_simi_sorted_ind[:1])\n",
    "\n",
    "def find_simi_place(df, sorted_ind, place_name, top_n=10):\n",
    "    \n",
    "    place_title = df[df['name'] == place_name]\n",
    "    place_index = place_title.index.values\n",
    "    similar_indexes = sorted_ind[place_index, :(top_n)]  # 매개변수로 설정한 top n개 뽑아준다\n",
    "    \n",
    "    print(similar_indexes)\n",
    "    similar_indexes = similar_indexes.reshape(-1)     #2차원 array를 데이터프레임에서 쓰게 1차원 array로 변경\n",
    "    return df.iloc[similar_indexes]\n",
    "\n",
    "\n",
    "\n",
    "find_simi_place(mini_place, mini_place_simi_sorted_ind, '연남장',10)\n"
   ]
  },
  {
   "cell_type": "code",
   "execution_count": 112,
   "metadata": {},
   "outputs": [
    {
     "name": "stdout",
     "output_type": "stream",
     "text": [
      "[[  2 103  52 158   6 154  17  24 156  36]]\n"
     ]
    }
   ],
   "source": [
    "find_simi_place(mini_place, mini_place_simi_sorted_ind, '연남장',10).to_csv(\"test_recom.csv\",  mode='a', header=True)"
   ]
  },
  {
   "cell_type": "code",
   "execution_count": null,
   "metadata": {},
   "outputs": [],
   "source": []
  }
 ],
 "metadata": {
  "kernelspec": {
   "display_name": "Python 3",
   "language": "python",
   "name": "python3"
  },
  "language_info": {
   "codemirror_mode": {
    "name": "ipython",
    "version": 3
   },
   "file_extension": ".py",
   "mimetype": "text/x-python",
   "name": "python",
   "nbconvert_exporter": "python",
   "pygments_lexer": "ipython3",
   "version": "3.7.4"
  }
 },
 "nbformat": 4,
 "nbformat_minor": 2
}
