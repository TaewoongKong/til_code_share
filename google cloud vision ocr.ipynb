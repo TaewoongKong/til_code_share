{
 "cells": [
  {
   "cell_type": "code",
   "execution_count": 2,
   "metadata": {},
   "outputs": [],
   "source": [
    "import io\n",
    "import os\n",
    "import pandas as pd\n",
    "from google.cloud import vision"
   ]
  },
  {
   "cell_type": "code",
   "execution_count": 39,
   "metadata": {},
   "outputs": [],
   "source": [
    "os.environ['GOOGLE_APPLICATION_CREDENTIALS'] = '/Users/taewoongkong/workspace/api_public/dnlriver-e0a32e1bb7c0.json'\n",
    "\n",
    "# api 이용 월 1000번 미만 무료"
   ]
  },
  {
   "cell_type": "code",
   "execution_count": 4,
   "metadata": {},
   "outputs": [
    {
     "data": {
      "text/plain": [
       "'/Users/taewoongkong/workspace/api_public/python-docs-samples-master/functions/ocr/app'"
      ]
     },
     "execution_count": 4,
     "metadata": {},
     "output_type": "execute_result"
    }
   ],
   "source": [
    "os.getcwd()"
   ]
  },
  {
   "cell_type": "code",
   "execution_count": 45,
   "metadata": {},
   "outputs": [],
   "source": [
    "# 이미지가 있는 폴더에서 파일 리스트 불러옴\n",
    "test_num = 3\n",
    "path_dir = f'/Users/taewoongkong/workspace/api_public/ocr_test/test_{test_num}.png'\n"
   ]
  },
  {
   "cell_type": "code",
   "execution_count": 41,
   "metadata": {},
   "outputs": [],
   "source": [
    "import base64\n",
    "import json\n",
    "import os\n",
    "\n",
    "from google.cloud import pubsub_v1\n",
    "from google.cloud import storage\n",
    "#from google.cloud import translate\n",
    "from google.cloud import vision\n",
    "from google.cloud import translate_v2 as translate\n",
    "\n",
    "vision_client = vision.ImageAnnotatorClient()\n",
    "translate_client = translate.Client()\n",
    "publisher = pubsub_v1.PublisherClient()\n",
    "storage_client = storage.Client()\n",
    "\n",
    "project_id = os.environ['GOOGLE_APPLICATION_CREDENTIALS']\n",
    "\n",
    "with open('/Users/taewoongkong/workspace/api_public/python-docs-samples-master/functions/ocr/app/config.json') as f:\n",
    "    data = f.read()\n",
    "config = json.loads(data)"
   ]
  },
  {
   "cell_type": "code",
   "execution_count": 46,
   "metadata": {},
   "outputs": [],
   "source": [
    "def detect_document(path):\n",
    "    \"\"\"Detects document features in an image.\"\"\"\n",
    "\n",
    "    client = vision.ImageAnnotatorClient()\n",
    "\n",
    "    with io.open(path, 'rb') as image_file:\n",
    "        content = image_file.read()\n",
    "\n",
    "    image = vision.types.Image(content=content)\n",
    "    response = client.document_text_detection(image=image)\n",
    "    \n",
    "    word_result = []\n",
    "    for page in response.full_text_annotation.pages:\n",
    "        for block in page.blocks:\n",
    "            #print('\\nBlock confidence: {}\\n'.format(block.confidence))\n",
    "\n",
    "            for paragraph in block.paragraphs:\n",
    "                #print('Paragraph confidence: {}'.format(paragraph.confidence))\n",
    "\n",
    "                # 어절 단위로 쪼개기 (띄어쓰기 기준)\n",
    "                for word in paragraph.words:\n",
    "                    word_text = ''.join([symbol.text for symbol in word.symbols])\n",
    "                    word_result.append(word_text)\n",
    "                    #print('Word text: {} (confidence: {})'.format(word_text, word.confidence))\n",
    "                    \n",
    "                    # 음절 단위 쪼개기\n",
    "                    for symbol in word.symbols:\n",
    "                        #print('\\tSymbol: {} (confidence: {})'.format(symbol.text, symbol.confidence))\n",
    "                        pass\n",
    "    return word_result\n",
    "\n",
    "    \n",
    "    if response.error.message:\n",
    "        raise Exception(\n",
    "            '{}\\nFor more info on error messages, check: '\n",
    "            'https://cloud.google.com/apis/design/errors'.format(response.error.message))"
   ]
  },
  {
   "cell_type": "code",
   "execution_count": 47,
   "metadata": {},
   "outputs": [],
   "source": [
    "result_list = detect_document(path_dir)"
   ]
  },
  {
   "cell_type": "code",
   "execution_count": 49,
   "metadata": {},
   "outputs": [
    {
     "data": {
      "text/plain": [
       "'오전12:523월24일화요일|l693%D소)▼강의자료01(1편12345장국가▼강의자도1112345장국가=o②\"10이니지는ILIT.-2-Ep3는점같은헌법규정들사이에우열존재?우열이있다면,헌재는상위가치기반으로하위기치헌법규정을위헌선언할수있는가?S위헌적(違憲的)인헌법규정의문제상위가치로인해다른헌법규정의효력부정?6953,진인의국가배상청헌법29조2항,공무원의직무상불법행위키국민피해키정당한보상청구가능2항,군인군무원,경찰공무원기타법률이정하는자B전투훈련등직무집행과관련해에받은손해키배상청구불가1항에따르면,인리이까)서할수있어야하는데2항때문에,군인이라는신분상전투중다치면국가에손해배상천구불가능.헌법11조,국민은모든법앞에평등하다실사대상이될수?|“이념적,논리적으로는규범상호간의우열을인정할수있는것이사실이다.그러나이때인정되는우열은헌법의통일적해석에있어서는유용할것이지만,그것이헌법의어느특정규정이다른규정의효력을전면적으로부인할수있을정도의개별적헌법규정상호간에효력상의차등을의미하는것으로는볼수없다”-헌재의95헌바3의판시중2번분은고부규범구체적규범의충돌시모두이잔대를따라가란벌은없다.)0TextSelectLassoInkBoxOptions'"
      ]
     },
     "execution_count": 49,
     "metadata": {},
     "output_type": "execute_result"
    }
   ],
   "source": [
    "\"\".join(result_list)"
   ]
  },
  {
   "cell_type": "code",
   "execution_count": null,
   "metadata": {},
   "outputs": [],
   "source": []
  }
 ],
 "metadata": {
  "kernelspec": {
   "display_name": "Python 3",
   "language": "python",
   "name": "python3"
  },
  "language_info": {
   "codemirror_mode": {
    "name": "ipython",
    "version": 3
   },
   "file_extension": ".py",
   "mimetype": "text/x-python",
   "name": "python",
   "nbconvert_exporter": "python",
   "pygments_lexer": "ipython3",
   "version": "3.7.4"
  }
 },
 "nbformat": 4,
 "nbformat_minor": 2
}
