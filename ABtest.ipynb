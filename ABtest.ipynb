{
 "cells": [
  {
   "cell_type": "code",
   "execution_count": 1,
   "metadata": {},
   "outputs": [],
   "source": [
    "import pandas as pd\n",
    "import numpy as np\n",
    "\n",
    "pd.set_option('display.max_rows', 100)\n",
    "pd.set_option('display.max_columns', 100)\n",
    "\n",
    "import matplotlib\n",
    "import matplotlib.pyplot as plt  # 파이플롯 사용\n",
    "from IPython.display import set_matplotlib_formats\n",
    "\n",
    "set_matplotlib_formats('retina')  # 한글코드를 더 선명하게 해주는 조치, 레티나 설정\n",
    "matplotlib.rc('font', family='AppleGothic') # 폰트 설정\n",
    "matplotlib.rc('axes', unicode_minus=False) # 마이너스 폰트가 깨지는 경우가 있으므로 조치\n",
    "\n",
    "import seaborn as sns\n",
    "sns.set_style('whitegrid')"
   ]
  },
  {
   "cell_type": "code",
   "execution_count": 2,
   "metadata": {},
   "outputs": [],
   "source": [
    "import warnings\n",
    "warnings.filterwarnings('ignore')\n",
    "warnings.filterwarnings('ignore', 'This pattern has match groups')\n",
    "warnings.filterwarnings('ignore', 'The iterable function was deprecated in Matplotlib')\n"
   ]
  },
  {
   "cell_type": "code",
   "execution_count": 3,
   "metadata": {},
   "outputs": [],
   "source": [
    "df = pd.read_csv(\"course_page_actions.csv\", engine='python')\n"
   ]
  },
  {
   "cell_type": "code",
   "execution_count": 4,
   "metadata": {},
   "outputs": [
    {
     "data": {
      "text/html": [
       "<div>\n",
       "<style scoped>\n",
       "    .dataframe tbody tr th:only-of-type {\n",
       "        vertical-align: middle;\n",
       "    }\n",
       "\n",
       "    .dataframe tbody tr th {\n",
       "        vertical-align: top;\n",
       "    }\n",
       "\n",
       "    .dataframe thead th {\n",
       "        text-align: right;\n",
       "    }\n",
       "</style>\n",
       "<table border=\"1\" class=\"dataframe\">\n",
       "  <thead>\n",
       "    <tr style=\"text-align: right;\">\n",
       "      <th></th>\n",
       "      <th>timestamp</th>\n",
       "      <th>id</th>\n",
       "      <th>group</th>\n",
       "      <th>action</th>\n",
       "      <th>duration</th>\n",
       "    </tr>\n",
       "  </thead>\n",
       "  <tbody>\n",
       "    <tr>\n",
       "      <th>0</th>\n",
       "      <td>2016-09-24 17:14:52.012145</td>\n",
       "      <td>261869</td>\n",
       "      <td>experiment</td>\n",
       "      <td>view</td>\n",
       "      <td>130.545004</td>\n",
       "    </tr>\n",
       "    <tr>\n",
       "      <th>1</th>\n",
       "      <td>2016-09-24 18:45:09.645857</td>\n",
       "      <td>226546</td>\n",
       "      <td>experiment</td>\n",
       "      <td>view</td>\n",
       "      <td>159.862440</td>\n",
       "    </tr>\n",
       "    <tr>\n",
       "      <th>2</th>\n",
       "      <td>2016-09-24 19:16:21.002533</td>\n",
       "      <td>286353</td>\n",
       "      <td>experiment</td>\n",
       "      <td>view</td>\n",
       "      <td>79.349315</td>\n",
       "    </tr>\n",
       "    <tr>\n",
       "      <th>3</th>\n",
       "      <td>2016-09-24 19:43:06.927785</td>\n",
       "      <td>842279</td>\n",
       "      <td>experiment</td>\n",
       "      <td>view</td>\n",
       "      <td>55.536126</td>\n",
       "    </tr>\n",
       "    <tr>\n",
       "      <th>4</th>\n",
       "      <td>2016-09-24 21:08:22.790333</td>\n",
       "      <td>781883</td>\n",
       "      <td>experiment</td>\n",
       "      <td>view</td>\n",
       "      <td>204.322437</td>\n",
       "    </tr>\n",
       "  </tbody>\n",
       "</table>\n",
       "</div>"
      ],
      "text/plain": [
       "                    timestamp      id       group action    duration\n",
       "0  2016-09-24 17:14:52.012145  261869  experiment   view  130.545004\n",
       "1  2016-09-24 18:45:09.645857  226546  experiment   view  159.862440\n",
       "2  2016-09-24 19:16:21.002533  286353  experiment   view   79.349315\n",
       "3  2016-09-24 19:43:06.927785  842279  experiment   view   55.536126\n",
       "4  2016-09-24 21:08:22.790333  781883  experiment   view  204.322437"
      ]
     },
     "execution_count": 4,
     "metadata": {},
     "output_type": "execute_result"
    }
   ],
   "source": [
    "df.head()"
   ]
  },
  {
   "cell_type": "markdown",
   "metadata": {},
   "source": [
    "### group 필드 설명\n",
    "- experiment : 실험군 (새 랜딩페이지)\n",
    "- control : 대조군 (구 랜딩페이지)\n",
    "\n",
    "### action 필드 설명\n",
    "- view : 단순 노출\n",
    "- enroll : 등록 (conversion)\n",
    "\n",
    "### CTR : enroll / view"
   ]
  },
  {
   "cell_type": "code",
   "execution_count": 5,
   "metadata": {},
   "outputs": [
    {
     "data": {
      "text/plain": [
       "0.2364438839848676"
      ]
     },
     "execution_count": 5,
     "metadata": {},
     "output_type": "execute_result"
    }
   ],
   "source": [
    "# 대조군(구 랜딩페이지) CTR 실적을 보기 위해 대조군 데이터만 따로 봅니다\n",
    "#control_df = df.query('group == \"control\"')\n",
    "control_df = df.loc[df['group'] == 'control']\n",
    "\n",
    "# 대조군의 CTR을 연산(enroll / view)하고 변수에 담아줍니다\n",
    "#control_ctr = control_df.query('action == \"enroll\"').id.nunique() / control_df.query('action == \"view\"').id.nunique()\n",
    "control_ctr = control_df.loc[df['action'] == 'enroll', 'id'].nunique() / control_df.loc[df['action'] == 'view', 'id'].nunique()\n",
    "\n",
    "# Display click through rate\n",
    "control_ctr\n"
   ]
  },
  {
   "cell_type": "code",
   "execution_count": 6,
   "metadata": {},
   "outputs": [
    {
     "data": {
      "text/plain": [
       "0.2668693009118541"
      ]
     },
     "execution_count": 6,
     "metadata": {},
     "output_type": "execute_result"
    }
   ],
   "source": [
    "# 실험군(신 랜딩페이지) CTR 실적을 보기 위해 실험군 데이터만 따로 봅니다\n",
    "#experiment_df = df.query('group == \"experiment\"')\n",
    "experiment_df = df.loc[df['group'] == 'experiment']\n",
    "\n",
    "\n",
    "# 실험군의 CTR을 연산(enroll / view)하고 변수에 담아줍니다\n",
    "# experiment_ctr = experiment_df.query('action == \"enroll\"').id.nunique() / experiment_df.query('action == \"view\"').id.nunique()\n",
    "experiment_ctr = experiment_df.loc[df['action'] == 'enroll', 'id'].nunique() / experiment_df.loc[df['action'] == 'view', 'id'].nunique()\n",
    "\n",
    "\n",
    "# Display click through rate\n",
    "experiment_ctr\n"
   ]
  },
  {
   "cell_type": "code",
   "execution_count": 7,
   "metadata": {},
   "outputs": [
    {
     "data": {
      "image/png": "[encoded data removed]",
      "text/plain": [
       "<Figure size 432x288 with 1 Axes>"
      ]
     },
     "metadata": {
      "image/png": {
       "height": 248,
       "width": 378
      }
     },
     "output_type": "display_data"
    }
   ],
   "source": [
    "\n",
    "\n",
    "# 실험군과 대조군 간의 ctr 차이 (observed 관찰된 차이)를 obs_diff 변수에 담는다\n",
    "obs_diff = experiment_ctr - control_ctr\n",
    "\n",
    "# 하지만 이 차이가 통계적으로 유의미한지 검토하기 위해 부트스트랩 기법을 통해 검정한다.\n",
    "# 이 말인 즉슨, 둘의 차이들이 랜덤한 표본에서 나왔냐를 검정한다는 것\n",
    "\n",
    "# Create a sampling distribution of the difference in proportions\n",
    "# with bootstrapping\n",
    "boots_diffs = []\n",
    "\n",
    "size = df.shape[0]\n",
    "# 부트스트랩을 위해 랜덤하게 df를 섞어주자. sample()을 쓰긴 할거지만 사이즈를 원본 데이터와 같게 한다.\n",
    "for _ in range(10000):\n",
    "    bootstrap_sampling = df.sample(size, replace=True)\n",
    "    \n",
    "    control_df = bootstrap_sampling.loc[df['group'] == 'control']\n",
    "    experiment_df = bootstrap_sampling.loc[df['group'] == 'experiment']\n",
    "    control_ctr = control_df.loc[df['action'] == 'enroll', 'id'].nunique() / control_df.loc[df['action'] == 'view', 'id'].nunique()\n",
    "    experiment_ctr = experiment_df.loc[df['action'] == 'enroll', 'id'].nunique() / experiment_df.loc[df['action'] == 'view', 'id'].nunique()\n",
    "    boots_diffs.append(experiment_ctr - control_ctr)\n",
    "\n",
    "# Convert to numpy array\n",
    "boots_diffs = np.array(boots_diffs)\n",
    "\n",
    "\n",
    "# Plot sampling distribution\n",
    "plt.hist(boots_diffs);"
   ]
  },
  {
   "cell_type": "code",
   "execution_count": 8,
   "metadata": {},
   "outputs": [
    {
     "data": {
      "text/plain": [
       "0.014876146460646441"
      ]
     },
     "execution_count": 8,
     "metadata": {},
     "output_type": "execute_result"
    }
   ],
   "source": [
    "boots_diffs.std()"
   ]
  },
  {
   "cell_type": "code",
   "execution_count": 68,
   "metadata": {},
   "outputs": [
    {
     "data": {
      "text/plain": [
       "(10000,)"
      ]
     },
     "execution_count": 68,
     "metadata": {},
     "output_type": "execute_result"
    }
   ],
   "source": [
    "boots_diffs.shape"
   ]
  },
  {
   "cell_type": "code",
   "execution_count": 9,
   "metadata": {},
   "outputs": [
    {
     "data": {
      "image/png": "[encoded data removed]",
      "text/plain": [
       "<Figure size 432x288 with 1 Axes>"
      ]
     },
     "metadata": {
      "image/png": {
       "height": 248,
       "width": 378
      }
     },
     "output_type": "display_data"
    }
   ],
   "source": [
    "#귀무가설을 기반으로 하는 정규분포를 그립니다. (평균은 0 (차이가 없다), 표준편차는 부트스트랩 표본의 표준편차)\n",
    "null_values = np.random.normal(0, diffs.std(), diffs.size)\n",
    "\n",
    "# Plot the null distribution\n",
    "plt.hist(null_values);"
   ]
  },
  {
   "cell_type": "code",
   "execution_count": 10,
   "metadata": {},
   "outputs": [
    {
     "data": {
      "text/plain": [
       "<matplotlib.lines.Line2D at 0x118698590>"
      ]
     },
     "execution_count": 10,
     "metadata": {},
     "output_type": "execute_result"
    },
    {
     "data": {
      "image/png": "[encoded data removed]",
      "text/plain": [
       "<Figure size 432x288 with 1 Axes>"
      ]
     },
     "metadata": {
      "image/png": {
       "height": 248,
       "width": 378
      }
     },
     "output_type": "display_data"
    }
   ],
   "source": [
    "# 맨 처음 구했던 실험군과 대조군의 평균 CTR 차이에 해당하는 값을 빨간 선으로 표시\n",
    "\n",
    "plt.hist(null_values);\n",
    "plt.axvline(obs_diff, c='red')"
   ]
  },
  {
   "cell_type": "markdown",
   "metadata": {},
   "source": [
    "유의수준(p-value)이 0.05 미만 때, 귀무가설(구&신 랜딩페이지의 차이가 없을 것이다)을 기각\n",
    "따라서, 신 랜딩 페이지의 평균 CTR이 더 높다고 판정 내릴 수 있습니다.\n",
    "\n",
    "/t\n",
    "\n",
    "diffs : 같은 옵션으로 부트스트래핑 1만번 해본 차이들 - 여기서 표본의 표본편차 구함\n",
    "\n",
    "null_vals : 우연의 일치들 (수많은 CTR 간 차이들) - diffs의 표본편차를 적용해놓았음\n",
    "\n",
    "obs_diff : 빨간선 / 내가 AB 테스트한 결과 (CTR 간 차이 _ 평균과 평균의 차이 이므로 평균)\n",
    "\n",
    "\n",
    "/t\n",
    "\n",
    "\n",
    "표면해석 ) 내 ab 테스트 결과(CTR 차이)는 꽤 큰 편에 속한다 (우측 끝부분에 있음)\n",
    "\n",
    "해석 2단계 ) normal로 그렸으니 저건 정규분포 곡선이다. 이때 내 ab테스트 결과 부분 이상을 적분한 확률(p)이 0.05보다 작은가?\n",
    "-> 작으면 완전 레어한 상황이니 유의미하다고 판정할 수 있다\n",
    "\n",
    "/t\n",
    "\n",
    "\n",
    "귀무가설 : 우연의 일치 >= 나의 결과물\n",
    "\n",
    "대립가설(진또배기) : 우연의 일치 < 나의 결과물\n",
    "\n",
    "#### p값의 정의 : 귀무가설을 구체화한 기회 모델이 주어졌을 때, 관측된 결과와 같이 특이하거나 더 극단적인 결과를 얻을 확률\n",
    "\n",
    "여기서 특이/극단적 결과란 나의 AB테스트 결과 and 그것도바 더 특이(CTR 차이 더 큼)한 값이다\n"
   ]
  },
  {
   "cell_type": "code",
   "execution_count": 71,
   "metadata": {},
   "outputs": [
    {
     "name": "stdout",
     "output_type": "stream",
     "text": [
      "우연하게 나온 값이 관찰값보다 클 (극단적인) 상황의 확률probability은 : 0.0219\n",
      "probability에 퍼센트를 붙여서 표현하면 2.19 퍼센트인셈\n",
      "p-value란 결국 저 probability인 것이고, 5%보다 낮으니 AB 테스트의 현상은 통계적으로도 유의미하다\n"
     ]
    }
   ],
   "source": [
    "# 적분한 확률을 구해보자\n",
    "# null_values >= obs_diff(0.03...정도) 라는 표기는 불린인덱스로 true, false 판정만 array로 존나 나옴 - 이거의 .mean()으로 확률을 구함\n",
    "\n",
    "probability = (null_values >= obs_diff).mean()\n",
    "\n",
    "print(\"우연하게 나온 값이 관찰값보다 클 (극단적인) 상황의 확률probability은 :\", probability)\n",
    "print(\"probability에 퍼센트를 붙여서 표현하면 %.2f 퍼센트인셈\"%(probability*100))\n",
    "\n",
    "print(\"p-value란 결국 저 probability인 것이고, 5%보다 낮으니 AB 테스트의 현상은 통계적으로도 유의미하다\")\n",
    "\n"
   ]
  },
  {
   "cell_type": "markdown",
   "metadata": {},
   "source": [
    "아 p값이 0.02라고? 귀무가설 기각 - 그말인 즉슨 새 랜딩페이지의 CTR 차이가 유의미하다고 결론"
   ]
  },
  {
   "cell_type": "markdown",
   "metadata": {},
   "source": [
    "### 검정력, 효과크기, 표본크기 3종 세트\n",
    "\n",
    "잠깐, 이 표본 ... 사이즈 괜찮나요?\n",
    "\n",
    "p값을 구했으니 검정력, 효과크기를 통해 표본크기를 산정해봅니다\n",
    "\n",
    "\n",
    "### 효과크기에 따른 해석\n",
    "\n",
    "효과크기가 0보다 크다는 뜻은 실험군의 효과가 실제로 있다는 뜻이고\n",
    "더 정확히 말하자면 실험군(새 랜딩페이지의 CTR)의 평균이 대조군의 평균보다 높다는 뜻입니다.\n",
    "\n",
    "평균이 좋으니 CTR 실적들도 대체로 좋다는 뜻입니다.\n",
    "\n",
    "역으로 내가 CTR을 기존의 것보다 새 랜딩페이지로 30% 정도 끌어올리고 싶다면 효과크기를 0.7로 형성하면 되는 것입니다.\n",
    "\n",
    "*단, 효과크기가 작은만큼 더 많은 표본이 필요하고 까다롭다는 걸 잊지마세요\n"
   ]
  },
  {
   "cell_type": "code",
   "execution_count": 40,
   "metadata": {},
   "outputs": [],
   "source": [
    "import statsmodels.api as sm\n",
    "from statsmodels.stats.power import TTestIndPower\n",
    "from statsmodels.stats.proportion import proportions_ztest\n",
    "\n",
    "import scipy.stats as st  # z-score를 확률로 계산할 때 쓰임"
   ]
  },
  {
   "cell_type": "code",
   "execution_count": 84,
   "metadata": {},
   "outputs": [
    {
     "data": {
      "text/html": [
       "<div>\n",
       "<style scoped>\n",
       "    .dataframe tbody tr th:only-of-type {\n",
       "        vertical-align: middle;\n",
       "    }\n",
       "\n",
       "    .dataframe tbody tr th {\n",
       "        vertical-align: top;\n",
       "    }\n",
       "\n",
       "    .dataframe thead th {\n",
       "        text-align: right;\n",
       "    }\n",
       "</style>\n",
       "<table border=\"1\" class=\"dataframe\">\n",
       "  <thead>\n",
       "    <tr style=\"text-align: right;\">\n",
       "      <th></th>\n",
       "      <th>timestamp</th>\n",
       "      <th>id</th>\n",
       "      <th>group</th>\n",
       "      <th>action</th>\n",
       "      <th>duration</th>\n",
       "    </tr>\n",
       "  </thead>\n",
       "  <tbody>\n",
       "    <tr>\n",
       "      <th>0</th>\n",
       "      <td>2016-09-24 17:14:52.012145</td>\n",
       "      <td>261869</td>\n",
       "      <td>experiment</td>\n",
       "      <td>view</td>\n",
       "      <td>130.545004</td>\n",
       "    </tr>\n",
       "    <tr>\n",
       "      <th>1</th>\n",
       "      <td>2016-09-24 18:45:09.645857</td>\n",
       "      <td>226546</td>\n",
       "      <td>experiment</td>\n",
       "      <td>view</td>\n",
       "      <td>159.862440</td>\n",
       "    </tr>\n",
       "    <tr>\n",
       "      <th>2</th>\n",
       "      <td>2016-09-24 19:16:21.002533</td>\n",
       "      <td>286353</td>\n",
       "      <td>experiment</td>\n",
       "      <td>view</td>\n",
       "      <td>79.349315</td>\n",
       "    </tr>\n",
       "    <tr>\n",
       "      <th>3</th>\n",
       "      <td>2016-09-24 19:43:06.927785</td>\n",
       "      <td>842279</td>\n",
       "      <td>experiment</td>\n",
       "      <td>view</td>\n",
       "      <td>55.536126</td>\n",
       "    </tr>\n",
       "    <tr>\n",
       "      <th>4</th>\n",
       "      <td>2016-09-24 21:08:22.790333</td>\n",
       "      <td>781883</td>\n",
       "      <td>experiment</td>\n",
       "      <td>view</td>\n",
       "      <td>204.322437</td>\n",
       "    </tr>\n",
       "    <tr>\n",
       "      <th>...</th>\n",
       "      <td>...</td>\n",
       "      <td>...</td>\n",
       "      <td>...</td>\n",
       "      <td>...</td>\n",
       "      <td>...</td>\n",
       "    </tr>\n",
       "    <tr>\n",
       "      <th>4069</th>\n",
       "      <td>2017-01-18 09:39:08.046251</td>\n",
       "      <td>931490</td>\n",
       "      <td>control</td>\n",
       "      <td>view</td>\n",
       "      <td>58.846204</td>\n",
       "    </tr>\n",
       "    <tr>\n",
       "      <th>4070</th>\n",
       "      <td>2017-01-18 09:44:15.239671</td>\n",
       "      <td>410222</td>\n",
       "      <td>experiment</td>\n",
       "      <td>enroll</td>\n",
       "      <td>101.231821</td>\n",
       "    </tr>\n",
       "    <tr>\n",
       "      <th>4071</th>\n",
       "      <td>2017-01-18 09:56:26.948171</td>\n",
       "      <td>364458</td>\n",
       "      <td>control</td>\n",
       "      <td>view</td>\n",
       "      <td>293.490566</td>\n",
       "    </tr>\n",
       "    <tr>\n",
       "      <th>4072</th>\n",
       "      <td>2017-01-18 10:10:18.293253</td>\n",
       "      <td>443603</td>\n",
       "      <td>experiment</td>\n",
       "      <td>view</td>\n",
       "      <td>149.026959</td>\n",
       "    </tr>\n",
       "    <tr>\n",
       "      <th>4073</th>\n",
       "      <td>2017-01-18 10:38:20.939958</td>\n",
       "      <td>540111</td>\n",
       "      <td>experiment</td>\n",
       "      <td>view</td>\n",
       "      <td>62.039341</td>\n",
       "    </tr>\n",
       "  </tbody>\n",
       "</table>\n",
       "<p>4074 rows × 5 columns</p>\n",
       "</div>"
      ],
      "text/plain": [
       "                       timestamp      id       group  action    duration\n",
       "0     2016-09-24 17:14:52.012145  261869  experiment    view  130.545004\n",
       "1     2016-09-24 18:45:09.645857  226546  experiment    view  159.862440\n",
       "2     2016-09-24 19:16:21.002533  286353  experiment    view   79.349315\n",
       "3     2016-09-24 19:43:06.927785  842279  experiment    view   55.536126\n",
       "4     2016-09-24 21:08:22.790333  781883  experiment    view  204.322437\n",
       "...                          ...     ...         ...     ...         ...\n",
       "4069  2017-01-18 09:39:08.046251  931490     control    view   58.846204\n",
       "4070  2017-01-18 09:44:15.239671  410222  experiment  enroll  101.231821\n",
       "4071  2017-01-18 09:56:26.948171  364458     control    view  293.490566\n",
       "4072  2017-01-18 10:10:18.293253  443603  experiment    view  149.026959\n",
       "4073  2017-01-18 10:38:20.939958  540111  experiment    view   62.039341\n",
       "\n",
       "[4074 rows x 5 columns]"
      ]
     },
     "execution_count": 84,
     "metadata": {},
     "output_type": "execute_result"
    }
   ],
   "source": [
    "df"
   ]
  },
  {
   "cell_type": "code",
   "execution_count": 64,
   "metadata": {},
   "outputs": [
    {
     "name": "stdout",
     "output_type": "stream",
     "text": [
      "새 랜딩페이지의 p 값은 : 0.022\n",
      "새 랜딩페이지의 효과크기(ES)는 : 0.061\n",
      "효과크기는 Z 값이며, 이를 통해 실험군의 평균은 대조군 평균의 52.414 퍼센트에 해당함을 파악\n"
     ]
    }
   ],
   "source": [
    "p_value = probability\n",
    "effect_size = sm.stats.proportion_effectsize(experiment_ctr, control_ctr)\n",
    "\n",
    "print(\"새 랜딩페이지의 p 값은 : %.3f\"%(probability))\n",
    "print(\"새 랜딩페이지의 효과크기(ES)는 : %.3f\"%(effect_size))\n",
    "\n",
    "print(\"효과크기는 Z 값이며, 이를 통해 실험군의 평균은 대조군 평균의 %.3f 퍼센트에 해당함을 파악\"%(st.norm.cdf(effect_size)*100))\n"
   ]
  },
  {
   "cell_type": "code",
   "execution_count": 51,
   "metadata": {},
   "outputs": [
    {
     "name": "stdout",
     "output_type": "stream",
     "text": [
      "AB테스트에 필요한 표본 사이즈는: 4361.4개\n",
      "방금 진행한 테스트 표본 사이즈는: 4074개\n",
      "따라서 287.4개 만큼 표본을 늘려서 테스트해야합니다\n"
     ]
    }
   ],
   "source": [
    "# parameters for the analysis \n",
    "effect_size = 0.06\n",
    "alpha = 0.05 # significance level, p_value\n",
    "power = 0.8\n",
    "\n",
    "power_analysis = TTestIndPower()\n",
    "sample_size = power_analysis.solve_power(effect_size = effect_size,\n",
    "                                         power = power,\n",
    "                                         alpha = alpha)\n",
    "\n",
    "print('AB테스트에 필요한 표본 사이즈는: {0:.1f}개'.format(sample_size))\n",
    "print('방금 진행한 테스트 표본 사이즈는: {}개'.format(df.shape[0]))\n",
    "print('따라서 {0:.1f}개 만큼 표본을 늘려서 테스트해야합니다'.format(sample_size - df.shape[0]))\n",
    "\n"
   ]
  },
  {
   "cell_type": "markdown",
   "metadata": {},
   "source": [
    "### 효과크기와 표본크기 해석하기\n",
    "\n",
    "- 효과크기가 0.06 나왔다는 것은 새 랜딩페이지의 CTR은 구 랜딩페이지 CTR보다 0.52배 좋은 것이다."
   ]
  },
  {
   "cell_type": "markdown",
   "metadata": {},
   "source": [
    "효과 크기를 무시한 유의성 검정\n",
    "과연 “두 실험군의 차이는 비슷해보이는데 통계적으로 유의한 차이를 얻으면 더 좋을까?” 효과 크기(effect size)가 작다면, 아무리 통계적으로 유의한 차이가 있더라도 현실에서 큰 의미가 없다. 두 실험군 사이의 전환율 차이가 0.17%인 위의 예시로 돌아가 보자. 과연 현실에서 이 정도의 전환율 차이가 큰 의미를 가질까?\n",
    "\n",
    "해당 실험을 하루 평균 구매 고객이 1000명인 홈페이지에서 했다고 가정하자. 0.17%의 전환율 상승이 가져오는 구매 고객 증가는 하루 평균 1.7명이다. 만약 구매 고객당 평균 매출액이 1만원이라면 0.17%의 전환율 상승은 평균적으로 하루에 17,000원 매출 상승을 의미한다.\n",
    "\n",
    "같은 전환율 상승을 하루 평균 구매 고객이 100만 명인 회사에서 거둔다면 이야기는 달라진다. 0.17%의 전환율 상승은 하루 평균 1,700명의 추가 구매 고객을 의미하며, 1만원씩 구매를 한다면 하루에 1,700만원의 추가 매출이 생긴다.\n",
    "\n",
    "중요한 것은 해당 효과가 현실에서 어느 정도의 가치를 의미하는지 아는 것이다. 0.1%의 전환율 상승이 중요하다면 해당 효과 크기에서의 유의성 확보는 매우 중요하다. 반대로 최소한 10%의 전환율 상승이 있어야 실험의 비용을 감당할 수 있는 상황이라면 0.17%의 효과에 대해서 유의성을 확보하기 위한 노력은 불필요하다.\n",
    "\n",
    "위의 예시에서 본 것처럼, 실험 크기를 증가시키면 아주 작은 효과 크기에 대해서도 유의성을 확보할 수 있다. 즉, 없는데 있다고 판단할 오류를 배제할 수 있다. 하지만 아주 작은 효과 밖에 없다면, 과연 그 효과가 ‘없는데 있다고 판단할 오류’를 범하지 않기 위해 애쓸 필요가 있을까? 그 정도 차이는 있어도 소용 없으니 차라리 다른 실험을 준비하는 편이 낫다."
   ]
  },
  {
   "cell_type": "code",
   "execution_count": 66,
   "metadata": {},
   "outputs": [
    {
     "data": {
      "text/plain": [
       "0.5239221826541068"
      ]
     },
     "execution_count": 66,
     "metadata": {},
     "output_type": "execute_result"
    }
   ],
   "source": [
    "st.norm.cdf(0.06)"
   ]
  },
  {
   "cell_type": "code",
   "execution_count": 72,
   "metadata": {},
   "outputs": [
    {
     "data": {
      "text/plain": [
       "0.5244005127080407"
      ]
     },
     "execution_count": 72,
     "metadata": {},
     "output_type": "execute_result"
    }
   ],
   "source": [
    "st.norm.ppf(.70)"
   ]
  },
  {
   "cell_type": "code",
   "execution_count": 82,
   "metadata": {},
   "outputs": [
    {
     "data": {
      "text/plain": [
       "0.0605456093950425"
      ]
     },
     "execution_count": 82,
     "metadata": {},
     "output_type": "execute_result"
    }
   ],
   "source": [
    "sm.stats.proportion_effectsize(experiment_ctr, control_ctr)\n"
   ]
  },
  {
   "cell_type": "code",
   "execution_count": 85,
   "metadata": {},
   "outputs": [
    {
     "data": {
      "text/plain": [
       "0.2693050193050193"
      ]
     },
     "execution_count": 85,
     "metadata": {},
     "output_type": "execute_result"
    }
   ],
   "source": [
    "experiment_ctr"
   ]
  },
  {
   "cell_type": "code",
   "execution_count": 86,
   "metadata": {},
   "outputs": [
    {
     "data": {
      "text/plain": [
       "0.24288617886178862"
      ]
     },
     "execution_count": 86,
     "metadata": {},
     "output_type": "execute_result"
    }
   ],
   "source": [
    "control_ctr"
   ]
  },
  {
   "cell_type": "code",
   "execution_count": null,
   "metadata": {},
   "outputs": [],
   "source": []
  }
 ],
 "metadata": {
  "kernelspec": {
   "display_name": "Python 3",
   "language": "python",
   "name": "python3"
  },
  "language_info": {
   "codemirror_mode": {
    "name": "ipython",
    "version": 3
   },
   "file_extension": ".py",
   "mimetype": "text/x-python",
   "name": "python",
   "nbconvert_exporter": "python",
   "pygments_lexer": "ipython3",
   "version": "3.7.4"
  }
 },
 "nbformat": 4,
 "nbformat_minor": 2
}
